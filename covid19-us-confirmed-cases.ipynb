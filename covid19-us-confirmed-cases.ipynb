{
 "cells": [
  {
   "cell_type": "code",
   "execution_count": 14,
   "metadata": {},
   "outputs": [],
   "source": [
    "import plotly.graph_objects as go\n",
    "import pandas as pd\n",
    "import os"
   ]
  },
  {
   "cell_type": "code",
   "execution_count": 15,
   "metadata": {},
   "outputs": [],
   "source": [
    "if not os.path.exists(\"images\"):\n",
    "    os.mkdir(\"images\")\n",
    "\n",
    "df = pd.read_csv(\"confirmed-cases.csv\")\n",
    "    \n",
    "days = list(df.columns[11:df.shape[1]])"
   ]
  },
  {
   "cell_type": "code",
   "execution_count": 16,
   "metadata": {},
   "outputs": [],
   "source": [
    "for day in days:\n",
    "    fig = go.Figure()\n",
    "    \n",
    "    fig.add_trace(\n",
    "        go.Scattergeo(\n",
    "            locationmode = 'USA-states',\n",
    "            lon = df['Long_'],\n",
    "            lat = df['Lat'],\n",
    "            text = df['Admin2'] + ', ' + df['Province_State'] + ' ... ' + df[day].apply(str),\n",
    "            marker = dict(\n",
    "                size = df[day] / 50,\n",
    "                color = 'red',\n",
    "                line_color='rgb(40,40,40)',\n",
    "                line_width=0.5,\n",
    "                sizemode = 'area'\n",
    "            )\n",
    "        )\n",
    "    )\n",
    "\n",
    "    fig.update_layout(\n",
    "        title_text = 'COVID-19 Confirmed Cases in the United States on ' + day,\n",
    "        geo = dict(\n",
    "            scope = 'usa',\n",
    "            landcolor = 'rgb(217, 217, 217)',\n",
    "        )\n",
    "    )\n",
    "\n",
    "    fig.write_image(\"images/\" + day.replace('/', '-') + \".jpg\")"
   ]
  },
  {
   "cell_type": "code",
   "execution_count": null,
   "metadata": {},
   "outputs": [],
   "source": []
  }
 ],
 "metadata": {
  "kernelspec": {
   "display_name": "Python 3",
   "language": "python",
   "name": "python3"
  },
  "language_info": {
   "codemirror_mode": {
    "name": "ipython",
    "version": 3
   },
   "file_extension": ".py",
   "mimetype": "text/x-python",
   "name": "python",
   "nbconvert_exporter": "python",
   "pygments_lexer": "ipython3",
   "version": "3.7.6"
  }
 },
 "nbformat": 4,
 "nbformat_minor": 4
}
