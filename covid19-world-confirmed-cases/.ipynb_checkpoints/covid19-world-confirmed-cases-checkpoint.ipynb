{
 "cells": [
  {
   "cell_type": "code",
   "execution_count": 16,
   "metadata": {},
   "outputs": [],
   "source": [
    "import plotly.graph_objects as go\n",
    "import plotly.express as px\n",
    "import pandas as pd"
   ]
  },
  {
   "cell_type": "code",
   "execution_count": 17,
   "metadata": {},
   "outputs": [],
   "source": [
    "# Retrieve data from .csv file\n",
    "df = pd.read_csv(\"confirmed-cases.csv\")"
   ]
  },
  {
   "cell_type": "code",
   "execution_count": 18,
   "metadata": {},
   "outputs": [
    {
     "data": {
      "application/vnd.plotly.v1+json": {
       "config": {
        "plotlyServerURL": "https://plot.ly"
       },
       "data": [
        {
         "geo": "geo",
         "hovertemplate": "<b>%{hovertext}</b><br><br>Country/Region=Afghanistan<br>5/31/20=%{marker.size}<br>Lat=%{lat}<br>Long=%{lon}<extra></extra>",
         "hovertext": [
          "Afghanistan"
         ],
         "lat": [
          33
         ],
         "legendgroup": "Afghanistan",
         "lon": [
          65
         ],
         "marker": {
          "color": "#636efa",
          "size": [
           15205
          ],
          "sizemode": "area",
          "sizeref": 318.2528
         },
         "name": "Afghanistan",
         "showlegend": true,
         "type": "scattergeo"
        },
        {
         "geo": "geo",
         "hovertemplate": "<b>%{hovertext}</b><br><br>Country/Region=Albania<br>5/31/20=%{marker.size}<br>Lat=%{lat}<br>Long=%{lon}<extra></extra>",
         "hovertext": [
          "Albania"
         ],
         "lat": [
          41.1533
         ],
         "legendgroup": "Albania",
         "lon": [
          20.1683
         ],
         "marker": {
          "color": "#EF553B",
          "size": [
           1137
          ],
          "sizemode": "area",
          "sizeref": 318.2528
         },
         "name": "Albania",
         "showlegend": true,
         "type": "scattergeo"
        },
        {
         "geo": "geo",
         "hovertemplate": "<b>%{hovertext}</b><br><br>Country/Region=Algeria<br>5/31/20=%{marker.size}<br>Lat=%{lat}<br>Long=%{lon}<extra></extra>",
         "hovertext": [
          "Algeria"
         ],
         "lat": [
          28.0339
         ],
         "legendgroup": "Algeria",
         "lon": [
          1.6596
         ],
         "marker": {
          "color": "#00cc96",
          "size": [
           9394
          ],
          "sizemode": "area",
          "sizeref": 318.2528
         },
         "name": "Algeria",
         "showlegend": true,
         "type": "scattergeo"
        },
        {
         "geo": "geo",
         "hovertemplate": "<b>%{hovertext}</b><br><br>Country/Region=Andorra<br>5/31/20=%{marker.size}<br>Lat=%{lat}<br>Long=%{lon}<extra></extra>",
         "hovertext": [
          "Andorra"
         ],
         "lat": [
          42.5063
         ],
         "legendgroup": "Andorra",
         "lon": [
          1.5218
         ],
         "marker": {
          "color": "#ab63fa",
          "size": [
           764
          ],
          "sizemode": "area",
          "sizeref": 318.2528
         },
         "name": "Andorra",
         "showlegend": true,
         "type": "scattergeo"
        },
        {
         "geo": "geo",
         "hovertemplate": "<b>%{hovertext}</b><br><br>Country/Region=Angola<br>5/31/20=%{marker.size}<br>Lat=%{lat}<br>Long=%{lon}<extra></extra>",
         "hovertext": [
          "Angola"
         ],
         "lat": [
          -11.2027
         ],
         "legendgroup": "Angola",
         "lon": [
          17.8739
         ],
         "marker": {
          "color": "#FFA15A",
          "size": [
           86
          ],
          "sizemode": "area",
          "sizeref": 318.2528
         },
         "name": "Angola",
         "showlegend": true,
         "type": "scattergeo"
        },
        {
         "geo": "geo",
         "hovertemplate": "<b>%{hovertext}</b><br><br>Country/Region=Antigua and Barbuda<br>5/31/20=%{marker.size}<br>Lat=%{lat}<br>Long=%{lon}<extra></extra>",
         "hovertext": [
          "Antigua and Barbuda"
         ],
         "lat": [
          17.0608
         ],
         "legendgroup": "Antigua and Barbuda",
         "lon": [
          -61.7964
         ],
         "marker": {
          "color": "#19d3f3",
          "size": [
           26
          ],
          "sizemode": "area",
          "sizeref": 318.2528
         },
         "name": "Antigua and Barbuda",
         "showlegend": true,
         "type": "scattergeo"
        },
        {
         "geo": "geo",
         "hovertemplate": "<b>%{hovertext}</b><br><br>Country/Region=Argentina<br>5/31/20=%{marker.size}<br>Lat=%{lat}<br>Long=%{lon}<extra></extra>",
         "hovertext": [
          "Argentina"
         ],
         "lat": [
          -38.4161
         ],
         "legendgroup": "Argentina",
         "lon": [
          -63.6167
         ],
         "marker": {
          "color": "#FF6692",
          "size": [
           16851
          ],
          "sizemode": "area",
          "sizeref": 318.2528
         },
         "name": "Argentina",
         "showlegend": true,
         "type": "scattergeo"
        },
        {
         "geo": "geo",
         "hovertemplate": "<b>%{hovertext}</b><br><br>Country/Region=Armenia<br>5/31/20=%{marker.size}<br>Lat=%{lat}<br>Long=%{lon}<extra></extra>",
         "hovertext": [
          "Armenia"
         ],
         "lat": [
          40.0691
         ],
         "legendgroup": "Armenia",
         "lon": [
          45.0382
         ],
         "marker": {
          "color": "#B6E880",
          "size": [
           9282
          ],
          "sizemode": "area",
          "sizeref": 318.2528
         },
         "name": "Armenia",
         "showlegend": true,
         "type": "scattergeo"
        },
        {
         "geo": "geo",
         "hovertemplate": "<b>%{hovertext}</b><br><br>Country/Region=Australia<br>5/31/20=%{marker.size}<br>Lat=%{lat}<br>Long=%{lon}<extra></extra>",
         "hovertext": [
          "Australia",
          "Australia",
          "Australia",
          "Australia",
          "Australia",
          "Australia",
          "Australia",
          "Australia"
         ],
         "lat": [
          -35.4735,
          -33.8688,
          -12.4634,
          -28.0167,
          -34.9285,
          -41.4545,
          -37.8136,
          -31.9505
         ],
         "legendgroup": "Australia",
         "lon": [
          149.0124,
          151.2093,
          130.8456,
          153.4,
          138.6007,
          145.9707,
          144.9631,
          115.8605
         ],
         "marker": {
          "color": "#FF97FF",
          "size": [
           107,
           3098,
           29,
           1058,
           440,
           228,
           1653,
           589
          ],
          "sizemode": "area",
          "sizeref": 318.2528
         },
         "name": "Australia",
         "showlegend": true,
         "type": "scattergeo"
        },
        {
         "geo": "geo",
         "hovertemplate": "<b>%{hovertext}</b><br><br>Country/Region=Austria<br>5/31/20=%{marker.size}<br>Lat=%{lat}<br>Long=%{lon}<extra></extra>",
         "hovertext": [
          "Austria"
         ],
         "lat": [
          47.5162
         ],
         "legendgroup": "Austria",
         "lon": [
          14.5501
         ],
         "marker": {
          "color": "#FECB52",
          "size": [
           16731
          ],
          "sizemode": "area",
          "sizeref": 318.2528
         },
         "name": "Austria",
         "showlegend": true,
         "type": "scattergeo"
        },
        {
         "geo": "geo",
         "hovertemplate": "<b>%{hovertext}</b><br><br>Country/Region=Azerbaijan<br>5/31/20=%{marker.size}<br>Lat=%{lat}<br>Long=%{lon}<extra></extra>",
         "hovertext": [
          "Azerbaijan"
         ],
         "lat": [
          40.1431
         ],
         "legendgroup": "Azerbaijan",
         "lon": [
          47.5769
         ],
         "marker": {
          "color": "#636efa",
          "size": [
           5494
          ],
          "sizemode": "area",
          "sizeref": 318.2528
         },
         "name": "Azerbaijan",
         "showlegend": true,
         "type": "scattergeo"
        },
        {
         "geo": "geo",
         "hovertemplate": "<b>%{hovertext}</b><br><br>Country/Region=Bahamas<br>5/31/20=%{marker.size}<br>Lat=%{lat}<br>Long=%{lon}<extra></extra>",
         "hovertext": [
          "Bahamas"
         ],
         "lat": [
          25.0343
         ],
         "legendgroup": "Bahamas",
         "lon": [
          -77.3963
         ],
         "marker": {
          "color": "#EF553B",
          "size": [
           102
          ],
          "sizemode": "area",
          "sizeref": 318.2528
         },
         "name": "Bahamas",
         "showlegend": true,
         "type": "scattergeo"
        },
        {
         "geo": "geo",
         "hovertemplate": "<b>%{hovertext}</b><br><br>Country/Region=Bahrain<br>5/31/20=%{marker.size}<br>Lat=%{lat}<br>Long=%{lon}<extra></extra>",
         "hovertext": [
          "Bahrain"
         ],
         "lat": [
          26.0275
         ],
         "legendgroup": "Bahrain",
         "lon": [
          50.55
         ],
         "marker": {
          "color": "#00cc96",
          "size": [
           11398
          ],
          "sizemode": "area",
          "sizeref": 318.2528
         },
         "name": "Bahrain",
         "showlegend": true,
         "type": "scattergeo"
        },
        {
         "geo": "geo",
         "hovertemplate": "<b>%{hovertext}</b><br><br>Country/Region=Bangladesh<br>5/31/20=%{marker.size}<br>Lat=%{lat}<br>Long=%{lon}<extra></extra>",
         "hovertext": [
          "Bangladesh"
         ],
         "lat": [
          23.685
         ],
         "legendgroup": "Bangladesh",
         "lon": [
          90.3563
         ],
         "marker": {
          "color": "#ab63fa",
          "size": [
           47153
          ],
          "sizemode": "area",
          "sizeref": 318.2528
         },
         "name": "Bangladesh",
         "showlegend": true,
         "type": "scattergeo"
        },
        {
         "geo": "geo",
         "hovertemplate": "<b>%{hovertext}</b><br><br>Country/Region=Barbados<br>5/31/20=%{marker.size}<br>Lat=%{lat}<br>Long=%{lon}<extra></extra>",
         "hovertext": [
          "Barbados"
         ],
         "lat": [
          13.1939
         ],
         "legendgroup": "Barbados",
         "lon": [
          -59.5432
         ],
         "marker": {
          "color": "#FFA15A",
          "size": [
           92
          ],
          "sizemode": "area",
          "sizeref": 318.2528
         },
         "name": "Barbados",
         "showlegend": true,
         "type": "scattergeo"
        },
        {
         "geo": "geo",
         "hovertemplate": "<b>%{hovertext}</b><br><br>Country/Region=Belarus<br>5/31/20=%{marker.size}<br>Lat=%{lat}<br>Long=%{lon}<extra></extra>",
         "hovertext": [
          "Belarus"
         ],
         "lat": [
          53.7098
         ],
         "legendgroup": "Belarus",
         "lon": [
          27.9534
         ],
         "marker": {
          "color": "#19d3f3",
          "size": [
           42556
          ],
          "sizemode": "area",
          "sizeref": 318.2528
         },
         "name": "Belarus",
         "showlegend": true,
         "type": "scattergeo"
        },
        {
         "geo": "geo",
         "hovertemplate": "<b>%{hovertext}</b><br><br>Country/Region=Belgium<br>5/31/20=%{marker.size}<br>Lat=%{lat}<br>Long=%{lon}<extra></extra>",
         "hovertext": [
          "Belgium"
         ],
         "lat": [
          50.8333
         ],
         "legendgroup": "Belgium",
         "lon": [
          4
         ],
         "marker": {
          "color": "#FF6692",
          "size": [
           58381
          ],
          "sizemode": "area",
          "sizeref": 318.2528
         },
         "name": "Belgium",
         "showlegend": true,
         "type": "scattergeo"
        },
        {
         "geo": "geo",
         "hovertemplate": "<b>%{hovertext}</b><br><br>Country/Region=Benin<br>5/31/20=%{marker.size}<br>Lat=%{lat}<br>Long=%{lon}<extra></extra>",
         "hovertext": [
          "Benin"
         ],
         "lat": [
          9.3077
         ],
         "legendgroup": "Benin",
         "lon": [
          2.3158
         ],
         "marker": {
          "color": "#B6E880",
          "size": [
           232
          ],
          "sizemode": "area",
          "sizeref": 318.2528
         },
         "name": "Benin",
         "showlegend": true,
         "type": "scattergeo"
        },
        {
         "geo": "geo",
         "hovertemplate": "<b>%{hovertext}</b><br><br>Country/Region=Bhutan<br>5/31/20=%{marker.size}<br>Lat=%{lat}<br>Long=%{lon}<extra></extra>",
         "hovertext": [
          "Bhutan"
         ],
         "lat": [
          27.5142
         ],
         "legendgroup": "Bhutan",
         "lon": [
          90.4336
         ],
         "marker": {
          "color": "#FF97FF",
          "size": [
           43
          ],
          "sizemode": "area",
          "sizeref": 318.2528
         },
         "name": "Bhutan",
         "showlegend": true,
         "type": "scattergeo"
        },
        {
         "geo": "geo",
         "hovertemplate": "<b>%{hovertext}</b><br><br>Country/Region=Bolivia<br>5/31/20=%{marker.size}<br>Lat=%{lat}<br>Long=%{lon}<extra></extra>",
         "hovertext": [
          "Bolivia"
         ],
         "lat": [
          -16.2902
         ],
         "legendgroup": "Bolivia",
         "lon": [
          -63.5887
         ],
         "marker": {
          "color": "#FECB52",
          "size": [
           9982
          ],
          "sizemode": "area",
          "sizeref": 318.2528
         },
         "name": "Bolivia",
         "showlegend": true,
         "type": "scattergeo"
        },
        {
         "geo": "geo",
         "hovertemplate": "<b>%{hovertext}</b><br><br>Country/Region=Bosnia and Herzegovina<br>5/31/20=%{marker.size}<br>Lat=%{lat}<br>Long=%{lon}<extra></extra>",
         "hovertext": [
          "Bosnia and Herzegovina"
         ],
         "lat": [
          43.9159
         ],
         "legendgroup": "Bosnia and Herzegovina",
         "lon": [
          17.6791
         ],
         "marker": {
          "color": "#636efa",
          "size": [
           2510
          ],
          "sizemode": "area",
          "sizeref": 318.2528
         },
         "name": "Bosnia and Herzegovina",
         "showlegend": true,
         "type": "scattergeo"
        },
        {
         "geo": "geo",
         "hovertemplate": "<b>%{hovertext}</b><br><br>Country/Region=Brazil<br>5/31/20=%{marker.size}<br>Lat=%{lat}<br>Long=%{lon}<extra></extra>",
         "hovertext": [
          "Brazil"
         ],
         "lat": [
          -14.235
         ],
         "legendgroup": "Brazil",
         "lon": [
          -51.9253
         ],
         "marker": {
          "color": "#EF553B",
          "size": [
           514849
          ],
          "sizemode": "area",
          "sizeref": 318.2528
         },
         "name": "Brazil",
         "showlegend": true,
         "type": "scattergeo"
        },
        {
         "geo": "geo",
         "hovertemplate": "<b>%{hovertext}</b><br><br>Country/Region=Brunei<br>5/31/20=%{marker.size}<br>Lat=%{lat}<br>Long=%{lon}<extra></extra>",
         "hovertext": [
          "Brunei"
         ],
         "lat": [
          4.5353
         ],
         "legendgroup": "Brunei",
         "lon": [
          114.7277
         ],
         "marker": {
          "color": "#00cc96",
          "size": [
           141
          ],
          "sizemode": "area",
          "sizeref": 318.2528
         },
         "name": "Brunei",
         "showlegend": true,
         "type": "scattergeo"
        },
        {
         "geo": "geo",
         "hovertemplate": "<b>%{hovertext}</b><br><br>Country/Region=Bulgaria<br>5/31/20=%{marker.size}<br>Lat=%{lat}<br>Long=%{lon}<extra></extra>",
         "hovertext": [
          "Bulgaria"
         ],
         "lat": [
          42.7339
         ],
         "legendgroup": "Bulgaria",
         "lon": [
          25.4858
         ],
         "marker": {
          "color": "#ab63fa",
          "size": [
           2513
          ],
          "sizemode": "area",
          "sizeref": 318.2528
         },
         "name": "Bulgaria",
         "showlegend": true,
         "type": "scattergeo"
        },
        {
         "geo": "geo",
         "hovertemplate": "<b>%{hovertext}</b><br><br>Country/Region=Burkina Faso<br>5/31/20=%{marker.size}<br>Lat=%{lat}<br>Long=%{lon}<extra></extra>",
         "hovertext": [
          "Burkina Faso"
         ],
         "lat": [
          12.2383
         ],
         "legendgroup": "Burkina Faso",
         "lon": [
          -1.5616
         ],
         "marker": {
          "color": "#FFA15A",
          "size": [
           847
          ],
          "sizemode": "area",
          "sizeref": 318.2528
         },
         "name": "Burkina Faso",
         "showlegend": true,
         "type": "scattergeo"
        },
        {
         "geo": "geo",
         "hovertemplate": "<b>%{hovertext}</b><br><br>Country/Region=Cabo Verde<br>5/31/20=%{marker.size}<br>Lat=%{lat}<br>Long=%{lon}<extra></extra>",
         "hovertext": [
          "Cabo Verde"
         ],
         "lat": [
          16.5388
         ],
         "legendgroup": "Cabo Verde",
         "lon": [
          -23.0418
         ],
         "marker": {
          "color": "#19d3f3",
          "size": [
           435
          ],
          "sizemode": "area",
          "sizeref": 318.2528
         },
         "name": "Cabo Verde",
         "showlegend": true,
         "type": "scattergeo"
        },
        {
         "geo": "geo",
         "hovertemplate": "<b>%{hovertext}</b><br><br>Country/Region=Cambodia<br>5/31/20=%{marker.size}<br>Lat=%{lat}<br>Long=%{lon}<extra></extra>",
         "hovertext": [
          "Cambodia"
         ],
         "lat": [
          11.55
         ],
         "legendgroup": "Cambodia",
         "lon": [
          104.9167
         ],
         "marker": {
          "color": "#FF6692",
          "size": [
           125
          ],
          "sizemode": "area",
          "sizeref": 318.2528
         },
         "name": "Cambodia",
         "showlegend": true,
         "type": "scattergeo"
        },
        {
         "geo": "geo",
         "hovertemplate": "<b>%{hovertext}</b><br><br>Country/Region=Cameroon<br>5/31/20=%{marker.size}<br>Lat=%{lat}<br>Long=%{lon}<extra></extra>",
         "hovertext": [
          "Cameroon"
         ],
         "lat": [
          3.8480000000000003
         ],
         "legendgroup": "Cameroon",
         "lon": [
          11.5021
         ],
         "marker": {
          "color": "#B6E880",
          "size": [
           5904
          ],
          "sizemode": "area",
          "sizeref": 318.2528
         },
         "name": "Cameroon",
         "showlegend": true,
         "type": "scattergeo"
        },
        {
         "geo": "geo",
         "hovertemplate": "<b>%{hovertext}</b><br><br>Country/Region=Canada<br>5/31/20=%{marker.size}<br>Lat=%{lat}<br>Long=%{lon}<extra></extra>",
         "hovertext": [
          "Canada",
          "Canada",
          "Canada",
          "Canada",
          "Canada",
          "Canada",
          "Canada",
          "Canada",
          "Canada",
          "Canada",
          "Canada",
          "Canada",
          "Canada",
          "Canada"
         ],
         "lat": [
          53.9333,
          49.2827,
          37.6489,
          53.7609,
          46.5653,
          53.1355,
          44.681999999999995,
          51.2538,
          46.5107,
          52.9399,
          52.9399,
          0,
          64.8255,
          64.2823
         ],
         "legendgroup": "Canada",
         "lon": [
          -116.5765,
          -123.1207,
          -122.6655,
          -98.8139,
          -66.4619,
          -57.6604,
          -63.7443,
          -85.3232,
          -63.4168,
          -73.5491,
          -106.4509,
          0,
          -124.8457,
          -135
         ],
         "marker": {
          "color": "#FF97FF",
          "size": [
           7010,
           2573,
           13,
           295,
           132,
           261,
           1056,
           29390,
           27,
           51059,
           646,
           1,
           5,
           11
          ],
          "sizemode": "area",
          "sizeref": 318.2528
         },
         "name": "Canada",
         "showlegend": true,
         "type": "scattergeo"
        },
        {
         "geo": "geo",
         "hovertemplate": "<b>%{hovertext}</b><br><br>Country/Region=Central African Republic<br>5/31/20=%{marker.size}<br>Lat=%{lat}<br>Long=%{lon}<extra></extra>",
         "hovertext": [
          "Central African Republic"
         ],
         "lat": [
          6.6111
         ],
         "legendgroup": "Central African Republic",
         "lon": [
          20.9394
         ],
         "marker": {
          "color": "#FECB52",
          "size": [
           1011
          ],
          "sizemode": "area",
          "sizeref": 318.2528
         },
         "name": "Central African Republic",
         "showlegend": true,
         "type": "scattergeo"
        },
        {
         "geo": "geo",
         "hovertemplate": "<b>%{hovertext}</b><br><br>Country/Region=Chad<br>5/31/20=%{marker.size}<br>Lat=%{lat}<br>Long=%{lon}<extra></extra>",
         "hovertext": [
          "Chad"
         ],
         "lat": [
          15.4542
         ],
         "legendgroup": "Chad",
         "lon": [
          18.7322
         ],
         "marker": {
          "color": "#636efa",
          "size": [
           778
          ],
          "sizemode": "area",
          "sizeref": 318.2528
         },
         "name": "Chad",
         "showlegend": true,
         "type": "scattergeo"
        },
        {
         "geo": "geo",
         "hovertemplate": "<b>%{hovertext}</b><br><br>Country/Region=Chile<br>5/31/20=%{marker.size}<br>Lat=%{lat}<br>Long=%{lon}<extra></extra>",
         "hovertext": [
          "Chile"
         ],
         "lat": [
          -35.6751
         ],
         "legendgroup": "Chile",
         "lon": [
          -71.543
         ],
         "marker": {
          "color": "#EF553B",
          "size": [
           99688
          ],
          "sizemode": "area",
          "sizeref": 318.2528
         },
         "name": "Chile",
         "showlegend": true,
         "type": "scattergeo"
        },
        {
         "geo": "geo",
         "hovertemplate": "<b>%{hovertext}</b><br><br>Country/Region=China<br>5/31/20=%{marker.size}<br>Lat=%{lat}<br>Long=%{lon}<extra></extra>",
         "hovertext": [
          "China",
          "China",
          "China",
          "China",
          "China",
          "China",
          "China",
          "China",
          "China",
          "China",
          "China",
          "China",
          "China",
          "China",
          "China",
          "China",
          "China",
          "China",
          "China",
          "China",
          "China",
          "China",
          "China",
          "China",
          "China",
          "China",
          "China",
          "China",
          "China",
          "China",
          "China",
          "China",
          "China"
         ],
         "lat": [
          31.8257,
          40.1824,
          30.0572,
          26.0789,
          37.8099,
          23.3417,
          23.8298,
          26.8154,
          19.1959,
          39.549,
          47.861999999999995,
          33.882,
          22.3,
          30.9756,
          27.6104,
          44.0935,
          32.9711,
          27.614,
          43.6661,
          41.2956,
          22.1667,
          37.2692,
          35.7452,
          35.1917,
          36.3427,
          31.201999999999998,
          37.5777,
          30.6171,
          39.3054,
          31.6927,
          41.1129,
          24.974,
          29.1832
         ],
         "legendgroup": "China",
         "lon": [
          117.2264,
          116.4142,
          107.874,
          117.9874,
          101.0583,
          113.4244,
          108.7881,
          106.8748,
          109.7453,
          116.1306,
          127.7615,
          113.61399999999999,
          114.2,
          112.2707,
          111.7088,
          113.9448,
          119.455,
          115.7221,
          126.1923,
          122.6085,
          113.55,
          106.1655,
          95.9956,
          108.8701,
          118.1498,
          121.4491,
          112.2922,
          102.7103,
          117.323,
          88.0924,
          85.2401,
          101.48700000000001,
          120.0934
         ],
         "marker": {
          "color": "#00cc96",
          "size": [
           991,
           593,
           579,
           358,
           139,
           1595,
           254,
           147,
           169,
           328,
           945,
           1276,
           1084,
           68135,
           1019,
           235,
           653,
           937,
           155,
           149,
           45,
           75,
           18,
           308,
           792,
           672,
           198,
           575,
           192,
           1,
           76,
           185,
           1268
          ],
          "sizemode": "area",
          "sizeref": 318.2528
         },
         "name": "China",
         "showlegend": true,
         "type": "scattergeo"
        },
        {
         "geo": "geo",
         "hovertemplate": "<b>%{hovertext}</b><br><br>Country/Region=Colombia<br>5/31/20=%{marker.size}<br>Lat=%{lat}<br>Long=%{lon}<extra></extra>",
         "hovertext": [
          "Colombia"
         ],
         "lat": [
          4.5709
         ],
         "legendgroup": "Colombia",
         "lon": [
          -74.2973
         ],
         "marker": {
          "color": "#ab63fa",
          "size": [
           27219
          ],
          "sizemode": "area",
          "sizeref": 318.2528
         },
         "name": "Colombia",
         "showlegend": true,
         "type": "scattergeo"
        },
        {
         "geo": "geo",
         "hovertemplate": "<b>%{hovertext}</b><br><br>Country/Region=Congo (Brazzaville)<br>5/31/20=%{marker.size}<br>Lat=%{lat}<br>Long=%{lon}<extra></extra>",
         "hovertext": [
          "Congo (Brazzaville)"
         ],
         "lat": [
          -4.0383
         ],
         "legendgroup": "Congo (Brazzaville)",
         "lon": [
          21.7587
         ],
         "marker": {
          "color": "#FFA15A",
          "size": [
           611
          ],
          "sizemode": "area",
          "sizeref": 318.2528
         },
         "name": "Congo (Brazzaville)",
         "showlegend": true,
         "type": "scattergeo"
        },
        {
         "geo": "geo",
         "hovertemplate": "<b>%{hovertext}</b><br><br>Country/Region=Congo (Kinshasa)<br>5/31/20=%{marker.size}<br>Lat=%{lat}<br>Long=%{lon}<extra></extra>",
         "hovertext": [
          "Congo (Kinshasa)"
         ],
         "lat": [
          -4.0383
         ],
         "legendgroup": "Congo (Kinshasa)",
         "lon": [
          21.7587
         ],
         "marker": {
          "color": "#19d3f3",
          "size": [
           3070
          ],
          "sizemode": "area",
          "sizeref": 318.2528
         },
         "name": "Congo (Kinshasa)",
         "showlegend": true,
         "type": "scattergeo"
        },
        {
         "geo": "geo",
         "hovertemplate": "<b>%{hovertext}</b><br><br>Country/Region=Costa Rica<br>5/31/20=%{marker.size}<br>Lat=%{lat}<br>Long=%{lon}<extra></extra>",
         "hovertext": [
          "Costa Rica"
         ],
         "lat": [
          9.7489
         ],
         "legendgroup": "Costa Rica",
         "lon": [
          -83.7534
         ],
         "marker": {
          "color": "#FF6692",
          "size": [
           1056
          ],
          "sizemode": "area",
          "sizeref": 318.2528
         },
         "name": "Costa Rica",
         "showlegend": true,
         "type": "scattergeo"
        },
        {
         "geo": "geo",
         "hovertemplate": "<b>%{hovertext}</b><br><br>Country/Region=Cote d'Ivoire<br>5/31/20=%{marker.size}<br>Lat=%{lat}<br>Long=%{lon}<extra></extra>",
         "hovertext": [
          "Cote d'Ivoire"
         ],
         "lat": [
          7.54
         ],
         "legendgroup": "Cote d'Ivoire",
         "lon": [
          -5.5471
         ],
         "marker": {
          "color": "#B6E880",
          "size": [
           2833
          ],
          "sizemode": "area",
          "sizeref": 318.2528
         },
         "name": "Cote d'Ivoire",
         "showlegend": true,
         "type": "scattergeo"
        },
        {
         "geo": "geo",
         "hovertemplate": "<b>%{hovertext}</b><br><br>Country/Region=Croatia<br>5/31/20=%{marker.size}<br>Lat=%{lat}<br>Long=%{lon}<extra></extra>",
         "hovertext": [
          "Croatia"
         ],
         "lat": [
          45.1
         ],
         "legendgroup": "Croatia",
         "lon": [
          15.2
         ],
         "marker": {
          "color": "#FF97FF",
          "size": [
           2246
          ],
          "sizemode": "area",
          "sizeref": 318.2528
         },
         "name": "Croatia",
         "showlegend": true,
         "type": "scattergeo"
        },
        {
         "geo": "geo",
         "hovertemplate": "<b>%{hovertext}</b><br><br>Country/Region=Diamond Princess<br>5/31/20=%{marker.size}<br>Lat=%{lat}<br>Long=%{lon}<extra></extra>",
         "hovertext": [
          "Diamond Princess"
         ],
         "lat": [
          0
         ],
         "legendgroup": "Diamond Princess",
         "lon": [
          0
         ],
         "marker": {
          "color": "#FECB52",
          "size": [
           712
          ],
          "sizemode": "area",
          "sizeref": 318.2528
         },
         "name": "Diamond Princess",
         "showlegend": true,
         "type": "scattergeo"
        },
        {
         "geo": "geo",
         "hovertemplate": "<b>%{hovertext}</b><br><br>Country/Region=Cuba<br>5/31/20=%{marker.size}<br>Lat=%{lat}<br>Long=%{lon}<extra></extra>",
         "hovertext": [
          "Cuba"
         ],
         "lat": [
          22
         ],
         "legendgroup": "Cuba",
         "lon": [
          -80
         ],
         "marker": {
          "color": "#636efa",
          "size": [
           2045
          ],
          "sizemode": "area",
          "sizeref": 318.2528
         },
         "name": "Cuba",
         "showlegend": true,
         "type": "scattergeo"
        },
        {
         "geo": "geo",
         "hovertemplate": "<b>%{hovertext}</b><br><br>Country/Region=Cyprus<br>5/31/20=%{marker.size}<br>Lat=%{lat}<br>Long=%{lon}<extra></extra>",
         "hovertext": [
          "Cyprus"
         ],
         "lat": [
          35.1264
         ],
         "legendgroup": "Cyprus",
         "lon": [
          33.4299
         ],
         "marker": {
          "color": "#EF553B",
          "size": [
           944
          ],
          "sizemode": "area",
          "sizeref": 318.2528
         },
         "name": "Cyprus",
         "showlegend": true,
         "type": "scattergeo"
        },
        {
         "geo": "geo",
         "hovertemplate": "<b>%{hovertext}</b><br><br>Country/Region=Czechia<br>5/31/20=%{marker.size}<br>Lat=%{lat}<br>Long=%{lon}<extra></extra>",
         "hovertext": [
          "Czechia"
         ],
         "lat": [
          49.8175
         ],
         "legendgroup": "Czechia",
         "lon": [
          15.472999999999999
         ],
         "marker": {
          "color": "#00cc96",
          "size": [
           9268
          ],
          "sizemode": "area",
          "sizeref": 318.2528
         },
         "name": "Czechia",
         "showlegend": true,
         "type": "scattergeo"
        },
        {
         "geo": "geo",
         "hovertemplate": "<b>%{hovertext}</b><br><br>Country/Region=Denmark<br>5/31/20=%{marker.size}<br>Lat=%{lat}<br>Long=%{lon}<extra></extra>",
         "hovertext": [
          "Denmark",
          "Denmark",
          "Denmark"
         ],
         "lat": [
          61.8926,
          71.7069,
          56.2639
         ],
         "legendgroup": "Denmark",
         "lon": [
          -6.9118,
          -42.6043,
          9.5018
         ],
         "marker": {
          "color": "#ab63fa",
          "size": [
           187,
           13,
           11669
          ],
          "sizemode": "area",
          "sizeref": 318.2528
         },
         "name": "Denmark",
         "showlegend": true,
         "type": "scattergeo"
        },
        {
         "geo": "geo",
         "hovertemplate": "<b>%{hovertext}</b><br><br>Country/Region=Djibouti<br>5/31/20=%{marker.size}<br>Lat=%{lat}<br>Long=%{lon}<extra></extra>",
         "hovertext": [
          "Djibouti"
         ],
         "lat": [
          11.8251
         ],
         "legendgroup": "Djibouti",
         "lon": [
          42.5903
         ],
         "marker": {
          "color": "#FFA15A",
          "size": [
           3354
          ],
          "sizemode": "area",
          "sizeref": 318.2528
         },
         "name": "Djibouti",
         "showlegend": true,
         "type": "scattergeo"
        },
        {
         "geo": "geo",
         "hovertemplate": "<b>%{hovertext}</b><br><br>Country/Region=Dominican Republic<br>5/31/20=%{marker.size}<br>Lat=%{lat}<br>Long=%{lon}<extra></extra>",
         "hovertext": [
          "Dominican Republic"
         ],
         "lat": [
          18.7357
         ],
         "legendgroup": "Dominican Republic",
         "lon": [
          -70.1627
         ],
         "marker": {
          "color": "#19d3f3",
          "size": [
           17285
          ],
          "sizemode": "area",
          "sizeref": 318.2528
         },
         "name": "Dominican Republic",
         "showlegend": true,
         "type": "scattergeo"
        },
        {
         "geo": "geo",
         "hovertemplate": "<b>%{hovertext}</b><br><br>Country/Region=Ecuador<br>5/31/20=%{marker.size}<br>Lat=%{lat}<br>Long=%{lon}<extra></extra>",
         "hovertext": [
          "Ecuador"
         ],
         "lat": [
          -1.8312
         ],
         "legendgroup": "Ecuador",
         "lon": [
          -78.1834
         ],
         "marker": {
          "color": "#FF6692",
          "size": [
           39098
          ],
          "sizemode": "area",
          "sizeref": 318.2528
         },
         "name": "Ecuador",
         "showlegend": true,
         "type": "scattergeo"
        },
        {
         "geo": "geo",
         "hovertemplate": "<b>%{hovertext}</b><br><br>Country/Region=Egypt<br>5/31/20=%{marker.size}<br>Lat=%{lat}<br>Long=%{lon}<extra></extra>",
         "hovertext": [
          "Egypt"
         ],
         "lat": [
          26
         ],
         "legendgroup": "Egypt",
         "lon": [
          30
         ],
         "marker": {
          "color": "#B6E880",
          "size": [
           24985
          ],
          "sizemode": "area",
          "sizeref": 318.2528
         },
         "name": "Egypt",
         "showlegend": true,
         "type": "scattergeo"
        },
        {
         "geo": "geo",
         "hovertemplate": "<b>%{hovertext}</b><br><br>Country/Region=El Salvador<br>5/31/20=%{marker.size}<br>Lat=%{lat}<br>Long=%{lon}<extra></extra>",
         "hovertext": [
          "El Salvador"
         ],
         "lat": [
          13.7942
         ],
         "legendgroup": "El Salvador",
         "lon": [
          -88.8965
         ],
         "marker": {
          "color": "#FF97FF",
          "size": [
           2517
          ],
          "sizemode": "area",
          "sizeref": 318.2528
         },
         "name": "El Salvador",
         "showlegend": true,
         "type": "scattergeo"
        },
        {
         "geo": "geo",
         "hovertemplate": "<b>%{hovertext}</b><br><br>Country/Region=Equatorial Guinea<br>5/31/20=%{marker.size}<br>Lat=%{lat}<br>Long=%{lon}<extra></extra>",
         "hovertext": [
          "Equatorial Guinea"
         ],
         "lat": [
          1.5
         ],
         "legendgroup": "Equatorial Guinea",
         "lon": [
          10
         ],
         "marker": {
          "color": "#FECB52",
          "size": [
           1306
          ],
          "sizemode": "area",
          "sizeref": 318.2528
         },
         "name": "Equatorial Guinea",
         "showlegend": true,
         "type": "scattergeo"
        },
        {
         "geo": "geo",
         "hovertemplate": "<b>%{hovertext}</b><br><br>Country/Region=Eritrea<br>5/31/20=%{marker.size}<br>Lat=%{lat}<br>Long=%{lon}<extra></extra>",
         "hovertext": [
          "Eritrea"
         ],
         "lat": [
          15.1794
         ],
         "legendgroup": "Eritrea",
         "lon": [
          39.7823
         ],
         "marker": {
          "color": "#636efa",
          "size": [
           39
          ],
          "sizemode": "area",
          "sizeref": 318.2528
         },
         "name": "Eritrea",
         "showlegend": true,
         "type": "scattergeo"
        },
        {
         "geo": "geo",
         "hovertemplate": "<b>%{hovertext}</b><br><br>Country/Region=Estonia<br>5/31/20=%{marker.size}<br>Lat=%{lat}<br>Long=%{lon}<extra></extra>",
         "hovertext": [
          "Estonia"
         ],
         "lat": [
          58.5953
         ],
         "legendgroup": "Estonia",
         "lon": [
          25.0136
         ],
         "marker": {
          "color": "#EF553B",
          "size": [
           1869
          ],
          "sizemode": "area",
          "sizeref": 318.2528
         },
         "name": "Estonia",
         "showlegend": true,
         "type": "scattergeo"
        },
        {
         "geo": "geo",
         "hovertemplate": "<b>%{hovertext}</b><br><br>Country/Region=Eswatini<br>5/31/20=%{marker.size}<br>Lat=%{lat}<br>Long=%{lon}<extra></extra>",
         "hovertext": [
          "Eswatini"
         ],
         "lat": [
          -26.5225
         ],
         "legendgroup": "Eswatini",
         "lon": [
          31.4659
         ],
         "marker": {
          "color": "#00cc96",
          "size": [
           285
          ],
          "sizemode": "area",
          "sizeref": 318.2528
         },
         "name": "Eswatini",
         "showlegend": true,
         "type": "scattergeo"
        },
        {
         "geo": "geo",
         "hovertemplate": "<b>%{hovertext}</b><br><br>Country/Region=Ethiopia<br>5/31/20=%{marker.size}<br>Lat=%{lat}<br>Long=%{lon}<extra></extra>",
         "hovertext": [
          "Ethiopia"
         ],
         "lat": [
          9.145
         ],
         "legendgroup": "Ethiopia",
         "lon": [
          40.4897
         ],
         "marker": {
          "color": "#ab63fa",
          "size": [
           1172
          ],
          "sizemode": "area",
          "sizeref": 318.2528
         },
         "name": "Ethiopia",
         "showlegend": true,
         "type": "scattergeo"
        },
        {
         "geo": "geo",
         "hovertemplate": "<b>%{hovertext}</b><br><br>Country/Region=Fiji<br>5/31/20=%{marker.size}<br>Lat=%{lat}<br>Long=%{lon}<extra></extra>",
         "hovertext": [
          "Fiji"
         ],
         "lat": [
          -17.7134
         ],
         "legendgroup": "Fiji",
         "lon": [
          178.065
         ],
         "marker": {
          "color": "#FFA15A",
          "size": [
           18
          ],
          "sizemode": "area",
          "sizeref": 318.2528
         },
         "name": "Fiji",
         "showlegend": true,
         "type": "scattergeo"
        },
        {
         "geo": "geo",
         "hovertemplate": "<b>%{hovertext}</b><br><br>Country/Region=Finland<br>5/31/20=%{marker.size}<br>Lat=%{lat}<br>Long=%{lon}<extra></extra>",
         "hovertext": [
          "Finland"
         ],
         "lat": [
          64
         ],
         "legendgroup": "Finland",
         "lon": [
          26
         ],
         "marker": {
          "color": "#19d3f3",
          "size": [
           6859
          ],
          "sizemode": "area",
          "sizeref": 318.2528
         },
         "name": "Finland",
         "showlegend": true,
         "type": "scattergeo"
        },
        {
         "geo": "geo",
         "hovertemplate": "<b>%{hovertext}</b><br><br>Country/Region=France<br>5/31/20=%{marker.size}<br>Lat=%{lat}<br>Long=%{lon}<extra></extra>",
         "hovertext": [
          "France",
          "France",
          "France",
          "France",
          "France",
          "France",
          "France",
          "France",
          "France",
          "France",
          "France"
         ],
         "lat": [
          3.9339,
          -17.6797,
          16.25,
          -12.8275,
          -20.9043,
          -21.1351,
          17.9,
          18.0708,
          14.6415,
          46.2276,
          46.8852
         ],
         "legendgroup": "France",
         "lon": [
          -53.1258,
          149.4068,
          -61.5833,
          45.1662,
          165.618,
          55.2471,
          -62.8333,
          -63.0501,
          -61.0242,
          2.2137,
          -56.3159
         ],
         "marker": {
          "color": "#FF6692",
          "size": [
           499,
           60,
           162,
           1699,
           19,
           471,
           6,
           41,
           200,
           185851,
           1
          ],
          "sizemode": "area",
          "sizeref": 318.2528
         },
         "name": "France",
         "showlegend": true,
         "type": "scattergeo"
        },
        {
         "geo": "geo",
         "hovertemplate": "<b>%{hovertext}</b><br><br>Country/Region=Gabon<br>5/31/20=%{marker.size}<br>Lat=%{lat}<br>Long=%{lon}<extra></extra>",
         "hovertext": [
          "Gabon"
         ],
         "lat": [
          -0.8037
         ],
         "legendgroup": "Gabon",
         "lon": [
          11.6094
         ],
         "marker": {
          "color": "#B6E880",
          "size": [
           2655
          ],
          "sizemode": "area",
          "sizeref": 318.2528
         },
         "name": "Gabon",
         "showlegend": true,
         "type": "scattergeo"
        },
        {
         "geo": "geo",
         "hovertemplate": "<b>%{hovertext}</b><br><br>Country/Region=Gambia<br>5/31/20=%{marker.size}<br>Lat=%{lat}<br>Long=%{lon}<extra></extra>",
         "hovertext": [
          "Gambia"
         ],
         "lat": [
          13.4432
         ],
         "legendgroup": "Gambia",
         "lon": [
          -15.3101
         ],
         "marker": {
          "color": "#FF97FF",
          "size": [
           25
          ],
          "sizemode": "area",
          "sizeref": 318.2528
         },
         "name": "Gambia",
         "showlegend": true,
         "type": "scattergeo"
        },
        {
         "geo": "geo",
         "hovertemplate": "<b>%{hovertext}</b><br><br>Country/Region=Georgia<br>5/31/20=%{marker.size}<br>Lat=%{lat}<br>Long=%{lon}<extra></extra>",
         "hovertext": [
          "Georgia"
         ],
         "lat": [
          42.3154
         ],
         "legendgroup": "Georgia",
         "lon": [
          43.3569
         ],
         "marker": {
          "color": "#FECB52",
          "size": [
           783
          ],
          "sizemode": "area",
          "sizeref": 318.2528
         },
         "name": "Georgia",
         "showlegend": true,
         "type": "scattergeo"
        },
        {
         "geo": "geo",
         "hovertemplate": "<b>%{hovertext}</b><br><br>Country/Region=Germany<br>5/31/20=%{marker.size}<br>Lat=%{lat}<br>Long=%{lon}<extra></extra>",
         "hovertext": [
          "Germany"
         ],
         "lat": [
          51
         ],
         "legendgroup": "Germany",
         "lon": [
          9
         ],
         "marker": {
          "color": "#636efa",
          "size": [
           183410
          ],
          "sizemode": "area",
          "sizeref": 318.2528
         },
         "name": "Germany",
         "showlegend": true,
         "type": "scattergeo"
        },
        {
         "geo": "geo",
         "hovertemplate": "<b>%{hovertext}</b><br><br>Country/Region=Ghana<br>5/31/20=%{marker.size}<br>Lat=%{lat}<br>Long=%{lon}<extra></extra>",
         "hovertext": [
          "Ghana"
         ],
         "lat": [
          7.9465
         ],
         "legendgroup": "Ghana",
         "lon": [
          -1.0232
         ],
         "marker": {
          "color": "#EF553B",
          "size": [
           8070
          ],
          "sizemode": "area",
          "sizeref": 318.2528
         },
         "name": "Ghana",
         "showlegend": true,
         "type": "scattergeo"
        },
        {
         "geo": "geo",
         "hovertemplate": "<b>%{hovertext}</b><br><br>Country/Region=Greece<br>5/31/20=%{marker.size}<br>Lat=%{lat}<br>Long=%{lon}<extra></extra>",
         "hovertext": [
          "Greece"
         ],
         "lat": [
          39.0742
         ],
         "legendgroup": "Greece",
         "lon": [
          21.8243
         ],
         "marker": {
          "color": "#00cc96",
          "size": [
           2917
          ],
          "sizemode": "area",
          "sizeref": 318.2528
         },
         "name": "Greece",
         "showlegend": true,
         "type": "scattergeo"
        },
        {
         "geo": "geo",
         "hovertemplate": "<b>%{hovertext}</b><br><br>Country/Region=Guatemala<br>5/31/20=%{marker.size}<br>Lat=%{lat}<br>Long=%{lon}<extra></extra>",
         "hovertext": [
          "Guatemala"
         ],
         "lat": [
          15.7835
         ],
         "legendgroup": "Guatemala",
         "lon": [
          -90.2308
         ],
         "marker": {
          "color": "#ab63fa",
          "size": [
           5087
          ],
          "sizemode": "area",
          "sizeref": 318.2528
         },
         "name": "Guatemala",
         "showlegend": true,
         "type": "scattergeo"
        },
        {
         "geo": "geo",
         "hovertemplate": "<b>%{hovertext}</b><br><br>Country/Region=Guinea<br>5/31/20=%{marker.size}<br>Lat=%{lat}<br>Long=%{lon}<extra></extra>",
         "hovertext": [
          "Guinea"
         ],
         "lat": [
          9.9456
         ],
         "legendgroup": "Guinea",
         "lon": [
          -9.6966
         ],
         "marker": {
          "color": "#FFA15A",
          "size": [
           3706
          ],
          "sizemode": "area",
          "sizeref": 318.2528
         },
         "name": "Guinea",
         "showlegend": true,
         "type": "scattergeo"
        },
        {
         "geo": "geo",
         "hovertemplate": "<b>%{hovertext}</b><br><br>Country/Region=Guyana<br>5/31/20=%{marker.size}<br>Lat=%{lat}<br>Long=%{lon}<extra></extra>",
         "hovertext": [
          "Guyana"
         ],
         "lat": [
          5
         ],
         "legendgroup": "Guyana",
         "lon": [
          -58.75
         ],
         "marker": {
          "color": "#19d3f3",
          "size": [
           153
          ],
          "sizemode": "area",
          "sizeref": 318.2528
         },
         "name": "Guyana",
         "showlegend": true,
         "type": "scattergeo"
        },
        {
         "geo": "geo",
         "hovertemplate": "<b>%{hovertext}</b><br><br>Country/Region=Haiti<br>5/31/20=%{marker.size}<br>Lat=%{lat}<br>Long=%{lon}<extra></extra>",
         "hovertext": [
          "Haiti"
         ],
         "lat": [
          18.9712
         ],
         "legendgroup": "Haiti",
         "lon": [
          -72.2852
         ],
         "marker": {
          "color": "#FF6692",
          "size": [
           2124
          ],
          "sizemode": "area",
          "sizeref": 318.2528
         },
         "name": "Haiti",
         "showlegend": true,
         "type": "scattergeo"
        },
        {
         "geo": "geo",
         "hovertemplate": "<b>%{hovertext}</b><br><br>Country/Region=Holy See<br>5/31/20=%{marker.size}<br>Lat=%{lat}<br>Long=%{lon}<extra></extra>",
         "hovertext": [
          "Holy See"
         ],
         "lat": [
          41.9029
         ],
         "legendgroup": "Holy See",
         "lon": [
          12.4534
         ],
         "marker": {
          "color": "#B6E880",
          "size": [
           12
          ],
          "sizemode": "area",
          "sizeref": 318.2528
         },
         "name": "Holy See",
         "showlegend": true,
         "type": "scattergeo"
        },
        {
         "geo": "geo",
         "hovertemplate": "<b>%{hovertext}</b><br><br>Country/Region=Honduras<br>5/31/20=%{marker.size}<br>Lat=%{lat}<br>Long=%{lon}<extra></extra>",
         "hovertext": [
          "Honduras"
         ],
         "lat": [
          15.2
         ],
         "legendgroup": "Honduras",
         "lon": [
          -86.2419
         ],
         "marker": {
          "color": "#FF97FF",
          "size": [
           5202
          ],
          "sizemode": "area",
          "sizeref": 318.2528
         },
         "name": "Honduras",
         "showlegend": true,
         "type": "scattergeo"
        },
        {
         "geo": "geo",
         "hovertemplate": "<b>%{hovertext}</b><br><br>Country/Region=Hungary<br>5/31/20=%{marker.size}<br>Lat=%{lat}<br>Long=%{lon}<extra></extra>",
         "hovertext": [
          "Hungary"
         ],
         "lat": [
          47.1625
         ],
         "legendgroup": "Hungary",
         "lon": [
          19.5033
         ],
         "marker": {
          "color": "#FECB52",
          "size": [
           3876
          ],
          "sizemode": "area",
          "sizeref": 318.2528
         },
         "name": "Hungary",
         "showlegend": true,
         "type": "scattergeo"
        },
        {
         "geo": "geo",
         "hovertemplate": "<b>%{hovertext}</b><br><br>Country/Region=Iceland<br>5/31/20=%{marker.size}<br>Lat=%{lat}<br>Long=%{lon}<extra></extra>",
         "hovertext": [
          "Iceland"
         ],
         "lat": [
          64.9631
         ],
         "legendgroup": "Iceland",
         "lon": [
          -19.0208
         ],
         "marker": {
          "color": "#636efa",
          "size": [
           1806
          ],
          "sizemode": "area",
          "sizeref": 318.2528
         },
         "name": "Iceland",
         "showlegend": true,
         "type": "scattergeo"
        },
        {
         "geo": "geo",
         "hovertemplate": "<b>%{hovertext}</b><br><br>Country/Region=India<br>5/31/20=%{marker.size}<br>Lat=%{lat}<br>Long=%{lon}<extra></extra>",
         "hovertext": [
          "India"
         ],
         "lat": [
          21
         ],
         "legendgroup": "India",
         "lon": [
          78
         ],
         "marker": {
          "color": "#EF553B",
          "size": [
           190609
          ],
          "sizemode": "area",
          "sizeref": 318.2528
         },
         "name": "India",
         "showlegend": true,
         "type": "scattergeo"
        },
        {
         "geo": "geo",
         "hovertemplate": "<b>%{hovertext}</b><br><br>Country/Region=Indonesia<br>5/31/20=%{marker.size}<br>Lat=%{lat}<br>Long=%{lon}<extra></extra>",
         "hovertext": [
          "Indonesia"
         ],
         "lat": [
          -0.7893
         ],
         "legendgroup": "Indonesia",
         "lon": [
          113.9213
         ],
         "marker": {
          "color": "#00cc96",
          "size": [
           26473
          ],
          "sizemode": "area",
          "sizeref": 318.2528
         },
         "name": "Indonesia",
         "showlegend": true,
         "type": "scattergeo"
        },
        {
         "geo": "geo",
         "hovertemplate": "<b>%{hovertext}</b><br><br>Country/Region=Iran<br>5/31/20=%{marker.size}<br>Lat=%{lat}<br>Long=%{lon}<extra></extra>",
         "hovertext": [
          "Iran"
         ],
         "lat": [
          32
         ],
         "legendgroup": "Iran",
         "lon": [
          53
         ],
         "marker": {
          "color": "#ab63fa",
          "size": [
           151466
          ],
          "sizemode": "area",
          "sizeref": 318.2528
         },
         "name": "Iran",
         "showlegend": true,
         "type": "scattergeo"
        },
        {
         "geo": "geo",
         "hovertemplate": "<b>%{hovertext}</b><br><br>Country/Region=Iraq<br>5/31/20=%{marker.size}<br>Lat=%{lat}<br>Long=%{lon}<extra></extra>",
         "hovertext": [
          "Iraq"
         ],
         "lat": [
          33
         ],
         "legendgroup": "Iraq",
         "lon": [
          44
         ],
         "marker": {
          "color": "#FFA15A",
          "size": [
           6439
          ],
          "sizemode": "area",
          "sizeref": 318.2528
         },
         "name": "Iraq",
         "showlegend": true,
         "type": "scattergeo"
        },
        {
         "geo": "geo",
         "hovertemplate": "<b>%{hovertext}</b><br><br>Country/Region=Ireland<br>5/31/20=%{marker.size}<br>Lat=%{lat}<br>Long=%{lon}<extra></extra>",
         "hovertext": [
          "Ireland"
         ],
         "lat": [
          53.1424
         ],
         "legendgroup": "Ireland",
         "lon": [
          -7.6921
         ],
         "marker": {
          "color": "#19d3f3",
          "size": [
           24990
          ],
          "sizemode": "area",
          "sizeref": 318.2528
         },
         "name": "Ireland",
         "showlegend": true,
         "type": "scattergeo"
        },
        {
         "geo": "geo",
         "hovertemplate": "<b>%{hovertext}</b><br><br>Country/Region=Israel<br>5/31/20=%{marker.size}<br>Lat=%{lat}<br>Long=%{lon}<extra></extra>",
         "hovertext": [
          "Israel"
         ],
         "lat": [
          31
         ],
         "legendgroup": "Israel",
         "lon": [
          35
         ],
         "marker": {
          "color": "#FF6692",
          "size": [
           17071
          ],
          "sizemode": "area",
          "sizeref": 318.2528
         },
         "name": "Israel",
         "showlegend": true,
         "type": "scattergeo"
        },
        {
         "geo": "geo",
         "hovertemplate": "<b>%{hovertext}</b><br><br>Country/Region=Italy<br>5/31/20=%{marker.size}<br>Lat=%{lat}<br>Long=%{lon}<extra></extra>",
         "hovertext": [
          "Italy"
         ],
         "lat": [
          43
         ],
         "legendgroup": "Italy",
         "lon": [
          12
         ],
         "marker": {
          "color": "#B6E880",
          "size": [
           232997
          ],
          "sizemode": "area",
          "sizeref": 318.2528
         },
         "name": "Italy",
         "showlegend": true,
         "type": "scattergeo"
        },
        {
         "geo": "geo",
         "hovertemplate": "<b>%{hovertext}</b><br><br>Country/Region=Jamaica<br>5/31/20=%{marker.size}<br>Lat=%{lat}<br>Long=%{lon}<extra></extra>",
         "hovertext": [
          "Jamaica"
         ],
         "lat": [
          18.1096
         ],
         "legendgroup": "Jamaica",
         "lon": [
          -77.2975
         ],
         "marker": {
          "color": "#FF97FF",
          "size": [
           586
          ],
          "sizemode": "area",
          "sizeref": 318.2528
         },
         "name": "Jamaica",
         "showlegend": true,
         "type": "scattergeo"
        },
        {
         "geo": "geo",
         "hovertemplate": "<b>%{hovertext}</b><br><br>Country/Region=Japan<br>5/31/20=%{marker.size}<br>Lat=%{lat}<br>Long=%{lon}<extra></extra>",
         "hovertext": [
          "Japan"
         ],
         "lat": [
          36
         ],
         "legendgroup": "Japan",
         "lon": [
          138
         ],
         "marker": {
          "color": "#FECB52",
          "size": [
           16751
          ],
          "sizemode": "area",
          "sizeref": 318.2528
         },
         "name": "Japan",
         "showlegend": true,
         "type": "scattergeo"
        },
        {
         "geo": "geo",
         "hovertemplate": "<b>%{hovertext}</b><br><br>Country/Region=Jordan<br>5/31/20=%{marker.size}<br>Lat=%{lat}<br>Long=%{lon}<extra></extra>",
         "hovertext": [
          "Jordan"
         ],
         "lat": [
          31.24
         ],
         "legendgroup": "Jordan",
         "lon": [
          36.51
         ],
         "marker": {
          "color": "#636efa",
          "size": [
           739
          ],
          "sizemode": "area",
          "sizeref": 318.2528
         },
         "name": "Jordan",
         "showlegend": true,
         "type": "scattergeo"
        },
        {
         "geo": "geo",
         "hovertemplate": "<b>%{hovertext}</b><br><br>Country/Region=Kazakhstan<br>5/31/20=%{marker.size}<br>Lat=%{lat}<br>Long=%{lon}<extra></extra>",
         "hovertext": [
          "Kazakhstan"
         ],
         "lat": [
          48.0196
         ],
         "legendgroup": "Kazakhstan",
         "lon": [
          66.9237
         ],
         "marker": {
          "color": "#EF553B",
          "size": [
           10858
          ],
          "sizemode": "area",
          "sizeref": 318.2528
         },
         "name": "Kazakhstan",
         "showlegend": true,
         "type": "scattergeo"
        },
        {
         "geo": "geo",
         "hovertemplate": "<b>%{hovertext}</b><br><br>Country/Region=Kenya<br>5/31/20=%{marker.size}<br>Lat=%{lat}<br>Long=%{lon}<extra></extra>",
         "hovertext": [
          "Kenya"
         ],
         "lat": [
          -0.0236
         ],
         "legendgroup": "Kenya",
         "lon": [
          37.9062
         ],
         "marker": {
          "color": "#00cc96",
          "size": [
           1962
          ],
          "sizemode": "area",
          "sizeref": 318.2528
         },
         "name": "Kenya",
         "showlegend": true,
         "type": "scattergeo"
        },
        {
         "geo": "geo",
         "hovertemplate": "<b>%{hovertext}</b><br><br>Country/Region=Korea, South<br>5/31/20=%{marker.size}<br>Lat=%{lat}<br>Long=%{lon}<extra></extra>",
         "hovertext": [
          "Korea, South"
         ],
         "lat": [
          36
         ],
         "legendgroup": "Korea, South",
         "lon": [
          128
         ],
         "marker": {
          "color": "#ab63fa",
          "size": [
           11503
          ],
          "sizemode": "area",
          "sizeref": 318.2528
         },
         "name": "Korea, South",
         "showlegend": true,
         "type": "scattergeo"
        },
        {
         "geo": "geo",
         "hovertemplate": "<b>%{hovertext}</b><br><br>Country/Region=Kuwait<br>5/31/20=%{marker.size}<br>Lat=%{lat}<br>Long=%{lon}<extra></extra>",
         "hovertext": [
          "Kuwait"
         ],
         "lat": [
          29.5
         ],
         "legendgroup": "Kuwait",
         "lon": [
          47.75
         ],
         "marker": {
          "color": "#FFA15A",
          "size": [
           27043
          ],
          "sizemode": "area",
          "sizeref": 318.2528
         },
         "name": "Kuwait",
         "showlegend": true,
         "type": "scattergeo"
        },
        {
         "geo": "geo",
         "hovertemplate": "<b>%{hovertext}</b><br><br>Country/Region=Kyrgyzstan<br>5/31/20=%{marker.size}<br>Lat=%{lat}<br>Long=%{lon}<extra></extra>",
         "hovertext": [
          "Kyrgyzstan"
         ],
         "lat": [
          41.2044
         ],
         "legendgroup": "Kyrgyzstan",
         "lon": [
          74.7661
         ],
         "marker": {
          "color": "#19d3f3",
          "size": [
           1748
          ],
          "sizemode": "area",
          "sizeref": 318.2528
         },
         "name": "Kyrgyzstan",
         "showlegend": true,
         "type": "scattergeo"
        },
        {
         "geo": "geo",
         "hovertemplate": "<b>%{hovertext}</b><br><br>Country/Region=Latvia<br>5/31/20=%{marker.size}<br>Lat=%{lat}<br>Long=%{lon}<extra></extra>",
         "hovertext": [
          "Latvia"
         ],
         "lat": [
          56.8796
         ],
         "legendgroup": "Latvia",
         "lon": [
          24.6032
         ],
         "marker": {
          "color": "#FF6692",
          "size": [
           1066
          ],
          "sizemode": "area",
          "sizeref": 318.2528
         },
         "name": "Latvia",
         "showlegend": true,
         "type": "scattergeo"
        },
        {
         "geo": "geo",
         "hovertemplate": "<b>%{hovertext}</b><br><br>Country/Region=Lebanon<br>5/31/20=%{marker.size}<br>Lat=%{lat}<br>Long=%{lon}<extra></extra>",
         "hovertext": [
          "Lebanon"
         ],
         "lat": [
          33.8547
         ],
         "legendgroup": "Lebanon",
         "lon": [
          35.8623
         ],
         "marker": {
          "color": "#B6E880",
          "size": [
           1220
          ],
          "sizemode": "area",
          "sizeref": 318.2528
         },
         "name": "Lebanon",
         "showlegend": true,
         "type": "scattergeo"
        },
        {
         "geo": "geo",
         "hovertemplate": "<b>%{hovertext}</b><br><br>Country/Region=Liberia<br>5/31/20=%{marker.size}<br>Lat=%{lat}<br>Long=%{lon}<extra></extra>",
         "hovertext": [
          "Liberia"
         ],
         "lat": [
          6.4281
         ],
         "legendgroup": "Liberia",
         "lon": [
          -9.4295
         ],
         "marker": {
          "color": "#FF97FF",
          "size": [
           288
          ],
          "sizemode": "area",
          "sizeref": 318.2528
         },
         "name": "Liberia",
         "showlegend": true,
         "type": "scattergeo"
        },
        {
         "geo": "geo",
         "hovertemplate": "<b>%{hovertext}</b><br><br>Country/Region=Liechtenstein<br>5/31/20=%{marker.size}<br>Lat=%{lat}<br>Long=%{lon}<extra></extra>",
         "hovertext": [
          "Liechtenstein"
         ],
         "lat": [
          47.14
         ],
         "legendgroup": "Liechtenstein",
         "lon": [
          9.55
         ],
         "marker": {
          "color": "#FECB52",
          "size": [
           82
          ],
          "sizemode": "area",
          "sizeref": 318.2528
         },
         "name": "Liechtenstein",
         "showlegend": true,
         "type": "scattergeo"
        },
        {
         "geo": "geo",
         "hovertemplate": "<b>%{hovertext}</b><br><br>Country/Region=Lithuania<br>5/31/20=%{marker.size}<br>Lat=%{lat}<br>Long=%{lon}<extra></extra>",
         "hovertext": [
          "Lithuania"
         ],
         "lat": [
          55.1694
         ],
         "legendgroup": "Lithuania",
         "lon": [
          23.8813
         ],
         "marker": {
          "color": "#636efa",
          "size": [
           1675
          ],
          "sizemode": "area",
          "sizeref": 318.2528
         },
         "name": "Lithuania",
         "showlegend": true,
         "type": "scattergeo"
        },
        {
         "geo": "geo",
         "hovertemplate": "<b>%{hovertext}</b><br><br>Country/Region=Luxembourg<br>5/31/20=%{marker.size}<br>Lat=%{lat}<br>Long=%{lon}<extra></extra>",
         "hovertext": [
          "Luxembourg"
         ],
         "lat": [
          49.8153
         ],
         "legendgroup": "Luxembourg",
         "lon": [
          6.1296
         ],
         "marker": {
          "color": "#EF553B",
          "size": [
           4018
          ],
          "sizemode": "area",
          "sizeref": 318.2528
         },
         "name": "Luxembourg",
         "showlegend": true,
         "type": "scattergeo"
        },
        {
         "geo": "geo",
         "hovertemplate": "<b>%{hovertext}</b><br><br>Country/Region=Madagascar<br>5/31/20=%{marker.size}<br>Lat=%{lat}<br>Long=%{lon}<extra></extra>",
         "hovertext": [
          "Madagascar"
         ],
         "lat": [
          -18.7669
         ],
         "legendgroup": "Madagascar",
         "lon": [
          46.8691
         ],
         "marker": {
          "color": "#00cc96",
          "size": [
           771
          ],
          "sizemode": "area",
          "sizeref": 318.2528
         },
         "name": "Madagascar",
         "showlegend": true,
         "type": "scattergeo"
        },
        {
         "geo": "geo",
         "hovertemplate": "<b>%{hovertext}</b><br><br>Country/Region=Malaysia<br>5/31/20=%{marker.size}<br>Lat=%{lat}<br>Long=%{lon}<extra></extra>",
         "hovertext": [
          "Malaysia"
         ],
         "lat": [
          2.5
         ],
         "legendgroup": "Malaysia",
         "lon": [
          112.5
         ],
         "marker": {
          "color": "#ab63fa",
          "size": [
           7819
          ],
          "sizemode": "area",
          "sizeref": 318.2528
         },
         "name": "Malaysia",
         "showlegend": true,
         "type": "scattergeo"
        },
        {
         "geo": "geo",
         "hovertemplate": "<b>%{hovertext}</b><br><br>Country/Region=Maldives<br>5/31/20=%{marker.size}<br>Lat=%{lat}<br>Long=%{lon}<extra></extra>",
         "hovertext": [
          "Maldives"
         ],
         "lat": [
          3.2028
         ],
         "legendgroup": "Maldives",
         "lon": [
          73.2207
         ],
         "marker": {
          "color": "#FFA15A",
          "size": [
           1773
          ],
          "sizemode": "area",
          "sizeref": 318.2528
         },
         "name": "Maldives",
         "showlegend": true,
         "type": "scattergeo"
        },
        {
         "geo": "geo",
         "hovertemplate": "<b>%{hovertext}</b><br><br>Country/Region=Malta<br>5/31/20=%{marker.size}<br>Lat=%{lat}<br>Long=%{lon}<extra></extra>",
         "hovertext": [
          "Malta"
         ],
         "lat": [
          35.9375
         ],
         "legendgroup": "Malta",
         "lon": [
          14.3754
         ],
         "marker": {
          "color": "#19d3f3",
          "size": [
           618
          ],
          "sizemode": "area",
          "sizeref": 318.2528
         },
         "name": "Malta",
         "showlegend": true,
         "type": "scattergeo"
        },
        {
         "geo": "geo",
         "hovertemplate": "<b>%{hovertext}</b><br><br>Country/Region=Mauritania<br>5/31/20=%{marker.size}<br>Lat=%{lat}<br>Long=%{lon}<extra></extra>",
         "hovertext": [
          "Mauritania"
         ],
         "lat": [
          21.0079
         ],
         "legendgroup": "Mauritania",
         "lon": [
          10.9408
         ],
         "marker": {
          "color": "#FF6692",
          "size": [
           530
          ],
          "sizemode": "area",
          "sizeref": 318.2528
         },
         "name": "Mauritania",
         "showlegend": true,
         "type": "scattergeo"
        },
        {
         "geo": "geo",
         "hovertemplate": "<b>%{hovertext}</b><br><br>Country/Region=Mauritius<br>5/31/20=%{marker.size}<br>Lat=%{lat}<br>Long=%{lon}<extra></extra>",
         "hovertext": [
          "Mauritius"
         ],
         "lat": [
          -20.2
         ],
         "legendgroup": "Mauritius",
         "lon": [
          57.5
         ],
         "marker": {
          "color": "#B6E880",
          "size": [
           335
          ],
          "sizemode": "area",
          "sizeref": 318.2528
         },
         "name": "Mauritius",
         "showlegend": true,
         "type": "scattergeo"
        },
        {
         "geo": "geo",
         "hovertemplate": "<b>%{hovertext}</b><br><br>Country/Region=Mexico<br>5/31/20=%{marker.size}<br>Lat=%{lat}<br>Long=%{lon}<extra></extra>",
         "hovertext": [
          "Mexico"
         ],
         "lat": [
          23.6345
         ],
         "legendgroup": "Mexico",
         "lon": [
          -102.5528
         ],
         "marker": {
          "color": "#FF97FF",
          "size": [
           90664
          ],
          "sizemode": "area",
          "sizeref": 318.2528
         },
         "name": "Mexico",
         "showlegend": true,
         "type": "scattergeo"
        },
        {
         "geo": "geo",
         "hovertemplate": "<b>%{hovertext}</b><br><br>Country/Region=Moldova<br>5/31/20=%{marker.size}<br>Lat=%{lat}<br>Long=%{lon}<extra></extra>",
         "hovertext": [
          "Moldova"
         ],
         "lat": [
          47.4116
         ],
         "legendgroup": "Moldova",
         "lon": [
          28.3699
         ],
         "marker": {
          "color": "#FECB52",
          "size": [
           8251
          ],
          "sizemode": "area",
          "sizeref": 318.2528
         },
         "name": "Moldova",
         "showlegend": true,
         "type": "scattergeo"
        },
        {
         "geo": "geo",
         "hovertemplate": "<b>%{hovertext}</b><br><br>Country/Region=Monaco<br>5/31/20=%{marker.size}<br>Lat=%{lat}<br>Long=%{lon}<extra></extra>",
         "hovertext": [
          "Monaco"
         ],
         "lat": [
          43.7333
         ],
         "legendgroup": "Monaco",
         "lon": [
          7.4167
         ],
         "marker": {
          "color": "#636efa",
          "size": [
           99
          ],
          "sizemode": "area",
          "sizeref": 318.2528
         },
         "name": "Monaco",
         "showlegend": true,
         "type": "scattergeo"
        },
        {
         "geo": "geo",
         "hovertemplate": "<b>%{hovertext}</b><br><br>Country/Region=Mongolia<br>5/31/20=%{marker.size}<br>Lat=%{lat}<br>Long=%{lon}<extra></extra>",
         "hovertext": [
          "Mongolia"
         ],
         "lat": [
          46.8625
         ],
         "legendgroup": "Mongolia",
         "lon": [
          103.8467
         ],
         "marker": {
          "color": "#EF553B",
          "size": [
           179
          ],
          "sizemode": "area",
          "sizeref": 318.2528
         },
         "name": "Mongolia",
         "showlegend": true,
         "type": "scattergeo"
        },
        {
         "geo": "geo",
         "hovertemplate": "<b>%{hovertext}</b><br><br>Country/Region=Montenegro<br>5/31/20=%{marker.size}<br>Lat=%{lat}<br>Long=%{lon}<extra></extra>",
         "hovertext": [
          "Montenegro"
         ],
         "lat": [
          42.5
         ],
         "legendgroup": "Montenegro",
         "lon": [
          19.3
         ],
         "marker": {
          "color": "#00cc96",
          "size": [
           324
          ],
          "sizemode": "area",
          "sizeref": 318.2528
         },
         "name": "Montenegro",
         "showlegend": true,
         "type": "scattergeo"
        },
        {
         "geo": "geo",
         "hovertemplate": "<b>%{hovertext}</b><br><br>Country/Region=Morocco<br>5/31/20=%{marker.size}<br>Lat=%{lat}<br>Long=%{lon}<extra></extra>",
         "hovertext": [
          "Morocco"
         ],
         "lat": [
          31.7917
         ],
         "legendgroup": "Morocco",
         "lon": [
          -7.0926
         ],
         "marker": {
          "color": "#ab63fa",
          "size": [
           7807
          ],
          "sizemode": "area",
          "sizeref": 318.2528
         },
         "name": "Morocco",
         "showlegend": true,
         "type": "scattergeo"
        },
        {
         "geo": "geo",
         "hovertemplate": "<b>%{hovertext}</b><br><br>Country/Region=Namibia<br>5/31/20=%{marker.size}<br>Lat=%{lat}<br>Long=%{lon}<extra></extra>",
         "hovertext": [
          "Namibia"
         ],
         "lat": [
          -22.9576
         ],
         "legendgroup": "Namibia",
         "lon": [
          18.4904
         ],
         "marker": {
          "color": "#FFA15A",
          "size": [
           24
          ],
          "sizemode": "area",
          "sizeref": 318.2528
         },
         "name": "Namibia",
         "showlegend": true,
         "type": "scattergeo"
        },
        {
         "geo": "geo",
         "hovertemplate": "<b>%{hovertext}</b><br><br>Country/Region=Nepal<br>5/31/20=%{marker.size}<br>Lat=%{lat}<br>Long=%{lon}<extra></extra>",
         "hovertext": [
          "Nepal"
         ],
         "lat": [
          28.1667
         ],
         "legendgroup": "Nepal",
         "lon": [
          84.25
         ],
         "marker": {
          "color": "#19d3f3",
          "size": [
           1572
          ],
          "sizemode": "area",
          "sizeref": 318.2528
         },
         "name": "Nepal",
         "showlegend": true,
         "type": "scattergeo"
        },
        {
         "geo": "geo",
         "hovertemplate": "<b>%{hovertext}</b><br><br>Country/Region=Netherlands<br>5/31/20=%{marker.size}<br>Lat=%{lat}<br>Long=%{lon}<extra></extra>",
         "hovertext": [
          "Netherlands",
          "Netherlands",
          "Netherlands",
          "Netherlands",
          "Netherlands"
         ],
         "lat": [
          12.5186,
          12.1696,
          18.0425,
          52.1326,
          12.1784
         ],
         "legendgroup": "Netherlands",
         "lon": [
          -70.0358,
          -68.99,
          -63.0548,
          5.2913,
          -68.2385
         ],
         "marker": {
          "color": "#FF6692",
          "size": [
           101,
           19,
           77,
           46442,
           6
          ],
          "sizemode": "area",
          "sizeref": 318.2528
         },
         "name": "Netherlands",
         "showlegend": true,
         "type": "scattergeo"
        },
        {
         "geo": "geo",
         "hovertemplate": "<b>%{hovertext}</b><br><br>Country/Region=New Zealand<br>5/31/20=%{marker.size}<br>Lat=%{lat}<br>Long=%{lon}<extra></extra>",
         "hovertext": [
          "New Zealand"
         ],
         "lat": [
          -40.9006
         ],
         "legendgroup": "New Zealand",
         "lon": [
          174.886
         ],
         "marker": {
          "color": "#B6E880",
          "size": [
           1504
          ],
          "sizemode": "area",
          "sizeref": 318.2528
         },
         "name": "New Zealand",
         "showlegend": true,
         "type": "scattergeo"
        },
        {
         "geo": "geo",
         "hovertemplate": "<b>%{hovertext}</b><br><br>Country/Region=Nicaragua<br>5/31/20=%{marker.size}<br>Lat=%{lat}<br>Long=%{lon}<extra></extra>",
         "hovertext": [
          "Nicaragua"
         ],
         "lat": [
          12.8654
         ],
         "legendgroup": "Nicaragua",
         "lon": [
          -85.2072
         ],
         "marker": {
          "color": "#FF97FF",
          "size": [
           759
          ],
          "sizemode": "area",
          "sizeref": 318.2528
         },
         "name": "Nicaragua",
         "showlegend": true,
         "type": "scattergeo"
        },
        {
         "geo": "geo",
         "hovertemplate": "<b>%{hovertext}</b><br><br>Country/Region=Niger<br>5/31/20=%{marker.size}<br>Lat=%{lat}<br>Long=%{lon}<extra></extra>",
         "hovertext": [
          "Niger"
         ],
         "lat": [
          17.6078
         ],
         "legendgroup": "Niger",
         "lon": [
          8.0817
         ],
         "marker": {
          "color": "#FECB52",
          "size": [
           958
          ],
          "sizemode": "area",
          "sizeref": 318.2528
         },
         "name": "Niger",
         "showlegend": true,
         "type": "scattergeo"
        },
        {
         "geo": "geo",
         "hovertemplate": "<b>%{hovertext}</b><br><br>Country/Region=Nigeria<br>5/31/20=%{marker.size}<br>Lat=%{lat}<br>Long=%{lon}<extra></extra>",
         "hovertext": [
          "Nigeria"
         ],
         "lat": [
          9.082
         ],
         "legendgroup": "Nigeria",
         "lon": [
          8.6753
         ],
         "marker": {
          "color": "#636efa",
          "size": [
           10162
          ],
          "sizemode": "area",
          "sizeref": 318.2528
         },
         "name": "Nigeria",
         "showlegend": true,
         "type": "scattergeo"
        },
        {
         "geo": "geo",
         "hovertemplate": "<b>%{hovertext}</b><br><br>Country/Region=North Macedonia<br>5/31/20=%{marker.size}<br>Lat=%{lat}<br>Long=%{lon}<extra></extra>",
         "hovertext": [
          "North Macedonia"
         ],
         "lat": [
          41.6086
         ],
         "legendgroup": "North Macedonia",
         "lon": [
          21.7453
         ],
         "marker": {
          "color": "#EF553B",
          "size": [
           2226
          ],
          "sizemode": "area",
          "sizeref": 318.2528
         },
         "name": "North Macedonia",
         "showlegend": true,
         "type": "scattergeo"
        },
        {
         "geo": "geo",
         "hovertemplate": "<b>%{hovertext}</b><br><br>Country/Region=Norway<br>5/31/20=%{marker.size}<br>Lat=%{lat}<br>Long=%{lon}<extra></extra>",
         "hovertext": [
          "Norway"
         ],
         "lat": [
          60.472
         ],
         "legendgroup": "Norway",
         "lon": [
          8.4689
         ],
         "marker": {
          "color": "#00cc96",
          "size": [
           8440
          ],
          "sizemode": "area",
          "sizeref": 318.2528
         },
         "name": "Norway",
         "showlegend": true,
         "type": "scattergeo"
        },
        {
         "geo": "geo",
         "hovertemplate": "<b>%{hovertext}</b><br><br>Country/Region=Oman<br>5/31/20=%{marker.size}<br>Lat=%{lat}<br>Long=%{lon}<extra></extra>",
         "hovertext": [
          "Oman"
         ],
         "lat": [
          21
         ],
         "legendgroup": "Oman",
         "lon": [
          57
         ],
         "marker": {
          "color": "#ab63fa",
          "size": [
           11437
          ],
          "sizemode": "area",
          "sizeref": 318.2528
         },
         "name": "Oman",
         "showlegend": true,
         "type": "scattergeo"
        },
        {
         "geo": "geo",
         "hovertemplate": "<b>%{hovertext}</b><br><br>Country/Region=Pakistan<br>5/31/20=%{marker.size}<br>Lat=%{lat}<br>Long=%{lon}<extra></extra>",
         "hovertext": [
          "Pakistan"
         ],
         "lat": [
          30.3753
         ],
         "legendgroup": "Pakistan",
         "lon": [
          69.3451
         ],
         "marker": {
          "color": "#FFA15A",
          "size": [
           69496
          ],
          "sizemode": "area",
          "sizeref": 318.2528
         },
         "name": "Pakistan",
         "showlegend": true,
         "type": "scattergeo"
        },
        {
         "geo": "geo",
         "hovertemplate": "<b>%{hovertext}</b><br><br>Country/Region=Panama<br>5/31/20=%{marker.size}<br>Lat=%{lat}<br>Long=%{lon}<extra></extra>",
         "hovertext": [
          "Panama"
         ],
         "lat": [
          8.538
         ],
         "legendgroup": "Panama",
         "lon": [
          -80.7821
         ],
         "marker": {
          "color": "#19d3f3",
          "size": [
           13463
          ],
          "sizemode": "area",
          "sizeref": 318.2528
         },
         "name": "Panama",
         "showlegend": true,
         "type": "scattergeo"
        },
        {
         "geo": "geo",
         "hovertemplate": "<b>%{hovertext}</b><br><br>Country/Region=Papua New Guinea<br>5/31/20=%{marker.size}<br>Lat=%{lat}<br>Long=%{lon}<extra></extra>",
         "hovertext": [
          "Papua New Guinea"
         ],
         "lat": [
          -6.315
         ],
         "legendgroup": "Papua New Guinea",
         "lon": [
          143.9555
         ],
         "marker": {
          "color": "#FF6692",
          "size": [
           8
          ],
          "sizemode": "area",
          "sizeref": 318.2528
         },
         "name": "Papua New Guinea",
         "showlegend": true,
         "type": "scattergeo"
        },
        {
         "geo": "geo",
         "hovertemplate": "<b>%{hovertext}</b><br><br>Country/Region=Paraguay<br>5/31/20=%{marker.size}<br>Lat=%{lat}<br>Long=%{lon}<extra></extra>",
         "hovertext": [
          "Paraguay"
         ],
         "lat": [
          -23.4425
         ],
         "legendgroup": "Paraguay",
         "lon": [
          -58.4438
         ],
         "marker": {
          "color": "#B6E880",
          "size": [
           986
          ],
          "sizemode": "area",
          "sizeref": 318.2528
         },
         "name": "Paraguay",
         "showlegend": true,
         "type": "scattergeo"
        },
        {
         "geo": "geo",
         "hovertemplate": "<b>%{hovertext}</b><br><br>Country/Region=Peru<br>5/31/20=%{marker.size}<br>Lat=%{lat}<br>Long=%{lon}<extra></extra>",
         "hovertext": [
          "Peru"
         ],
         "lat": [
          -9.19
         ],
         "legendgroup": "Peru",
         "lon": [
          -75.0152
         ],
         "marker": {
          "color": "#FF97FF",
          "size": [
           164476
          ],
          "sizemode": "area",
          "sizeref": 318.2528
         },
         "name": "Peru",
         "showlegend": true,
         "type": "scattergeo"
        },
        {
         "geo": "geo",
         "hovertemplate": "<b>%{hovertext}</b><br><br>Country/Region=Philippines<br>5/31/20=%{marker.size}<br>Lat=%{lat}<br>Long=%{lon}<extra></extra>",
         "hovertext": [
          "Philippines"
         ],
         "lat": [
          13
         ],
         "legendgroup": "Philippines",
         "lon": [
          122
         ],
         "marker": {
          "color": "#FECB52",
          "size": [
           18086
          ],
          "sizemode": "area",
          "sizeref": 318.2528
         },
         "name": "Philippines",
         "showlegend": true,
         "type": "scattergeo"
        },
        {
         "geo": "geo",
         "hovertemplate": "<b>%{hovertext}</b><br><br>Country/Region=Poland<br>5/31/20=%{marker.size}<br>Lat=%{lat}<br>Long=%{lon}<extra></extra>",
         "hovertext": [
          "Poland"
         ],
         "lat": [
          51.9194
         ],
         "legendgroup": "Poland",
         "lon": [
          19.1451
         ],
         "marker": {
          "color": "#636efa",
          "size": [
           23786
          ],
          "sizemode": "area",
          "sizeref": 318.2528
         },
         "name": "Poland",
         "showlegend": true,
         "type": "scattergeo"
        },
        {
         "geo": "geo",
         "hovertemplate": "<b>%{hovertext}</b><br><br>Country/Region=Portugal<br>5/31/20=%{marker.size}<br>Lat=%{lat}<br>Long=%{lon}<extra></extra>",
         "hovertext": [
          "Portugal"
         ],
         "lat": [
          39.3999
         ],
         "legendgroup": "Portugal",
         "lon": [
          -8.2245
         ],
         "marker": {
          "color": "#EF553B",
          "size": [
           32500
          ],
          "sizemode": "area",
          "sizeref": 318.2528
         },
         "name": "Portugal",
         "showlegend": true,
         "type": "scattergeo"
        },
        {
         "geo": "geo",
         "hovertemplate": "<b>%{hovertext}</b><br><br>Country/Region=Qatar<br>5/31/20=%{marker.size}<br>Lat=%{lat}<br>Long=%{lon}<extra></extra>",
         "hovertext": [
          "Qatar"
         ],
         "lat": [
          25.3548
         ],
         "legendgroup": "Qatar",
         "lon": [
          51.1839
         ],
         "marker": {
          "color": "#00cc96",
          "size": [
           56910
          ],
          "sizemode": "area",
          "sizeref": 318.2528
         },
         "name": "Qatar",
         "showlegend": true,
         "type": "scattergeo"
        },
        {
         "geo": "geo",
         "hovertemplate": "<b>%{hovertext}</b><br><br>Country/Region=Romania<br>5/31/20=%{marker.size}<br>Lat=%{lat}<br>Long=%{lon}<extra></extra>",
         "hovertext": [
          "Romania"
         ],
         "lat": [
          45.9432
         ],
         "legendgroup": "Romania",
         "lon": [
          24.9668
         ],
         "marker": {
          "color": "#ab63fa",
          "size": [
           19257
          ],
          "sizemode": "area",
          "sizeref": 318.2528
         },
         "name": "Romania",
         "showlegend": true,
         "type": "scattergeo"
        },
        {
         "geo": "geo",
         "hovertemplate": "<b>%{hovertext}</b><br><br>Country/Region=Russia<br>5/31/20=%{marker.size}<br>Lat=%{lat}<br>Long=%{lon}<extra></extra>",
         "hovertext": [
          "Russia"
         ],
         "lat": [
          60
         ],
         "legendgroup": "Russia",
         "lon": [
          90
         ],
         "marker": {
          "color": "#FFA15A",
          "size": [
           405843
          ],
          "sizemode": "area",
          "sizeref": 318.2528
         },
         "name": "Russia",
         "showlegend": true,
         "type": "scattergeo"
        },
        {
         "geo": "geo",
         "hovertemplate": "<b>%{hovertext}</b><br><br>Country/Region=Rwanda<br>5/31/20=%{marker.size}<br>Lat=%{lat}<br>Long=%{lon}<extra></extra>",
         "hovertext": [
          "Rwanda"
         ],
         "lat": [
          -1.9403
         ],
         "legendgroup": "Rwanda",
         "lon": [
          29.8739
         ],
         "marker": {
          "color": "#19d3f3",
          "size": [
           370
          ],
          "sizemode": "area",
          "sizeref": 318.2528
         },
         "name": "Rwanda",
         "showlegend": true,
         "type": "scattergeo"
        },
        {
         "geo": "geo",
         "hovertemplate": "<b>%{hovertext}</b><br><br>Country/Region=Saint Lucia<br>5/31/20=%{marker.size}<br>Lat=%{lat}<br>Long=%{lon}<extra></extra>",
         "hovertext": [
          "Saint Lucia"
         ],
         "lat": [
          13.9094
         ],
         "legendgroup": "Saint Lucia",
         "lon": [
          -60.9789
         ],
         "marker": {
          "color": "#FF6692",
          "size": [
           18
          ],
          "sizemode": "area",
          "sizeref": 318.2528
         },
         "name": "Saint Lucia",
         "showlegend": true,
         "type": "scattergeo"
        },
        {
         "geo": "geo",
         "hovertemplate": "<b>%{hovertext}</b><br><br>Country/Region=Saint Vincent and the Grenadines<br>5/31/20=%{marker.size}<br>Lat=%{lat}<br>Long=%{lon}<extra></extra>",
         "hovertext": [
          "Saint Vincent and the Grenadines"
         ],
         "lat": [
          12.9843
         ],
         "legendgroup": "Saint Vincent and the Grenadines",
         "lon": [
          -61.2872
         ],
         "marker": {
          "color": "#B6E880",
          "size": [
           26
          ],
          "sizemode": "area",
          "sizeref": 318.2528
         },
         "name": "Saint Vincent and the Grenadines",
         "showlegend": true,
         "type": "scattergeo"
        },
        {
         "geo": "geo",
         "hovertemplate": "<b>%{hovertext}</b><br><br>Country/Region=San Marino<br>5/31/20=%{marker.size}<br>Lat=%{lat}<br>Long=%{lon}<extra></extra>",
         "hovertext": [
          "San Marino"
         ],
         "lat": [
          43.9424
         ],
         "legendgroup": "San Marino",
         "lon": [
          12.4578
         ],
         "marker": {
          "color": "#FF97FF",
          "size": [
           671
          ],
          "sizemode": "area",
          "sizeref": 318.2528
         },
         "name": "San Marino",
         "showlegend": true,
         "type": "scattergeo"
        },
        {
         "geo": "geo",
         "hovertemplate": "<b>%{hovertext}</b><br><br>Country/Region=Saudi Arabia<br>5/31/20=%{marker.size}<br>Lat=%{lat}<br>Long=%{lon}<extra></extra>",
         "hovertext": [
          "Saudi Arabia"
         ],
         "lat": [
          24
         ],
         "legendgroup": "Saudi Arabia",
         "lon": [
          45
         ],
         "marker": {
          "color": "#FECB52",
          "size": [
           85261
          ],
          "sizemode": "area",
          "sizeref": 318.2528
         },
         "name": "Saudi Arabia",
         "showlegend": true,
         "type": "scattergeo"
        },
        {
         "geo": "geo",
         "hovertemplate": "<b>%{hovertext}</b><br><br>Country/Region=Senegal<br>5/31/20=%{marker.size}<br>Lat=%{lat}<br>Long=%{lon}<extra></extra>",
         "hovertext": [
          "Senegal"
         ],
         "lat": [
          14.4974
         ],
         "legendgroup": "Senegal",
         "lon": [
          -14.4524
         ],
         "marker": {
          "color": "#636efa",
          "size": [
           3645
          ],
          "sizemode": "area",
          "sizeref": 318.2528
         },
         "name": "Senegal",
         "showlegend": true,
         "type": "scattergeo"
        },
        {
         "geo": "geo",
         "hovertemplate": "<b>%{hovertext}</b><br><br>Country/Region=Serbia<br>5/31/20=%{marker.size}<br>Lat=%{lat}<br>Long=%{lon}<extra></extra>",
         "hovertext": [
          "Serbia"
         ],
         "lat": [
          44.0165
         ],
         "legendgroup": "Serbia",
         "lon": [
          21.0059
         ],
         "marker": {
          "color": "#EF553B",
          "size": [
           11412
          ],
          "sizemode": "area",
          "sizeref": 318.2528
         },
         "name": "Serbia",
         "showlegend": true,
         "type": "scattergeo"
        },
        {
         "geo": "geo",
         "hovertemplate": "<b>%{hovertext}</b><br><br>Country/Region=Seychelles<br>5/31/20=%{marker.size}<br>Lat=%{lat}<br>Long=%{lon}<extra></extra>",
         "hovertext": [
          "Seychelles"
         ],
         "lat": [
          -4.6796
         ],
         "legendgroup": "Seychelles",
         "lon": [
          55.492
         ],
         "marker": {
          "color": "#00cc96",
          "size": [
           11
          ],
          "sizemode": "area",
          "sizeref": 318.2528
         },
         "name": "Seychelles",
         "showlegend": true,
         "type": "scattergeo"
        },
        {
         "geo": "geo",
         "hovertemplate": "<b>%{hovertext}</b><br><br>Country/Region=Singapore<br>5/31/20=%{marker.size}<br>Lat=%{lat}<br>Long=%{lon}<extra></extra>",
         "hovertext": [
          "Singapore"
         ],
         "lat": [
          1.2833
         ],
         "legendgroup": "Singapore",
         "lon": [
          103.8333
         ],
         "marker": {
          "color": "#ab63fa",
          "size": [
           34884
          ],
          "sizemode": "area",
          "sizeref": 318.2528
         },
         "name": "Singapore",
         "showlegend": true,
         "type": "scattergeo"
        },
        {
         "geo": "geo",
         "hovertemplate": "<b>%{hovertext}</b><br><br>Country/Region=Slovakia<br>5/31/20=%{marker.size}<br>Lat=%{lat}<br>Long=%{lon}<extra></extra>",
         "hovertext": [
          "Slovakia"
         ],
         "lat": [
          48.669
         ],
         "legendgroup": "Slovakia",
         "lon": [
          19.699
         ],
         "marker": {
          "color": "#FFA15A",
          "size": [
           1521
          ],
          "sizemode": "area",
          "sizeref": 318.2528
         },
         "name": "Slovakia",
         "showlegend": true,
         "type": "scattergeo"
        },
        {
         "geo": "geo",
         "hovertemplate": "<b>%{hovertext}</b><br><br>Country/Region=Slovenia<br>5/31/20=%{marker.size}<br>Lat=%{lat}<br>Long=%{lon}<extra></extra>",
         "hovertext": [
          "Slovenia"
         ],
         "lat": [
          46.1512
         ],
         "legendgroup": "Slovenia",
         "lon": [
          14.9955
         ],
         "marker": {
          "color": "#19d3f3",
          "size": [
           1473
          ],
          "sizemode": "area",
          "sizeref": 318.2528
         },
         "name": "Slovenia",
         "showlegend": true,
         "type": "scattergeo"
        },
        {
         "geo": "geo",
         "hovertemplate": "<b>%{hovertext}</b><br><br>Country/Region=Somalia<br>5/31/20=%{marker.size}<br>Lat=%{lat}<br>Long=%{lon}<extra></extra>",
         "hovertext": [
          "Somalia"
         ],
         "lat": [
          5.1521
         ],
         "legendgroup": "Somalia",
         "lon": [
          46.1996
         ],
         "marker": {
          "color": "#FF6692",
          "size": [
           1976
          ],
          "sizemode": "area",
          "sizeref": 318.2528
         },
         "name": "Somalia",
         "showlegend": true,
         "type": "scattergeo"
        },
        {
         "geo": "geo",
         "hovertemplate": "<b>%{hovertext}</b><br><br>Country/Region=South Africa<br>5/31/20=%{marker.size}<br>Lat=%{lat}<br>Long=%{lon}<extra></extra>",
         "hovertext": [
          "South Africa"
         ],
         "lat": [
          -30.5595
         ],
         "legendgroup": "South Africa",
         "lon": [
          22.9375
         ],
         "marker": {
          "color": "#B6E880",
          "size": [
           32683
          ],
          "sizemode": "area",
          "sizeref": 318.2528
         },
         "name": "South Africa",
         "showlegend": true,
         "type": "scattergeo"
        },
        {
         "geo": "geo",
         "hovertemplate": "<b>%{hovertext}</b><br><br>Country/Region=Spain<br>5/31/20=%{marker.size}<br>Lat=%{lat}<br>Long=%{lon}<extra></extra>",
         "hovertext": [
          "Spain"
         ],
         "lat": [
          40
         ],
         "legendgroup": "Spain",
         "lon": [
          -4
         ],
         "marker": {
          "color": "#FF97FF",
          "size": [
           239479
          ],
          "sizemode": "area",
          "sizeref": 318.2528
         },
         "name": "Spain",
         "showlegend": true,
         "type": "scattergeo"
        },
        {
         "geo": "geo",
         "hovertemplate": "<b>%{hovertext}</b><br><br>Country/Region=Sri Lanka<br>5/31/20=%{marker.size}<br>Lat=%{lat}<br>Long=%{lon}<extra></extra>",
         "hovertext": [
          "Sri Lanka"
         ],
         "lat": [
          7
         ],
         "legendgroup": "Sri Lanka",
         "lon": [
          81
         ],
         "marker": {
          "color": "#FECB52",
          "size": [
           1633
          ],
          "sizemode": "area",
          "sizeref": 318.2528
         },
         "name": "Sri Lanka",
         "showlegend": true,
         "type": "scattergeo"
        },
        {
         "geo": "geo",
         "hovertemplate": "<b>%{hovertext}</b><br><br>Country/Region=Sudan<br>5/31/20=%{marker.size}<br>Lat=%{lat}<br>Long=%{lon}<extra></extra>",
         "hovertext": [
          "Sudan"
         ],
         "lat": [
          12.8628
         ],
         "legendgroup": "Sudan",
         "lon": [
          30.2176
         ],
         "marker": {
          "color": "#636efa",
          "size": [
           5026
          ],
          "sizemode": "area",
          "sizeref": 318.2528
         },
         "name": "Sudan",
         "showlegend": true,
         "type": "scattergeo"
        },
        {
         "geo": "geo",
         "hovertemplate": "<b>%{hovertext}</b><br><br>Country/Region=Suriname<br>5/31/20=%{marker.size}<br>Lat=%{lat}<br>Long=%{lon}<extra></extra>",
         "hovertext": [
          "Suriname"
         ],
         "lat": [
          3.9193
         ],
         "legendgroup": "Suriname",
         "lon": [
          -56.0278
         ],
         "marker": {
          "color": "#EF553B",
          "size": [
           23
          ],
          "sizemode": "area",
          "sizeref": 318.2528
         },
         "name": "Suriname",
         "showlegend": true,
         "type": "scattergeo"
        },
        {
         "geo": "geo",
         "hovertemplate": "<b>%{hovertext}</b><br><br>Country/Region=Sweden<br>5/31/20=%{marker.size}<br>Lat=%{lat}<br>Long=%{lon}<extra></extra>",
         "hovertext": [
          "Sweden"
         ],
         "lat": [
          63
         ],
         "legendgroup": "Sweden",
         "lon": [
          16
         ],
         "marker": {
          "color": "#00cc96",
          "size": [
           37542
          ],
          "sizemode": "area",
          "sizeref": 318.2528
         },
         "name": "Sweden",
         "showlegend": true,
         "type": "scattergeo"
        },
        {
         "geo": "geo",
         "hovertemplate": "<b>%{hovertext}</b><br><br>Country/Region=Switzerland<br>5/31/20=%{marker.size}<br>Lat=%{lat}<br>Long=%{lon}<extra></extra>",
         "hovertext": [
          "Switzerland"
         ],
         "lat": [
          46.8182
         ],
         "legendgroup": "Switzerland",
         "lon": [
          8.2275
         ],
         "marker": {
          "color": "#ab63fa",
          "size": [
           30862
          ],
          "sizemode": "area",
          "sizeref": 318.2528
         },
         "name": "Switzerland",
         "showlegend": true,
         "type": "scattergeo"
        },
        {
         "geo": "geo",
         "hovertemplate": "<b>%{hovertext}</b><br><br>Country/Region=Taiwan*<br>5/31/20=%{marker.size}<br>Lat=%{lat}<br>Long=%{lon}<extra></extra>",
         "hovertext": [
          "Taiwan*"
         ],
         "lat": [
          23.7
         ],
         "legendgroup": "Taiwan*",
         "lon": [
          121
         ],
         "marker": {
          "color": "#FFA15A",
          "size": [
           442
          ],
          "sizemode": "area",
          "sizeref": 318.2528
         },
         "name": "Taiwan*",
         "showlegend": true,
         "type": "scattergeo"
        },
        {
         "geo": "geo",
         "hovertemplate": "<b>%{hovertext}</b><br><br>Country/Region=Tanzania<br>5/31/20=%{marker.size}<br>Lat=%{lat}<br>Long=%{lon}<extra></extra>",
         "hovertext": [
          "Tanzania"
         ],
         "lat": [
          -6.369
         ],
         "legendgroup": "Tanzania",
         "lon": [
          34.8888
         ],
         "marker": {
          "color": "#19d3f3",
          "size": [
           509
          ],
          "sizemode": "area",
          "sizeref": 318.2528
         },
         "name": "Tanzania",
         "showlegend": true,
         "type": "scattergeo"
        },
        {
         "geo": "geo",
         "hovertemplate": "<b>%{hovertext}</b><br><br>Country/Region=Thailand<br>5/31/20=%{marker.size}<br>Lat=%{lat}<br>Long=%{lon}<extra></extra>",
         "hovertext": [
          "Thailand"
         ],
         "lat": [
          15
         ],
         "legendgroup": "Thailand",
         "lon": [
          101
         ],
         "marker": {
          "color": "#FF6692",
          "size": [
           3081
          ],
          "sizemode": "area",
          "sizeref": 318.2528
         },
         "name": "Thailand",
         "showlegend": true,
         "type": "scattergeo"
        },
        {
         "geo": "geo",
         "hovertemplate": "<b>%{hovertext}</b><br><br>Country/Region=Togo<br>5/31/20=%{marker.size}<br>Lat=%{lat}<br>Long=%{lon}<extra></extra>",
         "hovertext": [
          "Togo"
         ],
         "lat": [
          8.6195
         ],
         "legendgroup": "Togo",
         "lon": [
          0.8248
         ],
         "marker": {
          "color": "#B6E880",
          "size": [
           442
          ],
          "sizemode": "area",
          "sizeref": 318.2528
         },
         "name": "Togo",
         "showlegend": true,
         "type": "scattergeo"
        },
        {
         "geo": "geo",
         "hovertemplate": "<b>%{hovertext}</b><br><br>Country/Region=Trinidad and Tobago<br>5/31/20=%{marker.size}<br>Lat=%{lat}<br>Long=%{lon}<extra></extra>",
         "hovertext": [
          "Trinidad and Tobago"
         ],
         "lat": [
          10.6918
         ],
         "legendgroup": "Trinidad and Tobago",
         "lon": [
          -61.2225
         ],
         "marker": {
          "color": "#FF97FF",
          "size": [
           117
          ],
          "sizemode": "area",
          "sizeref": 318.2528
         },
         "name": "Trinidad and Tobago",
         "showlegend": true,
         "type": "scattergeo"
        },
        {
         "geo": "geo",
         "hovertemplate": "<b>%{hovertext}</b><br><br>Country/Region=Tunisia<br>5/31/20=%{marker.size}<br>Lat=%{lat}<br>Long=%{lon}<extra></extra>",
         "hovertext": [
          "Tunisia"
         ],
         "lat": [
          34
         ],
         "legendgroup": "Tunisia",
         "lon": [
          9
         ],
         "marker": {
          "color": "#FECB52",
          "size": [
           1077
          ],
          "sizemode": "area",
          "sizeref": 318.2528
         },
         "name": "Tunisia",
         "showlegend": true,
         "type": "scattergeo"
        },
        {
         "geo": "geo",
         "hovertemplate": "<b>%{hovertext}</b><br><br>Country/Region=Turkey<br>5/31/20=%{marker.size}<br>Lat=%{lat}<br>Long=%{lon}<extra></extra>",
         "hovertext": [
          "Turkey"
         ],
         "lat": [
          38.9637
         ],
         "legendgroup": "Turkey",
         "lon": [
          35.2433
         ],
         "marker": {
          "color": "#636efa",
          "size": [
           163942
          ],
          "sizemode": "area",
          "sizeref": 318.2528
         },
         "name": "Turkey",
         "showlegend": true,
         "type": "scattergeo"
        },
        {
         "geo": "geo",
         "hovertemplate": "<b>%{hovertext}</b><br><br>Country/Region=Uganda<br>5/31/20=%{marker.size}<br>Lat=%{lat}<br>Long=%{lon}<extra></extra>",
         "hovertext": [
          "Uganda"
         ],
         "lat": [
          1
         ],
         "legendgroup": "Uganda",
         "lon": [
          32
         ],
         "marker": {
          "color": "#EF553B",
          "size": [
           417
          ],
          "sizemode": "area",
          "sizeref": 318.2528
         },
         "name": "Uganda",
         "showlegend": true,
         "type": "scattergeo"
        },
        {
         "geo": "geo",
         "hovertemplate": "<b>%{hovertext}</b><br><br>Country/Region=Ukraine<br>5/31/20=%{marker.size}<br>Lat=%{lat}<br>Long=%{lon}<extra></extra>",
         "hovertext": [
          "Ukraine"
         ],
         "lat": [
          48.3794
         ],
         "legendgroup": "Ukraine",
         "lon": [
          31.1656
         ],
         "marker": {
          "color": "#00cc96",
          "size": [
           23672
          ],
          "sizemode": "area",
          "sizeref": 318.2528
         },
         "name": "Ukraine",
         "showlegend": true,
         "type": "scattergeo"
        },
        {
         "geo": "geo",
         "hovertemplate": "<b>%{hovertext}</b><br><br>Country/Region=United Arab Emirates<br>5/31/20=%{marker.size}<br>Lat=%{lat}<br>Long=%{lon}<extra></extra>",
         "hovertext": [
          "United Arab Emirates"
         ],
         "lat": [
          24
         ],
         "legendgroup": "United Arab Emirates",
         "lon": [
          54
         ],
         "marker": {
          "color": "#ab63fa",
          "size": [
           34557
          ],
          "sizemode": "area",
          "sizeref": 318.2528
         },
         "name": "United Arab Emirates",
         "showlegend": true,
         "type": "scattergeo"
        },
        {
         "geo": "geo",
         "hovertemplate": "<b>%{hovertext}</b><br><br>Country/Region=United Kingdom<br>5/31/20=%{marker.size}<br>Lat=%{lat}<br>Long=%{lon}<extra></extra>",
         "hovertext": [
          "United Kingdom",
          "United Kingdom",
          "United Kingdom",
          "United Kingdom",
          "United Kingdom",
          "United Kingdom",
          "United Kingdom",
          "United Kingdom",
          "United Kingdom",
          "United Kingdom",
          "United Kingdom"
         ],
         "lat": [
          32.3078,
          19.3133,
          49.3723,
          36.1408,
          54.2361,
          16.7425,
          55.3781,
          18.2206,
          18.4207,
          21.69400000000001,
          -51.7963
         ],
         "legendgroup": "United Kingdom",
         "lon": [
          -64.7505,
          -81.2546,
          -2.3644,
          -5.3536,
          -4.5481,
          -62.1874,
          -3.4360000000000004,
          -63.0686,
          -64.64,
          -71.7979,
          -59.5236
         ],
         "marker": {
          "color": "#FFA15A",
          "size": [
           140,
           141,
           560,
           170,
           336,
           11,
           274762,
           3,
           8,
           12,
           13
          ],
          "sizemode": "area",
          "sizeref": 318.2528
         },
         "name": "United Kingdom",
         "showlegend": true,
         "type": "scattergeo"
        },
        {
         "geo": "geo",
         "hovertemplate": "<b>%{hovertext}</b><br><br>Country/Region=Uruguay<br>5/31/20=%{marker.size}<br>Lat=%{lat}<br>Long=%{lon}<extra></extra>",
         "hovertext": [
          "Uruguay"
         ],
         "lat": [
          -32.5228
         ],
         "legendgroup": "Uruguay",
         "lon": [
          -55.7658
         ],
         "marker": {
          "color": "#19d3f3",
          "size": [
           823
          ],
          "sizemode": "area",
          "sizeref": 318.2528
         },
         "name": "Uruguay",
         "showlegend": true,
         "type": "scattergeo"
        },
        {
         "geo": "geo",
         "hovertemplate": "<b>%{hovertext}</b><br><br>Country/Region=US<br>5/31/20=%{marker.size}<br>Lat=%{lat}<br>Long=%{lon}<extra></extra>",
         "hovertext": [
          "US"
         ],
         "lat": [
          37.0902
         ],
         "legendgroup": "US",
         "lon": [
          -95.7129
         ],
         "marker": {
          "color": "#FF6692",
          "size": [
           1790172
          ],
          "sizemode": "area",
          "sizeref": 318.2528
         },
         "name": "US",
         "showlegend": true,
         "type": "scattergeo"
        },
        {
         "geo": "geo",
         "hovertemplate": "<b>%{hovertext}</b><br><br>Country/Region=Uzbekistan<br>5/31/20=%{marker.size}<br>Lat=%{lat}<br>Long=%{lon}<extra></extra>",
         "hovertext": [
          "Uzbekistan"
         ],
         "lat": [
          41.3775
         ],
         "legendgroup": "Uzbekistan",
         "lon": [
          64.5853
         ],
         "marker": {
          "color": "#B6E880",
          "size": [
           3623
          ],
          "sizemode": "area",
          "sizeref": 318.2528
         },
         "name": "Uzbekistan",
         "showlegend": true,
         "type": "scattergeo"
        },
        {
         "geo": "geo",
         "hovertemplate": "<b>%{hovertext}</b><br><br>Country/Region=Venezuela<br>5/31/20=%{marker.size}<br>Lat=%{lat}<br>Long=%{lon}<extra></extra>",
         "hovertext": [
          "Venezuela"
         ],
         "lat": [
          6.4238
         ],
         "legendgroup": "Venezuela",
         "lon": [
          -66.5897
         ],
         "marker": {
          "color": "#FF97FF",
          "size": [
           1510
          ],
          "sizemode": "area",
          "sizeref": 318.2528
         },
         "name": "Venezuela",
         "showlegend": true,
         "type": "scattergeo"
        },
        {
         "geo": "geo",
         "hovertemplate": "<b>%{hovertext}</b><br><br>Country/Region=Vietnam<br>5/31/20=%{marker.size}<br>Lat=%{lat}<br>Long=%{lon}<extra></extra>",
         "hovertext": [
          "Vietnam"
         ],
         "lat": [
          16
         ],
         "legendgroup": "Vietnam",
         "lon": [
          108
         ],
         "marker": {
          "color": "#FECB52",
          "size": [
           328
          ],
          "sizemode": "area",
          "sizeref": 318.2528
         },
         "name": "Vietnam",
         "showlegend": true,
         "type": "scattergeo"
        },
        {
         "geo": "geo",
         "hovertemplate": "<b>%{hovertext}</b><br><br>Country/Region=Zambia<br>5/31/20=%{marker.size}<br>Lat=%{lat}<br>Long=%{lon}<extra></extra>",
         "hovertext": [
          "Zambia"
         ],
         "lat": [
          -15.4167
         ],
         "legendgroup": "Zambia",
         "lon": [
          28.2833
         ],
         "marker": {
          "color": "#636efa",
          "size": [
           1057
          ],
          "sizemode": "area",
          "sizeref": 318.2528
         },
         "name": "Zambia",
         "showlegend": true,
         "type": "scattergeo"
        },
        {
         "geo": "geo",
         "hovertemplate": "<b>%{hovertext}</b><br><br>Country/Region=Zimbabwe<br>5/31/20=%{marker.size}<br>Lat=%{lat}<br>Long=%{lon}<extra></extra>",
         "hovertext": [
          "Zimbabwe"
         ],
         "lat": [
          -20
         ],
         "legendgroup": "Zimbabwe",
         "lon": [
          30
         ],
         "marker": {
          "color": "#EF553B",
          "size": [
           178
          ],
          "sizemode": "area",
          "sizeref": 318.2528
         },
         "name": "Zimbabwe",
         "showlegend": true,
         "type": "scattergeo"
        },
        {
         "geo": "geo",
         "hovertemplate": "<b>%{hovertext}</b><br><br>Country/Region=Dominica<br>5/31/20=%{marker.size}<br>Lat=%{lat}<br>Long=%{lon}<extra></extra>",
         "hovertext": [
          "Dominica"
         ],
         "lat": [
          15.415
         ],
         "legendgroup": "Dominica",
         "lon": [
          -61.371
         ],
         "marker": {
          "color": "#00cc96",
          "size": [
           16
          ],
          "sizemode": "area",
          "sizeref": 318.2528
         },
         "name": "Dominica",
         "showlegend": true,
         "type": "scattergeo"
        },
        {
         "geo": "geo",
         "hovertemplate": "<b>%{hovertext}</b><br><br>Country/Region=Grenada<br>5/31/20=%{marker.size}<br>Lat=%{lat}<br>Long=%{lon}<extra></extra>",
         "hovertext": [
          "Grenada"
         ],
         "lat": [
          12.1165
         ],
         "legendgroup": "Grenada",
         "lon": [
          -61.678999999999995
         ],
         "marker": {
          "color": "#ab63fa",
          "size": [
           23
          ],
          "sizemode": "area",
          "sizeref": 318.2528
         },
         "name": "Grenada",
         "showlegend": true,
         "type": "scattergeo"
        },
        {
         "geo": "geo",
         "hovertemplate": "<b>%{hovertext}</b><br><br>Country/Region=Mozambique<br>5/31/20=%{marker.size}<br>Lat=%{lat}<br>Long=%{lon}<extra></extra>",
         "hovertext": [
          "Mozambique"
         ],
         "lat": [
          -18.665695
         ],
         "legendgroup": "Mozambique",
         "lon": [
          35.529562
         ],
         "marker": {
          "color": "#FFA15A",
          "size": [
           254
          ],
          "sizemode": "area",
          "sizeref": 318.2528
         },
         "name": "Mozambique",
         "showlegend": true,
         "type": "scattergeo"
        },
        {
         "geo": "geo",
         "hovertemplate": "<b>%{hovertext}</b><br><br>Country/Region=Syria<br>5/31/20=%{marker.size}<br>Lat=%{lat}<br>Long=%{lon}<extra></extra>",
         "hovertext": [
          "Syria"
         ],
         "lat": [
          34.802075
         ],
         "legendgroup": "Syria",
         "lon": [
          38.99681500000001
         ],
         "marker": {
          "color": "#19d3f3",
          "size": [
           122
          ],
          "sizemode": "area",
          "sizeref": 318.2528
         },
         "name": "Syria",
         "showlegend": true,
         "type": "scattergeo"
        },
        {
         "geo": "geo",
         "hovertemplate": "<b>%{hovertext}</b><br><br>Country/Region=Timor-Leste<br>5/31/20=%{marker.size}<br>Lat=%{lat}<br>Long=%{lon}<extra></extra>",
         "hovertext": [
          "Timor-Leste"
         ],
         "lat": [
          -8.874217
         ],
         "legendgroup": "Timor-Leste",
         "lon": [
          125.727539
         ],
         "marker": {
          "color": "#FF6692",
          "size": [
           24
          ],
          "sizemode": "area",
          "sizeref": 318.2528
         },
         "name": "Timor-Leste",
         "showlegend": true,
         "type": "scattergeo"
        },
        {
         "geo": "geo",
         "hovertemplate": "<b>%{hovertext}</b><br><br>Country/Region=Belize<br>5/31/20=%{marker.size}<br>Lat=%{lat}<br>Long=%{lon}<extra></extra>",
         "hovertext": [
          "Belize"
         ],
         "lat": [
          13.1939
         ],
         "legendgroup": "Belize",
         "lon": [
          -59.5432
         ],
         "marker": {
          "color": "#B6E880",
          "size": [
           18
          ],
          "sizemode": "area",
          "sizeref": 318.2528
         },
         "name": "Belize",
         "showlegend": true,
         "type": "scattergeo"
        },
        {
         "geo": "geo",
         "hovertemplate": "<b>%{hovertext}</b><br><br>Country/Region=Laos<br>5/31/20=%{marker.size}<br>Lat=%{lat}<br>Long=%{lon}<extra></extra>",
         "hovertext": [
          "Laos"
         ],
         "lat": [
          19.856270000000002
         ],
         "legendgroup": "Laos",
         "lon": [
          102.495496
         ],
         "marker": {
          "color": "#FF97FF",
          "size": [
           19
          ],
          "sizemode": "area",
          "sizeref": 318.2528
         },
         "name": "Laos",
         "showlegend": true,
         "type": "scattergeo"
        },
        {
         "geo": "geo",
         "hovertemplate": "<b>%{hovertext}</b><br><br>Country/Region=Libya<br>5/31/20=%{marker.size}<br>Lat=%{lat}<br>Long=%{lon}<extra></extra>",
         "hovertext": [
          "Libya"
         ],
         "lat": [
          26.3351
         ],
         "legendgroup": "Libya",
         "lon": [
          17.228331
         ],
         "marker": {
          "color": "#FECB52",
          "size": [
           156
          ],
          "sizemode": "area",
          "sizeref": 318.2528
         },
         "name": "Libya",
         "showlegend": true,
         "type": "scattergeo"
        },
        {
         "geo": "geo",
         "hovertemplate": "<b>%{hovertext}</b><br><br>Country/Region=West Bank and Gaza<br>5/31/20=%{marker.size}<br>Lat=%{lat}<br>Long=%{lon}<extra></extra>",
         "hovertext": [
          "West Bank and Gaza"
         ],
         "lat": [
          31.9522
         ],
         "legendgroup": "West Bank and Gaza",
         "lon": [
          35.2332
         ],
         "marker": {
          "color": "#636efa",
          "size": [
           448
          ],
          "sizemode": "area",
          "sizeref": 318.2528
         },
         "name": "West Bank and Gaza",
         "showlegend": true,
         "type": "scattergeo"
        },
        {
         "geo": "geo",
         "hovertemplate": "<b>%{hovertext}</b><br><br>Country/Region=Guinea-Bissau<br>5/31/20=%{marker.size}<br>Lat=%{lat}<br>Long=%{lon}<extra></extra>",
         "hovertext": [
          "Guinea-Bissau"
         ],
         "lat": [
          11.8037
         ],
         "legendgroup": "Guinea-Bissau",
         "lon": [
          -15.1804
         ],
         "marker": {
          "color": "#EF553B",
          "size": [
           1256
          ],
          "sizemode": "area",
          "sizeref": 318.2528
         },
         "name": "Guinea-Bissau",
         "showlegend": true,
         "type": "scattergeo"
        },
        {
         "geo": "geo",
         "hovertemplate": "<b>%{hovertext}</b><br><br>Country/Region=Mali<br>5/31/20=%{marker.size}<br>Lat=%{lat}<br>Long=%{lon}<extra></extra>",
         "hovertext": [
          "Mali"
         ],
         "lat": [
          17.570692
         ],
         "legendgroup": "Mali",
         "lon": [
          -3.996166000000001
         ],
         "marker": {
          "color": "#00cc96",
          "size": [
           1265
          ],
          "sizemode": "area",
          "sizeref": 318.2528
         },
         "name": "Mali",
         "showlegend": true,
         "type": "scattergeo"
        },
        {
         "geo": "geo",
         "hovertemplate": "<b>%{hovertext}</b><br><br>Country/Region=Saint Kitts and Nevis<br>5/31/20=%{marker.size}<br>Lat=%{lat}<br>Long=%{lon}<extra></extra>",
         "hovertext": [
          "Saint Kitts and Nevis"
         ],
         "lat": [
          17.357822
         ],
         "legendgroup": "Saint Kitts and Nevis",
         "lon": [
          -62.782998
         ],
         "marker": {
          "color": "#ab63fa",
          "size": [
           15
          ],
          "sizemode": "area",
          "sizeref": 318.2528
         },
         "name": "Saint Kitts and Nevis",
         "showlegend": true,
         "type": "scattergeo"
        },
        {
         "geo": "geo",
         "hovertemplate": "<b>%{hovertext}</b><br><br>Country/Region=Kosovo<br>5/31/20=%{marker.size}<br>Lat=%{lat}<br>Long=%{lon}<extra></extra>",
         "hovertext": [
          "Kosovo"
         ],
         "lat": [
          42.602636
         ],
         "legendgroup": "Kosovo",
         "lon": [
          20.902977
         ],
         "marker": {
          "color": "#FFA15A",
          "size": [
           1064
          ],
          "sizemode": "area",
          "sizeref": 318.2528
         },
         "name": "Kosovo",
         "showlegend": true,
         "type": "scattergeo"
        },
        {
         "geo": "geo",
         "hovertemplate": "<b>%{hovertext}</b><br><br>Country/Region=Burma<br>5/31/20=%{marker.size}<br>Lat=%{lat}<br>Long=%{lon}<extra></extra>",
         "hovertext": [
          "Burma"
         ],
         "lat": [
          21.9162
         ],
         "legendgroup": "Burma",
         "lon": [
          95.956
         ],
         "marker": {
          "color": "#19d3f3",
          "size": [
           224
          ],
          "sizemode": "area",
          "sizeref": 318.2528
         },
         "name": "Burma",
         "showlegend": true,
         "type": "scattergeo"
        },
        {
         "geo": "geo",
         "hovertemplate": "<b>%{hovertext}</b><br><br>Country/Region=MS Zaandam<br>5/31/20=%{marker.size}<br>Lat=%{lat}<br>Long=%{lon}<extra></extra>",
         "hovertext": [
          "MS Zaandam"
         ],
         "lat": [
          0
         ],
         "legendgroup": "MS Zaandam",
         "lon": [
          0
         ],
         "marker": {
          "color": "#FF6692",
          "size": [
           9
          ],
          "sizemode": "area",
          "sizeref": 318.2528
         },
         "name": "MS Zaandam",
         "showlegend": true,
         "type": "scattergeo"
        },
        {
         "geo": "geo",
         "hovertemplate": "<b>%{hovertext}</b><br><br>Country/Region=Botswana<br>5/31/20=%{marker.size}<br>Lat=%{lat}<br>Long=%{lon}<extra></extra>",
         "hovertext": [
          "Botswana"
         ],
         "lat": [
          -22.3285
         ],
         "legendgroup": "Botswana",
         "lon": [
          24.6849
         ],
         "marker": {
          "color": "#B6E880",
          "size": [
           35
          ],
          "sizemode": "area",
          "sizeref": 318.2528
         },
         "name": "Botswana",
         "showlegend": true,
         "type": "scattergeo"
        },
        {
         "geo": "geo",
         "hovertemplate": "<b>%{hovertext}</b><br><br>Country/Region=Burundi<br>5/31/20=%{marker.size}<br>Lat=%{lat}<br>Long=%{lon}<extra></extra>",
         "hovertext": [
          "Burundi"
         ],
         "lat": [
          -3.3731
         ],
         "legendgroup": "Burundi",
         "lon": [
          29.9189
         ],
         "marker": {
          "color": "#FF97FF",
          "size": [
           63
          ],
          "sizemode": "area",
          "sizeref": 318.2528
         },
         "name": "Burundi",
         "showlegend": true,
         "type": "scattergeo"
        },
        {
         "geo": "geo",
         "hovertemplate": "<b>%{hovertext}</b><br><br>Country/Region=Sierra Leone<br>5/31/20=%{marker.size}<br>Lat=%{lat}<br>Long=%{lon}<extra></extra>",
         "hovertext": [
          "Sierra Leone"
         ],
         "lat": [
          8.460555000000001
         ],
         "legendgroup": "Sierra Leone",
         "lon": [
          -11.779889
         ],
         "marker": {
          "color": "#FECB52",
          "size": [
           861
          ],
          "sizemode": "area",
          "sizeref": 318.2528
         },
         "name": "Sierra Leone",
         "showlegend": true,
         "type": "scattergeo"
        },
        {
         "geo": "geo",
         "hovertemplate": "<b>%{hovertext}</b><br><br>Country/Region=Malawi<br>5/31/20=%{marker.size}<br>Lat=%{lat}<br>Long=%{lon}<extra></extra>",
         "hovertext": [
          "Malawi"
         ],
         "lat": [
          -13.254307999999998
         ],
         "legendgroup": "Malawi",
         "lon": [
          34.301525
         ],
         "marker": {
          "color": "#636efa",
          "size": [
           284
          ],
          "sizemode": "area",
          "sizeref": 318.2528
         },
         "name": "Malawi",
         "showlegend": true,
         "type": "scattergeo"
        },
        {
         "geo": "geo",
         "hovertemplate": "<b>%{hovertext}</b><br><br>Country/Region=South Sudan<br>5/31/20=%{marker.size}<br>Lat=%{lat}<br>Long=%{lon}<extra></extra>",
         "hovertext": [
          "South Sudan"
         ],
         "lat": [
          6.8770000000000024
         ],
         "legendgroup": "South Sudan",
         "lon": [
          31.307
         ],
         "marker": {
          "color": "#EF553B",
          "size": [
           994
          ],
          "sizemode": "area",
          "sizeref": 318.2528
         },
         "name": "South Sudan",
         "showlegend": true,
         "type": "scattergeo"
        },
        {
         "geo": "geo",
         "hovertemplate": "<b>%{hovertext}</b><br><br>Country/Region=Western Sahara<br>5/31/20=%{marker.size}<br>Lat=%{lat}<br>Long=%{lon}<extra></extra>",
         "hovertext": [
          "Western Sahara"
         ],
         "lat": [
          24.2155
         ],
         "legendgroup": "Western Sahara",
         "lon": [
          -12.8858
         ],
         "marker": {
          "color": "#00cc96",
          "size": [
           9
          ],
          "sizemode": "area",
          "sizeref": 318.2528
         },
         "name": "Western Sahara",
         "showlegend": true,
         "type": "scattergeo"
        },
        {
         "geo": "geo",
         "hovertemplate": "<b>%{hovertext}</b><br><br>Country/Region=Sao Tome and Principe<br>5/31/20=%{marker.size}<br>Lat=%{lat}<br>Long=%{lon}<extra></extra>",
         "hovertext": [
          "Sao Tome and Principe"
         ],
         "lat": [
          0.18636
         ],
         "legendgroup": "Sao Tome and Principe",
         "lon": [
          6.613081
         ],
         "marker": {
          "color": "#ab63fa",
          "size": [
           483
          ],
          "sizemode": "area",
          "sizeref": 318.2528
         },
         "name": "Sao Tome and Principe",
         "showlegend": true,
         "type": "scattergeo"
        },
        {
         "geo": "geo",
         "hovertemplate": "<b>%{hovertext}</b><br><br>Country/Region=Yemen<br>5/31/20=%{marker.size}<br>Lat=%{lat}<br>Long=%{lon}<extra></extra>",
         "hovertext": [
          "Yemen"
         ],
         "lat": [
          15.552726999999999
         ],
         "legendgroup": "Yemen",
         "lon": [
          48.516388
         ],
         "marker": {
          "color": "#FFA15A",
          "size": [
           323
          ],
          "sizemode": "area",
          "sizeref": 318.2528
         },
         "name": "Yemen",
         "showlegend": true,
         "type": "scattergeo"
        },
        {
         "geo": "geo",
         "hovertemplate": "<b>%{hovertext}</b><br><br>Country/Region=Comoros<br>5/31/20=%{marker.size}<br>Lat=%{lat}<br>Long=%{lon}<extra></extra>",
         "hovertext": [
          "Comoros"
         ],
         "lat": [
          -11.6455
         ],
         "legendgroup": "Comoros",
         "lon": [
          43.3333
         ],
         "marker": {
          "color": "#19d3f3",
          "size": [
           106
          ],
          "sizemode": "area",
          "sizeref": 318.2528
         },
         "name": "Comoros",
         "showlegend": true,
         "type": "scattergeo"
        },
        {
         "geo": "geo",
         "hovertemplate": "<b>%{hovertext}</b><br><br>Country/Region=Tajikistan<br>5/31/20=%{marker.size}<br>Lat=%{lat}<br>Long=%{lon}<extra></extra>",
         "hovertext": [
          "Tajikistan"
         ],
         "lat": [
          38.861034000000004
         ],
         "legendgroup": "Tajikistan",
         "lon": [
          71.276093
         ],
         "marker": {
          "color": "#FF6692",
          "size": [
           3930
          ],
          "sizemode": "area",
          "sizeref": 318.2528
         },
         "name": "Tajikistan",
         "showlegend": true,
         "type": "scattergeo"
        },
        {
         "geo": "geo",
         "hovertemplate": "<b>%{hovertext}</b><br><br>Country/Region=Lesotho<br>5/31/20=%{marker.size}<br>Lat=%{lat}<br>Long=%{lon}<extra></extra>",
         "hovertext": [
          "Lesotho"
         ],
         "lat": [
          -29.609988
         ],
         "legendgroup": "Lesotho",
         "lon": [
          28.233608
         ],
         "marker": {
          "color": "#B6E880",
          "size": [
           2
          ],
          "sizemode": "area",
          "sizeref": 318.2528
         },
         "name": "Lesotho",
         "showlegend": true,
         "type": "scattergeo"
        }
       ],
       "layout": {
        "geo": {
         "center": {},
         "domain": {
          "x": [
           0,
           1
          ],
          "y": [
           0,
           1
          ]
         },
         "projection": {
          "type": "orthographic"
         }
        },
        "legend": {
         "itemsizing": "constant",
         "title": {
          "text": "Country/Region"
         },
         "tracegroupgap": 0
        },
        "template": {
         "data": {
          "bar": [
           {
            "error_x": {
             "color": "#2a3f5f"
            },
            "error_y": {
             "color": "#2a3f5f"
            },
            "marker": {
             "line": {
              "color": "#E5ECF6",
              "width": 0.5
             }
            },
            "type": "bar"
           }
          ],
          "barpolar": [
           {
            "marker": {
             "line": {
              "color": "#E5ECF6",
              "width": 0.5
             }
            },
            "type": "barpolar"
           }
          ],
          "carpet": [
           {
            "aaxis": {
             "endlinecolor": "#2a3f5f",
             "gridcolor": "white",
             "linecolor": "white",
             "minorgridcolor": "white",
             "startlinecolor": "#2a3f5f"
            },
            "baxis": {
             "endlinecolor": "#2a3f5f",
             "gridcolor": "white",
             "linecolor": "white",
             "minorgridcolor": "white",
             "startlinecolor": "#2a3f5f"
            },
            "type": "carpet"
           }
          ],
          "choropleth": [
           {
            "colorbar": {
             "outlinewidth": 0,
             "ticks": ""
            },
            "type": "choropleth"
           }
          ],
          "contour": [
           {
            "colorbar": {
             "outlinewidth": 0,
             "ticks": ""
            },
            "colorscale": [
             [
              0,
              "#0d0887"
             ],
             [
              0.1111111111111111,
              "#46039f"
             ],
             [
              0.2222222222222222,
              "#7201a8"
             ],
             [
              0.3333333333333333,
              "#9c179e"
             ],
             [
              0.4444444444444444,
              "#bd3786"
             ],
             [
              0.5555555555555556,
              "#d8576b"
             ],
             [
              0.6666666666666666,
              "#ed7953"
             ],
             [
              0.7777777777777778,
              "#fb9f3a"
             ],
             [
              0.8888888888888888,
              "#fdca26"
             ],
             [
              1,
              "#f0f921"
             ]
            ],
            "type": "contour"
           }
          ],
          "contourcarpet": [
           {
            "colorbar": {
             "outlinewidth": 0,
             "ticks": ""
            },
            "type": "contourcarpet"
           }
          ],
          "heatmap": [
           {
            "colorbar": {
             "outlinewidth": 0,
             "ticks": ""
            },
            "colorscale": [
             [
              0,
              "#0d0887"
             ],
             [
              0.1111111111111111,
              "#46039f"
             ],
             [
              0.2222222222222222,
              "#7201a8"
             ],
             [
              0.3333333333333333,
              "#9c179e"
             ],
             [
              0.4444444444444444,
              "#bd3786"
             ],
             [
              0.5555555555555556,
              "#d8576b"
             ],
             [
              0.6666666666666666,
              "#ed7953"
             ],
             [
              0.7777777777777778,
              "#fb9f3a"
             ],
             [
              0.8888888888888888,
              "#fdca26"
             ],
             [
              1,
              "#f0f921"
             ]
            ],
            "type": "heatmap"
           }
          ],
          "heatmapgl": [
           {
            "colorbar": {
             "outlinewidth": 0,
             "ticks": ""
            },
            "colorscale": [
             [
              0,
              "#0d0887"
             ],
             [
              0.1111111111111111,
              "#46039f"
             ],
             [
              0.2222222222222222,
              "#7201a8"
             ],
             [
              0.3333333333333333,
              "#9c179e"
             ],
             [
              0.4444444444444444,
              "#bd3786"
             ],
             [
              0.5555555555555556,
              "#d8576b"
             ],
             [
              0.6666666666666666,
              "#ed7953"
             ],
             [
              0.7777777777777778,
              "#fb9f3a"
             ],
             [
              0.8888888888888888,
              "#fdca26"
             ],
             [
              1,
              "#f0f921"
             ]
            ],
            "type": "heatmapgl"
           }
          ],
          "histogram": [
           {
            "marker": {
             "colorbar": {
              "outlinewidth": 0,
              "ticks": ""
             }
            },
            "type": "histogram"
           }
          ],
          "histogram2d": [
           {
            "colorbar": {
             "outlinewidth": 0,
             "ticks": ""
            },
            "colorscale": [
             [
              0,
              "#0d0887"
             ],
             [
              0.1111111111111111,
              "#46039f"
             ],
             [
              0.2222222222222222,
              "#7201a8"
             ],
             [
              0.3333333333333333,
              "#9c179e"
             ],
             [
              0.4444444444444444,
              "#bd3786"
             ],
             [
              0.5555555555555556,
              "#d8576b"
             ],
             [
              0.6666666666666666,
              "#ed7953"
             ],
             [
              0.7777777777777778,
              "#fb9f3a"
             ],
             [
              0.8888888888888888,
              "#fdca26"
             ],
             [
              1,
              "#f0f921"
             ]
            ],
            "type": "histogram2d"
           }
          ],
          "histogram2dcontour": [
           {
            "colorbar": {
             "outlinewidth": 0,
             "ticks": ""
            },
            "colorscale": [
             [
              0,
              "#0d0887"
             ],
             [
              0.1111111111111111,
              "#46039f"
             ],
             [
              0.2222222222222222,
              "#7201a8"
             ],
             [
              0.3333333333333333,
              "#9c179e"
             ],
             [
              0.4444444444444444,
              "#bd3786"
             ],
             [
              0.5555555555555556,
              "#d8576b"
             ],
             [
              0.6666666666666666,
              "#ed7953"
             ],
             [
              0.7777777777777778,
              "#fb9f3a"
             ],
             [
              0.8888888888888888,
              "#fdca26"
             ],
             [
              1,
              "#f0f921"
             ]
            ],
            "type": "histogram2dcontour"
           }
          ],
          "mesh3d": [
           {
            "colorbar": {
             "outlinewidth": 0,
             "ticks": ""
            },
            "type": "mesh3d"
           }
          ],
          "parcoords": [
           {
            "line": {
             "colorbar": {
              "outlinewidth": 0,
              "ticks": ""
             }
            },
            "type": "parcoords"
           }
          ],
          "pie": [
           {
            "automargin": true,
            "type": "pie"
           }
          ],
          "scatter": [
           {
            "marker": {
             "colorbar": {
              "outlinewidth": 0,
              "ticks": ""
             }
            },
            "type": "scatter"
           }
          ],
          "scatter3d": [
           {
            "line": {
             "colorbar": {
              "outlinewidth": 0,
              "ticks": ""
             }
            },
            "marker": {
             "colorbar": {
              "outlinewidth": 0,
              "ticks": ""
             }
            },
            "type": "scatter3d"
           }
          ],
          "scattercarpet": [
           {
            "marker": {
             "colorbar": {
              "outlinewidth": 0,
              "ticks": ""
             }
            },
            "type": "scattercarpet"
           }
          ],
          "scattergeo": [
           {
            "marker": {
             "colorbar": {
              "outlinewidth": 0,
              "ticks": ""
             }
            },
            "type": "scattergeo"
           }
          ],
          "scattergl": [
           {
            "marker": {
             "colorbar": {
              "outlinewidth": 0,
              "ticks": ""
             }
            },
            "type": "scattergl"
           }
          ],
          "scattermapbox": [
           {
            "marker": {
             "colorbar": {
              "outlinewidth": 0,
              "ticks": ""
             }
            },
            "type": "scattermapbox"
           }
          ],
          "scatterpolar": [
           {
            "marker": {
             "colorbar": {
              "outlinewidth": 0,
              "ticks": ""
             }
            },
            "type": "scatterpolar"
           }
          ],
          "scatterpolargl": [
           {
            "marker": {
             "colorbar": {
              "outlinewidth": 0,
              "ticks": ""
             }
            },
            "type": "scatterpolargl"
           }
          ],
          "scatterternary": [
           {
            "marker": {
             "colorbar": {
              "outlinewidth": 0,
              "ticks": ""
             }
            },
            "type": "scatterternary"
           }
          ],
          "surface": [
           {
            "colorbar": {
             "outlinewidth": 0,
             "ticks": ""
            },
            "colorscale": [
             [
              0,
              "#0d0887"
             ],
             [
              0.1111111111111111,
              "#46039f"
             ],
             [
              0.2222222222222222,
              "#7201a8"
             ],
             [
              0.3333333333333333,
              "#9c179e"
             ],
             [
              0.4444444444444444,
              "#bd3786"
             ],
             [
              0.5555555555555556,
              "#d8576b"
             ],
             [
              0.6666666666666666,
              "#ed7953"
             ],
             [
              0.7777777777777778,
              "#fb9f3a"
             ],
             [
              0.8888888888888888,
              "#fdca26"
             ],
             [
              1,
              "#f0f921"
             ]
            ],
            "type": "surface"
           }
          ],
          "table": [
           {
            "cells": {
             "fill": {
              "color": "#EBF0F8"
             },
             "line": {
              "color": "white"
             }
            },
            "header": {
             "fill": {
              "color": "#C8D4E3"
             },
             "line": {
              "color": "white"
             }
            },
            "type": "table"
           }
          ]
         },
         "layout": {
          "annotationdefaults": {
           "arrowcolor": "#2a3f5f",
           "arrowhead": 0,
           "arrowwidth": 1
          },
          "coloraxis": {
           "colorbar": {
            "outlinewidth": 0,
            "ticks": ""
           }
          },
          "colorscale": {
           "diverging": [
            [
             0,
             "#8e0152"
            ],
            [
             0.1,
             "#c51b7d"
            ],
            [
             0.2,
             "#de77ae"
            ],
            [
             0.3,
             "#f1b6da"
            ],
            [
             0.4,
             "#fde0ef"
            ],
            [
             0.5,
             "#f7f7f7"
            ],
            [
             0.6,
             "#e6f5d0"
            ],
            [
             0.7,
             "#b8e186"
            ],
            [
             0.8,
             "#7fbc41"
            ],
            [
             0.9,
             "#4d9221"
            ],
            [
             1,
             "#276419"
            ]
           ],
           "sequential": [
            [
             0,
             "#0d0887"
            ],
            [
             0.1111111111111111,
             "#46039f"
            ],
            [
             0.2222222222222222,
             "#7201a8"
            ],
            [
             0.3333333333333333,
             "#9c179e"
            ],
            [
             0.4444444444444444,
             "#bd3786"
            ],
            [
             0.5555555555555556,
             "#d8576b"
            ],
            [
             0.6666666666666666,
             "#ed7953"
            ],
            [
             0.7777777777777778,
             "#fb9f3a"
            ],
            [
             0.8888888888888888,
             "#fdca26"
            ],
            [
             1,
             "#f0f921"
            ]
           ],
           "sequentialminus": [
            [
             0,
             "#0d0887"
            ],
            [
             0.1111111111111111,
             "#46039f"
            ],
            [
             0.2222222222222222,
             "#7201a8"
            ],
            [
             0.3333333333333333,
             "#9c179e"
            ],
            [
             0.4444444444444444,
             "#bd3786"
            ],
            [
             0.5555555555555556,
             "#d8576b"
            ],
            [
             0.6666666666666666,
             "#ed7953"
            ],
            [
             0.7777777777777778,
             "#fb9f3a"
            ],
            [
             0.8888888888888888,
             "#fdca26"
            ],
            [
             1,
             "#f0f921"
            ]
           ]
          },
          "colorway": [
           "#636efa",
           "#EF553B",
           "#00cc96",
           "#ab63fa",
           "#FFA15A",
           "#19d3f3",
           "#FF6692",
           "#B6E880",
           "#FF97FF",
           "#FECB52"
          ],
          "font": {
           "color": "#2a3f5f"
          },
          "geo": {
           "bgcolor": "white",
           "lakecolor": "white",
           "landcolor": "#E5ECF6",
           "showlakes": true,
           "showland": true,
           "subunitcolor": "white"
          },
          "hoverlabel": {
           "align": "left"
          },
          "hovermode": "closest",
          "mapbox": {
           "style": "light"
          },
          "paper_bgcolor": "white",
          "plot_bgcolor": "#E5ECF6",
          "polar": {
           "angularaxis": {
            "gridcolor": "white",
            "linecolor": "white",
            "ticks": ""
           },
           "bgcolor": "#E5ECF6",
           "radialaxis": {
            "gridcolor": "white",
            "linecolor": "white",
            "ticks": ""
           }
          },
          "scene": {
           "xaxis": {
            "backgroundcolor": "#E5ECF6",
            "gridcolor": "white",
            "gridwidth": 2,
            "linecolor": "white",
            "showbackground": true,
            "ticks": "",
            "zerolinecolor": "white"
           },
           "yaxis": {
            "backgroundcolor": "#E5ECF6",
            "gridcolor": "white",
            "gridwidth": 2,
            "linecolor": "white",
            "showbackground": true,
            "ticks": "",
            "zerolinecolor": "white"
           },
           "zaxis": {
            "backgroundcolor": "#E5ECF6",
            "gridcolor": "white",
            "gridwidth": 2,
            "linecolor": "white",
            "showbackground": true,
            "ticks": "",
            "zerolinecolor": "white"
           }
          },
          "shapedefaults": {
           "line": {
            "color": "#2a3f5f"
           }
          },
          "ternary": {
           "aaxis": {
            "gridcolor": "white",
            "linecolor": "white",
            "ticks": ""
           },
           "baxis": {
            "gridcolor": "white",
            "linecolor": "white",
            "ticks": ""
           },
           "bgcolor": "#E5ECF6",
           "caxis": {
            "gridcolor": "white",
            "linecolor": "white",
            "ticks": ""
           }
          },
          "title": {
           "x": 0.05
          },
          "xaxis": {
           "automargin": true,
           "gridcolor": "white",
           "linecolor": "white",
           "ticks": "",
           "title": {
            "standoff": 15
           },
           "zerolinecolor": "white",
           "zerolinewidth": 2
          },
          "yaxis": {
           "automargin": true,
           "gridcolor": "white",
           "linecolor": "white",
           "ticks": "",
           "title": {
            "standoff": 15
           },
           "zerolinecolor": "white",
           "zerolinewidth": 2
          }
         }
        },
        "title": {
         "text": "COVID-19 Worldwide Confirmed Cases on 5/31/20"
        }
       }
      },
      "text/html": [
       "<div>\n",
       "        \n",
       "        \n",
       "            <div id=\"dc26758b-c264-4930-b79c-c047b83b0099\" class=\"plotly-graph-div\" style=\"height:525px; width:100%;\"></div>\n",
       "            <script type=\"text/javascript\">\n",
       "                require([\"plotly\"], function(Plotly) {\n",
       "                    window.PLOTLYENV=window.PLOTLYENV || {};\n",
       "                    \n",
       "                if (document.getElementById(\"dc26758b-c264-4930-b79c-c047b83b0099\")) {\n",
       "                    Plotly.newPlot(\n",
       "                        'dc26758b-c264-4930-b79c-c047b83b0099',\n",
       "                        [{\"geo\": \"geo\", \"hovertemplate\": \"<b>%{hovertext}</b><br><br>Country/Region=Afghanistan<br>5/31/20=%{marker.size}<br>Lat=%{lat}<br>Long=%{lon}<extra></extra>\", \"hovertext\": [\"Afghanistan\"], \"lat\": [33.0], \"legendgroup\": \"Afghanistan\", \"lon\": [65.0], \"marker\": {\"color\": \"#636efa\", \"size\": [15205], \"sizemode\": \"area\", \"sizeref\": 318.2528}, \"name\": \"Afghanistan\", \"showlegend\": true, \"type\": \"scattergeo\"}, {\"geo\": \"geo\", \"hovertemplate\": \"<b>%{hovertext}</b><br><br>Country/Region=Albania<br>5/31/20=%{marker.size}<br>Lat=%{lat}<br>Long=%{lon}<extra></extra>\", \"hovertext\": [\"Albania\"], \"lat\": [41.1533], \"legendgroup\": \"Albania\", \"lon\": [20.1683], \"marker\": {\"color\": \"#EF553B\", \"size\": [1137], \"sizemode\": \"area\", \"sizeref\": 318.2528}, \"name\": \"Albania\", \"showlegend\": true, \"type\": \"scattergeo\"}, {\"geo\": \"geo\", \"hovertemplate\": \"<b>%{hovertext}</b><br><br>Country/Region=Algeria<br>5/31/20=%{marker.size}<br>Lat=%{lat}<br>Long=%{lon}<extra></extra>\", \"hovertext\": [\"Algeria\"], \"lat\": [28.0339], \"legendgroup\": \"Algeria\", \"lon\": [1.6596], \"marker\": {\"color\": \"#00cc96\", \"size\": [9394], \"sizemode\": \"area\", \"sizeref\": 318.2528}, \"name\": \"Algeria\", \"showlegend\": true, \"type\": \"scattergeo\"}, {\"geo\": \"geo\", \"hovertemplate\": \"<b>%{hovertext}</b><br><br>Country/Region=Andorra<br>5/31/20=%{marker.size}<br>Lat=%{lat}<br>Long=%{lon}<extra></extra>\", \"hovertext\": [\"Andorra\"], \"lat\": [42.5063], \"legendgroup\": \"Andorra\", \"lon\": [1.5218], \"marker\": {\"color\": \"#ab63fa\", \"size\": [764], \"sizemode\": \"area\", \"sizeref\": 318.2528}, \"name\": \"Andorra\", \"showlegend\": true, \"type\": \"scattergeo\"}, {\"geo\": \"geo\", \"hovertemplate\": \"<b>%{hovertext}</b><br><br>Country/Region=Angola<br>5/31/20=%{marker.size}<br>Lat=%{lat}<br>Long=%{lon}<extra></extra>\", \"hovertext\": [\"Angola\"], \"lat\": [-11.2027], \"legendgroup\": \"Angola\", \"lon\": [17.8739], \"marker\": {\"color\": \"#FFA15A\", \"size\": [86], \"sizemode\": \"area\", \"sizeref\": 318.2528}, \"name\": \"Angola\", \"showlegend\": true, \"type\": \"scattergeo\"}, {\"geo\": \"geo\", \"hovertemplate\": \"<b>%{hovertext}</b><br><br>Country/Region=Antigua and Barbuda<br>5/31/20=%{marker.size}<br>Lat=%{lat}<br>Long=%{lon}<extra></extra>\", \"hovertext\": [\"Antigua and Barbuda\"], \"lat\": [17.0608], \"legendgroup\": \"Antigua and Barbuda\", \"lon\": [-61.7964], \"marker\": {\"color\": \"#19d3f3\", \"size\": [26], \"sizemode\": \"area\", \"sizeref\": 318.2528}, \"name\": \"Antigua and Barbuda\", \"showlegend\": true, \"type\": \"scattergeo\"}, {\"geo\": \"geo\", \"hovertemplate\": \"<b>%{hovertext}</b><br><br>Country/Region=Argentina<br>5/31/20=%{marker.size}<br>Lat=%{lat}<br>Long=%{lon}<extra></extra>\", \"hovertext\": [\"Argentina\"], \"lat\": [-38.4161], \"legendgroup\": \"Argentina\", \"lon\": [-63.6167], \"marker\": {\"color\": \"#FF6692\", \"size\": [16851], \"sizemode\": \"area\", \"sizeref\": 318.2528}, \"name\": \"Argentina\", \"showlegend\": true, \"type\": \"scattergeo\"}, {\"geo\": \"geo\", \"hovertemplate\": \"<b>%{hovertext}</b><br><br>Country/Region=Armenia<br>5/31/20=%{marker.size}<br>Lat=%{lat}<br>Long=%{lon}<extra></extra>\", \"hovertext\": [\"Armenia\"], \"lat\": [40.0691], \"legendgroup\": \"Armenia\", \"lon\": [45.0382], \"marker\": {\"color\": \"#B6E880\", \"size\": [9282], \"sizemode\": \"area\", \"sizeref\": 318.2528}, \"name\": \"Armenia\", \"showlegend\": true, \"type\": \"scattergeo\"}, {\"geo\": \"geo\", \"hovertemplate\": \"<b>%{hovertext}</b><br><br>Country/Region=Australia<br>5/31/20=%{marker.size}<br>Lat=%{lat}<br>Long=%{lon}<extra></extra>\", \"hovertext\": [\"Australia\", \"Australia\", \"Australia\", \"Australia\", \"Australia\", \"Australia\", \"Australia\", \"Australia\"], \"lat\": [-35.4735, -33.8688, -12.4634, -28.0167, -34.9285, -41.4545, -37.8136, -31.9505], \"legendgroup\": \"Australia\", \"lon\": [149.0124, 151.2093, 130.8456, 153.4, 138.6007, 145.9707, 144.9631, 115.8605], \"marker\": {\"color\": \"#FF97FF\", \"size\": [107, 3098, 29, 1058, 440, 228, 1653, 589], \"sizemode\": \"area\", \"sizeref\": 318.2528}, \"name\": \"Australia\", \"showlegend\": true, \"type\": \"scattergeo\"}, {\"geo\": \"geo\", \"hovertemplate\": \"<b>%{hovertext}</b><br><br>Country/Region=Austria<br>5/31/20=%{marker.size}<br>Lat=%{lat}<br>Long=%{lon}<extra></extra>\", \"hovertext\": [\"Austria\"], \"lat\": [47.5162], \"legendgroup\": \"Austria\", \"lon\": [14.5501], \"marker\": {\"color\": \"#FECB52\", \"size\": [16731], \"sizemode\": \"area\", \"sizeref\": 318.2528}, \"name\": \"Austria\", \"showlegend\": true, \"type\": \"scattergeo\"}, {\"geo\": \"geo\", \"hovertemplate\": \"<b>%{hovertext}</b><br><br>Country/Region=Azerbaijan<br>5/31/20=%{marker.size}<br>Lat=%{lat}<br>Long=%{lon}<extra></extra>\", \"hovertext\": [\"Azerbaijan\"], \"lat\": [40.1431], \"legendgroup\": \"Azerbaijan\", \"lon\": [47.5769], \"marker\": {\"color\": \"#636efa\", \"size\": [5494], \"sizemode\": \"area\", \"sizeref\": 318.2528}, \"name\": \"Azerbaijan\", \"showlegend\": true, \"type\": \"scattergeo\"}, {\"geo\": \"geo\", \"hovertemplate\": \"<b>%{hovertext}</b><br><br>Country/Region=Bahamas<br>5/31/20=%{marker.size}<br>Lat=%{lat}<br>Long=%{lon}<extra></extra>\", \"hovertext\": [\"Bahamas\"], \"lat\": [25.0343], \"legendgroup\": \"Bahamas\", \"lon\": [-77.3963], \"marker\": {\"color\": \"#EF553B\", \"size\": [102], \"sizemode\": \"area\", \"sizeref\": 318.2528}, \"name\": \"Bahamas\", \"showlegend\": true, \"type\": \"scattergeo\"}, {\"geo\": \"geo\", \"hovertemplate\": \"<b>%{hovertext}</b><br><br>Country/Region=Bahrain<br>5/31/20=%{marker.size}<br>Lat=%{lat}<br>Long=%{lon}<extra></extra>\", \"hovertext\": [\"Bahrain\"], \"lat\": [26.0275], \"legendgroup\": \"Bahrain\", \"lon\": [50.55], \"marker\": {\"color\": \"#00cc96\", \"size\": [11398], \"sizemode\": \"area\", \"sizeref\": 318.2528}, \"name\": \"Bahrain\", \"showlegend\": true, \"type\": \"scattergeo\"}, {\"geo\": \"geo\", \"hovertemplate\": \"<b>%{hovertext}</b><br><br>Country/Region=Bangladesh<br>5/31/20=%{marker.size}<br>Lat=%{lat}<br>Long=%{lon}<extra></extra>\", \"hovertext\": [\"Bangladesh\"], \"lat\": [23.685], \"legendgroup\": \"Bangladesh\", \"lon\": [90.3563], \"marker\": {\"color\": \"#ab63fa\", \"size\": [47153], \"sizemode\": \"area\", \"sizeref\": 318.2528}, \"name\": \"Bangladesh\", \"showlegend\": true, \"type\": \"scattergeo\"}, {\"geo\": \"geo\", \"hovertemplate\": \"<b>%{hovertext}</b><br><br>Country/Region=Barbados<br>5/31/20=%{marker.size}<br>Lat=%{lat}<br>Long=%{lon}<extra></extra>\", \"hovertext\": [\"Barbados\"], \"lat\": [13.1939], \"legendgroup\": \"Barbados\", \"lon\": [-59.5432], \"marker\": {\"color\": \"#FFA15A\", \"size\": [92], \"sizemode\": \"area\", \"sizeref\": 318.2528}, \"name\": \"Barbados\", \"showlegend\": true, \"type\": \"scattergeo\"}, {\"geo\": \"geo\", \"hovertemplate\": \"<b>%{hovertext}</b><br><br>Country/Region=Belarus<br>5/31/20=%{marker.size}<br>Lat=%{lat}<br>Long=%{lon}<extra></extra>\", \"hovertext\": [\"Belarus\"], \"lat\": [53.7098], \"legendgroup\": \"Belarus\", \"lon\": [27.9534], \"marker\": {\"color\": \"#19d3f3\", \"size\": [42556], \"sizemode\": \"area\", \"sizeref\": 318.2528}, \"name\": \"Belarus\", \"showlegend\": true, \"type\": \"scattergeo\"}, {\"geo\": \"geo\", \"hovertemplate\": \"<b>%{hovertext}</b><br><br>Country/Region=Belgium<br>5/31/20=%{marker.size}<br>Lat=%{lat}<br>Long=%{lon}<extra></extra>\", \"hovertext\": [\"Belgium\"], \"lat\": [50.8333], \"legendgroup\": \"Belgium\", \"lon\": [4.0], \"marker\": {\"color\": \"#FF6692\", \"size\": [58381], \"sizemode\": \"area\", \"sizeref\": 318.2528}, \"name\": \"Belgium\", \"showlegend\": true, \"type\": \"scattergeo\"}, {\"geo\": \"geo\", \"hovertemplate\": \"<b>%{hovertext}</b><br><br>Country/Region=Benin<br>5/31/20=%{marker.size}<br>Lat=%{lat}<br>Long=%{lon}<extra></extra>\", \"hovertext\": [\"Benin\"], \"lat\": [9.3077], \"legendgroup\": \"Benin\", \"lon\": [2.3158], \"marker\": {\"color\": \"#B6E880\", \"size\": [232], \"sizemode\": \"area\", \"sizeref\": 318.2528}, \"name\": \"Benin\", \"showlegend\": true, \"type\": \"scattergeo\"}, {\"geo\": \"geo\", \"hovertemplate\": \"<b>%{hovertext}</b><br><br>Country/Region=Bhutan<br>5/31/20=%{marker.size}<br>Lat=%{lat}<br>Long=%{lon}<extra></extra>\", \"hovertext\": [\"Bhutan\"], \"lat\": [27.5142], \"legendgroup\": \"Bhutan\", \"lon\": [90.4336], \"marker\": {\"color\": \"#FF97FF\", \"size\": [43], \"sizemode\": \"area\", \"sizeref\": 318.2528}, \"name\": \"Bhutan\", \"showlegend\": true, \"type\": \"scattergeo\"}, {\"geo\": \"geo\", \"hovertemplate\": \"<b>%{hovertext}</b><br><br>Country/Region=Bolivia<br>5/31/20=%{marker.size}<br>Lat=%{lat}<br>Long=%{lon}<extra></extra>\", \"hovertext\": [\"Bolivia\"], \"lat\": [-16.2902], \"legendgroup\": \"Bolivia\", \"lon\": [-63.5887], \"marker\": {\"color\": \"#FECB52\", \"size\": [9982], \"sizemode\": \"area\", \"sizeref\": 318.2528}, \"name\": \"Bolivia\", \"showlegend\": true, \"type\": \"scattergeo\"}, {\"geo\": \"geo\", \"hovertemplate\": \"<b>%{hovertext}</b><br><br>Country/Region=Bosnia and Herzegovina<br>5/31/20=%{marker.size}<br>Lat=%{lat}<br>Long=%{lon}<extra></extra>\", \"hovertext\": [\"Bosnia and Herzegovina\"], \"lat\": [43.9159], \"legendgroup\": \"Bosnia and Herzegovina\", \"lon\": [17.6791], \"marker\": {\"color\": \"#636efa\", \"size\": [2510], \"sizemode\": \"area\", \"sizeref\": 318.2528}, \"name\": \"Bosnia and Herzegovina\", \"showlegend\": true, \"type\": \"scattergeo\"}, {\"geo\": \"geo\", \"hovertemplate\": \"<b>%{hovertext}</b><br><br>Country/Region=Brazil<br>5/31/20=%{marker.size}<br>Lat=%{lat}<br>Long=%{lon}<extra></extra>\", \"hovertext\": [\"Brazil\"], \"lat\": [-14.235], \"legendgroup\": \"Brazil\", \"lon\": [-51.9253], \"marker\": {\"color\": \"#EF553B\", \"size\": [514849], \"sizemode\": \"area\", \"sizeref\": 318.2528}, \"name\": \"Brazil\", \"showlegend\": true, \"type\": \"scattergeo\"}, {\"geo\": \"geo\", \"hovertemplate\": \"<b>%{hovertext}</b><br><br>Country/Region=Brunei<br>5/31/20=%{marker.size}<br>Lat=%{lat}<br>Long=%{lon}<extra></extra>\", \"hovertext\": [\"Brunei\"], \"lat\": [4.5353], \"legendgroup\": \"Brunei\", \"lon\": [114.7277], \"marker\": {\"color\": \"#00cc96\", \"size\": [141], \"sizemode\": \"area\", \"sizeref\": 318.2528}, \"name\": \"Brunei\", \"showlegend\": true, \"type\": \"scattergeo\"}, {\"geo\": \"geo\", \"hovertemplate\": \"<b>%{hovertext}</b><br><br>Country/Region=Bulgaria<br>5/31/20=%{marker.size}<br>Lat=%{lat}<br>Long=%{lon}<extra></extra>\", \"hovertext\": [\"Bulgaria\"], \"lat\": [42.7339], \"legendgroup\": \"Bulgaria\", \"lon\": [25.4858], \"marker\": {\"color\": \"#ab63fa\", \"size\": [2513], \"sizemode\": \"area\", \"sizeref\": 318.2528}, \"name\": \"Bulgaria\", \"showlegend\": true, \"type\": \"scattergeo\"}, {\"geo\": \"geo\", \"hovertemplate\": \"<b>%{hovertext}</b><br><br>Country/Region=Burkina Faso<br>5/31/20=%{marker.size}<br>Lat=%{lat}<br>Long=%{lon}<extra></extra>\", \"hovertext\": [\"Burkina Faso\"], \"lat\": [12.2383], \"legendgroup\": \"Burkina Faso\", \"lon\": [-1.5616], \"marker\": {\"color\": \"#FFA15A\", \"size\": [847], \"sizemode\": \"area\", \"sizeref\": 318.2528}, \"name\": \"Burkina Faso\", \"showlegend\": true, \"type\": \"scattergeo\"}, {\"geo\": \"geo\", \"hovertemplate\": \"<b>%{hovertext}</b><br><br>Country/Region=Cabo Verde<br>5/31/20=%{marker.size}<br>Lat=%{lat}<br>Long=%{lon}<extra></extra>\", \"hovertext\": [\"Cabo Verde\"], \"lat\": [16.5388], \"legendgroup\": \"Cabo Verde\", \"lon\": [-23.0418], \"marker\": {\"color\": \"#19d3f3\", \"size\": [435], \"sizemode\": \"area\", \"sizeref\": 318.2528}, \"name\": \"Cabo Verde\", \"showlegend\": true, \"type\": \"scattergeo\"}, {\"geo\": \"geo\", \"hovertemplate\": \"<b>%{hovertext}</b><br><br>Country/Region=Cambodia<br>5/31/20=%{marker.size}<br>Lat=%{lat}<br>Long=%{lon}<extra></extra>\", \"hovertext\": [\"Cambodia\"], \"lat\": [11.55], \"legendgroup\": \"Cambodia\", \"lon\": [104.9167], \"marker\": {\"color\": \"#FF6692\", \"size\": [125], \"sizemode\": \"area\", \"sizeref\": 318.2528}, \"name\": \"Cambodia\", \"showlegend\": true, \"type\": \"scattergeo\"}, {\"geo\": \"geo\", \"hovertemplate\": \"<b>%{hovertext}</b><br><br>Country/Region=Cameroon<br>5/31/20=%{marker.size}<br>Lat=%{lat}<br>Long=%{lon}<extra></extra>\", \"hovertext\": [\"Cameroon\"], \"lat\": [3.8480000000000003], \"legendgroup\": \"Cameroon\", \"lon\": [11.5021], \"marker\": {\"color\": \"#B6E880\", \"size\": [5904], \"sizemode\": \"area\", \"sizeref\": 318.2528}, \"name\": \"Cameroon\", \"showlegend\": true, \"type\": \"scattergeo\"}, {\"geo\": \"geo\", \"hovertemplate\": \"<b>%{hovertext}</b><br><br>Country/Region=Canada<br>5/31/20=%{marker.size}<br>Lat=%{lat}<br>Long=%{lon}<extra></extra>\", \"hovertext\": [\"Canada\", \"Canada\", \"Canada\", \"Canada\", \"Canada\", \"Canada\", \"Canada\", \"Canada\", \"Canada\", \"Canada\", \"Canada\", \"Canada\", \"Canada\", \"Canada\"], \"lat\": [53.9333, 49.2827, 37.6489, 53.7609, 46.5653, 53.1355, 44.681999999999995, 51.2538, 46.5107, 52.9399, 52.9399, 0.0, 64.8255, 64.2823], \"legendgroup\": \"Canada\", \"lon\": [-116.5765, -123.1207, -122.6655, -98.8139, -66.4619, -57.6604, -63.7443, -85.3232, -63.4168, -73.5491, -106.4509, 0.0, -124.8457, -135.0], \"marker\": {\"color\": \"#FF97FF\", \"size\": [7010, 2573, 13, 295, 132, 261, 1056, 29390, 27, 51059, 646, 1, 5, 11], \"sizemode\": \"area\", \"sizeref\": 318.2528}, \"name\": \"Canada\", \"showlegend\": true, \"type\": \"scattergeo\"}, {\"geo\": \"geo\", \"hovertemplate\": \"<b>%{hovertext}</b><br><br>Country/Region=Central African Republic<br>5/31/20=%{marker.size}<br>Lat=%{lat}<br>Long=%{lon}<extra></extra>\", \"hovertext\": [\"Central African Republic\"], \"lat\": [6.6111], \"legendgroup\": \"Central African Republic\", \"lon\": [20.9394], \"marker\": {\"color\": \"#FECB52\", \"size\": [1011], \"sizemode\": \"area\", \"sizeref\": 318.2528}, \"name\": \"Central African Republic\", \"showlegend\": true, \"type\": \"scattergeo\"}, {\"geo\": \"geo\", \"hovertemplate\": \"<b>%{hovertext}</b><br><br>Country/Region=Chad<br>5/31/20=%{marker.size}<br>Lat=%{lat}<br>Long=%{lon}<extra></extra>\", \"hovertext\": [\"Chad\"], \"lat\": [15.4542], \"legendgroup\": \"Chad\", \"lon\": [18.7322], \"marker\": {\"color\": \"#636efa\", \"size\": [778], \"sizemode\": \"area\", \"sizeref\": 318.2528}, \"name\": \"Chad\", \"showlegend\": true, \"type\": \"scattergeo\"}, {\"geo\": \"geo\", \"hovertemplate\": \"<b>%{hovertext}</b><br><br>Country/Region=Chile<br>5/31/20=%{marker.size}<br>Lat=%{lat}<br>Long=%{lon}<extra></extra>\", \"hovertext\": [\"Chile\"], \"lat\": [-35.6751], \"legendgroup\": \"Chile\", \"lon\": [-71.543], \"marker\": {\"color\": \"#EF553B\", \"size\": [99688], \"sizemode\": \"area\", \"sizeref\": 318.2528}, \"name\": \"Chile\", \"showlegend\": true, \"type\": \"scattergeo\"}, {\"geo\": \"geo\", \"hovertemplate\": \"<b>%{hovertext}</b><br><br>Country/Region=China<br>5/31/20=%{marker.size}<br>Lat=%{lat}<br>Long=%{lon}<extra></extra>\", \"hovertext\": [\"China\", \"China\", \"China\", \"China\", \"China\", \"China\", \"China\", \"China\", \"China\", \"China\", \"China\", \"China\", \"China\", \"China\", \"China\", \"China\", \"China\", \"China\", \"China\", \"China\", \"China\", \"China\", \"China\", \"China\", \"China\", \"China\", \"China\", \"China\", \"China\", \"China\", \"China\", \"China\", \"China\"], \"lat\": [31.8257, 40.1824, 30.0572, 26.0789, 37.8099, 23.3417, 23.8298, 26.8154, 19.1959, 39.549, 47.861999999999995, 33.882, 22.3, 30.9756, 27.6104, 44.0935, 32.9711, 27.614, 43.6661, 41.2956, 22.1667, 37.2692, 35.7452, 35.1917, 36.3427, 31.201999999999998, 37.5777, 30.6171, 39.3054, 31.6927, 41.1129, 24.974, 29.1832], \"legendgroup\": \"China\", \"lon\": [117.2264, 116.4142, 107.874, 117.9874, 101.0583, 113.4244, 108.7881, 106.8748, 109.7453, 116.1306, 127.7615, 113.61399999999999, 114.2, 112.2707, 111.7088, 113.9448, 119.455, 115.7221, 126.1923, 122.6085, 113.55, 106.1655, 95.9956, 108.8701, 118.1498, 121.4491, 112.2922, 102.7103, 117.323, 88.0924, 85.2401, 101.48700000000001, 120.0934], \"marker\": {\"color\": \"#00cc96\", \"size\": [991, 593, 579, 358, 139, 1595, 254, 147, 169, 328, 945, 1276, 1084, 68135, 1019, 235, 653, 937, 155, 149, 45, 75, 18, 308, 792, 672, 198, 575, 192, 1, 76, 185, 1268], \"sizemode\": \"area\", \"sizeref\": 318.2528}, \"name\": \"China\", \"showlegend\": true, \"type\": \"scattergeo\"}, {\"geo\": \"geo\", \"hovertemplate\": \"<b>%{hovertext}</b><br><br>Country/Region=Colombia<br>5/31/20=%{marker.size}<br>Lat=%{lat}<br>Long=%{lon}<extra></extra>\", \"hovertext\": [\"Colombia\"], \"lat\": [4.5709], \"legendgroup\": \"Colombia\", \"lon\": [-74.2973], \"marker\": {\"color\": \"#ab63fa\", \"size\": [27219], \"sizemode\": \"area\", \"sizeref\": 318.2528}, \"name\": \"Colombia\", \"showlegend\": true, \"type\": \"scattergeo\"}, {\"geo\": \"geo\", \"hovertemplate\": \"<b>%{hovertext}</b><br><br>Country/Region=Congo (Brazzaville)<br>5/31/20=%{marker.size}<br>Lat=%{lat}<br>Long=%{lon}<extra></extra>\", \"hovertext\": [\"Congo (Brazzaville)\"], \"lat\": [-4.0383], \"legendgroup\": \"Congo (Brazzaville)\", \"lon\": [21.7587], \"marker\": {\"color\": \"#FFA15A\", \"size\": [611], \"sizemode\": \"area\", \"sizeref\": 318.2528}, \"name\": \"Congo (Brazzaville)\", \"showlegend\": true, \"type\": \"scattergeo\"}, {\"geo\": \"geo\", \"hovertemplate\": \"<b>%{hovertext}</b><br><br>Country/Region=Congo (Kinshasa)<br>5/31/20=%{marker.size}<br>Lat=%{lat}<br>Long=%{lon}<extra></extra>\", \"hovertext\": [\"Congo (Kinshasa)\"], \"lat\": [-4.0383], \"legendgroup\": \"Congo (Kinshasa)\", \"lon\": [21.7587], \"marker\": {\"color\": \"#19d3f3\", \"size\": [3070], \"sizemode\": \"area\", \"sizeref\": 318.2528}, \"name\": \"Congo (Kinshasa)\", \"showlegend\": true, \"type\": \"scattergeo\"}, {\"geo\": \"geo\", \"hovertemplate\": \"<b>%{hovertext}</b><br><br>Country/Region=Costa Rica<br>5/31/20=%{marker.size}<br>Lat=%{lat}<br>Long=%{lon}<extra></extra>\", \"hovertext\": [\"Costa Rica\"], \"lat\": [9.7489], \"legendgroup\": \"Costa Rica\", \"lon\": [-83.7534], \"marker\": {\"color\": \"#FF6692\", \"size\": [1056], \"sizemode\": \"area\", \"sizeref\": 318.2528}, \"name\": \"Costa Rica\", \"showlegend\": true, \"type\": \"scattergeo\"}, {\"geo\": \"geo\", \"hovertemplate\": \"<b>%{hovertext}</b><br><br>Country/Region=Cote d'Ivoire<br>5/31/20=%{marker.size}<br>Lat=%{lat}<br>Long=%{lon}<extra></extra>\", \"hovertext\": [\"Cote d'Ivoire\"], \"lat\": [7.54], \"legendgroup\": \"Cote d'Ivoire\", \"lon\": [-5.5471], \"marker\": {\"color\": \"#B6E880\", \"size\": [2833], \"sizemode\": \"area\", \"sizeref\": 318.2528}, \"name\": \"Cote d'Ivoire\", \"showlegend\": true, \"type\": \"scattergeo\"}, {\"geo\": \"geo\", \"hovertemplate\": \"<b>%{hovertext}</b><br><br>Country/Region=Croatia<br>5/31/20=%{marker.size}<br>Lat=%{lat}<br>Long=%{lon}<extra></extra>\", \"hovertext\": [\"Croatia\"], \"lat\": [45.1], \"legendgroup\": \"Croatia\", \"lon\": [15.2], \"marker\": {\"color\": \"#FF97FF\", \"size\": [2246], \"sizemode\": \"area\", \"sizeref\": 318.2528}, \"name\": \"Croatia\", \"showlegend\": true, \"type\": \"scattergeo\"}, {\"geo\": \"geo\", \"hovertemplate\": \"<b>%{hovertext}</b><br><br>Country/Region=Diamond Princess<br>5/31/20=%{marker.size}<br>Lat=%{lat}<br>Long=%{lon}<extra></extra>\", \"hovertext\": [\"Diamond Princess\"], \"lat\": [0.0], \"legendgroup\": \"Diamond Princess\", \"lon\": [0.0], \"marker\": {\"color\": \"#FECB52\", \"size\": [712], \"sizemode\": \"area\", \"sizeref\": 318.2528}, \"name\": \"Diamond Princess\", \"showlegend\": true, \"type\": \"scattergeo\"}, {\"geo\": \"geo\", \"hovertemplate\": \"<b>%{hovertext}</b><br><br>Country/Region=Cuba<br>5/31/20=%{marker.size}<br>Lat=%{lat}<br>Long=%{lon}<extra></extra>\", \"hovertext\": [\"Cuba\"], \"lat\": [22.0], \"legendgroup\": \"Cuba\", \"lon\": [-80.0], \"marker\": {\"color\": \"#636efa\", \"size\": [2045], \"sizemode\": \"area\", \"sizeref\": 318.2528}, \"name\": \"Cuba\", \"showlegend\": true, \"type\": \"scattergeo\"}, {\"geo\": \"geo\", \"hovertemplate\": \"<b>%{hovertext}</b><br><br>Country/Region=Cyprus<br>5/31/20=%{marker.size}<br>Lat=%{lat}<br>Long=%{lon}<extra></extra>\", \"hovertext\": [\"Cyprus\"], \"lat\": [35.1264], \"legendgroup\": \"Cyprus\", \"lon\": [33.4299], \"marker\": {\"color\": \"#EF553B\", \"size\": [944], \"sizemode\": \"area\", \"sizeref\": 318.2528}, \"name\": \"Cyprus\", \"showlegend\": true, \"type\": \"scattergeo\"}, {\"geo\": \"geo\", \"hovertemplate\": \"<b>%{hovertext}</b><br><br>Country/Region=Czechia<br>5/31/20=%{marker.size}<br>Lat=%{lat}<br>Long=%{lon}<extra></extra>\", \"hovertext\": [\"Czechia\"], \"lat\": [49.8175], \"legendgroup\": \"Czechia\", \"lon\": [15.472999999999999], \"marker\": {\"color\": \"#00cc96\", \"size\": [9268], \"sizemode\": \"area\", \"sizeref\": 318.2528}, \"name\": \"Czechia\", \"showlegend\": true, \"type\": \"scattergeo\"}, {\"geo\": \"geo\", \"hovertemplate\": \"<b>%{hovertext}</b><br><br>Country/Region=Denmark<br>5/31/20=%{marker.size}<br>Lat=%{lat}<br>Long=%{lon}<extra></extra>\", \"hovertext\": [\"Denmark\", \"Denmark\", \"Denmark\"], \"lat\": [61.8926, 71.7069, 56.2639], \"legendgroup\": \"Denmark\", \"lon\": [-6.9118, -42.6043, 9.5018], \"marker\": {\"color\": \"#ab63fa\", \"size\": [187, 13, 11669], \"sizemode\": \"area\", \"sizeref\": 318.2528}, \"name\": \"Denmark\", \"showlegend\": true, \"type\": \"scattergeo\"}, {\"geo\": \"geo\", \"hovertemplate\": \"<b>%{hovertext}</b><br><br>Country/Region=Djibouti<br>5/31/20=%{marker.size}<br>Lat=%{lat}<br>Long=%{lon}<extra></extra>\", \"hovertext\": [\"Djibouti\"], \"lat\": [11.8251], \"legendgroup\": \"Djibouti\", \"lon\": [42.5903], \"marker\": {\"color\": \"#FFA15A\", \"size\": [3354], \"sizemode\": \"area\", \"sizeref\": 318.2528}, \"name\": \"Djibouti\", \"showlegend\": true, \"type\": \"scattergeo\"}, {\"geo\": \"geo\", \"hovertemplate\": \"<b>%{hovertext}</b><br><br>Country/Region=Dominican Republic<br>5/31/20=%{marker.size}<br>Lat=%{lat}<br>Long=%{lon}<extra></extra>\", \"hovertext\": [\"Dominican Republic\"], \"lat\": [18.7357], \"legendgroup\": \"Dominican Republic\", \"lon\": [-70.1627], \"marker\": {\"color\": \"#19d3f3\", \"size\": [17285], \"sizemode\": \"area\", \"sizeref\": 318.2528}, \"name\": \"Dominican Republic\", \"showlegend\": true, \"type\": \"scattergeo\"}, {\"geo\": \"geo\", \"hovertemplate\": \"<b>%{hovertext}</b><br><br>Country/Region=Ecuador<br>5/31/20=%{marker.size}<br>Lat=%{lat}<br>Long=%{lon}<extra></extra>\", \"hovertext\": [\"Ecuador\"], \"lat\": [-1.8312], \"legendgroup\": \"Ecuador\", \"lon\": [-78.1834], \"marker\": {\"color\": \"#FF6692\", \"size\": [39098], \"sizemode\": \"area\", \"sizeref\": 318.2528}, \"name\": \"Ecuador\", \"showlegend\": true, \"type\": \"scattergeo\"}, {\"geo\": \"geo\", \"hovertemplate\": \"<b>%{hovertext}</b><br><br>Country/Region=Egypt<br>5/31/20=%{marker.size}<br>Lat=%{lat}<br>Long=%{lon}<extra></extra>\", \"hovertext\": [\"Egypt\"], \"lat\": [26.0], \"legendgroup\": \"Egypt\", \"lon\": [30.0], \"marker\": {\"color\": \"#B6E880\", \"size\": [24985], \"sizemode\": \"area\", \"sizeref\": 318.2528}, \"name\": \"Egypt\", \"showlegend\": true, \"type\": \"scattergeo\"}, {\"geo\": \"geo\", \"hovertemplate\": \"<b>%{hovertext}</b><br><br>Country/Region=El Salvador<br>5/31/20=%{marker.size}<br>Lat=%{lat}<br>Long=%{lon}<extra></extra>\", \"hovertext\": [\"El Salvador\"], \"lat\": [13.7942], \"legendgroup\": \"El Salvador\", \"lon\": [-88.8965], \"marker\": {\"color\": \"#FF97FF\", \"size\": [2517], \"sizemode\": \"area\", \"sizeref\": 318.2528}, \"name\": \"El Salvador\", \"showlegend\": true, \"type\": \"scattergeo\"}, {\"geo\": \"geo\", \"hovertemplate\": \"<b>%{hovertext}</b><br><br>Country/Region=Equatorial Guinea<br>5/31/20=%{marker.size}<br>Lat=%{lat}<br>Long=%{lon}<extra></extra>\", \"hovertext\": [\"Equatorial Guinea\"], \"lat\": [1.5], \"legendgroup\": \"Equatorial Guinea\", \"lon\": [10.0], \"marker\": {\"color\": \"#FECB52\", \"size\": [1306], \"sizemode\": \"area\", \"sizeref\": 318.2528}, \"name\": \"Equatorial Guinea\", \"showlegend\": true, \"type\": \"scattergeo\"}, {\"geo\": \"geo\", \"hovertemplate\": \"<b>%{hovertext}</b><br><br>Country/Region=Eritrea<br>5/31/20=%{marker.size}<br>Lat=%{lat}<br>Long=%{lon}<extra></extra>\", \"hovertext\": [\"Eritrea\"], \"lat\": [15.1794], \"legendgroup\": \"Eritrea\", \"lon\": [39.7823], \"marker\": {\"color\": \"#636efa\", \"size\": [39], \"sizemode\": \"area\", \"sizeref\": 318.2528}, \"name\": \"Eritrea\", \"showlegend\": true, \"type\": \"scattergeo\"}, {\"geo\": \"geo\", \"hovertemplate\": \"<b>%{hovertext}</b><br><br>Country/Region=Estonia<br>5/31/20=%{marker.size}<br>Lat=%{lat}<br>Long=%{lon}<extra></extra>\", \"hovertext\": [\"Estonia\"], \"lat\": [58.5953], \"legendgroup\": \"Estonia\", \"lon\": [25.0136], \"marker\": {\"color\": \"#EF553B\", \"size\": [1869], \"sizemode\": \"area\", \"sizeref\": 318.2528}, \"name\": \"Estonia\", \"showlegend\": true, \"type\": \"scattergeo\"}, {\"geo\": \"geo\", \"hovertemplate\": \"<b>%{hovertext}</b><br><br>Country/Region=Eswatini<br>5/31/20=%{marker.size}<br>Lat=%{lat}<br>Long=%{lon}<extra></extra>\", \"hovertext\": [\"Eswatini\"], \"lat\": [-26.5225], \"legendgroup\": \"Eswatini\", \"lon\": [31.4659], \"marker\": {\"color\": \"#00cc96\", \"size\": [285], \"sizemode\": \"area\", \"sizeref\": 318.2528}, \"name\": \"Eswatini\", \"showlegend\": true, \"type\": \"scattergeo\"}, {\"geo\": \"geo\", \"hovertemplate\": \"<b>%{hovertext}</b><br><br>Country/Region=Ethiopia<br>5/31/20=%{marker.size}<br>Lat=%{lat}<br>Long=%{lon}<extra></extra>\", \"hovertext\": [\"Ethiopia\"], \"lat\": [9.145], \"legendgroup\": \"Ethiopia\", \"lon\": [40.4897], \"marker\": {\"color\": \"#ab63fa\", \"size\": [1172], \"sizemode\": \"area\", \"sizeref\": 318.2528}, \"name\": \"Ethiopia\", \"showlegend\": true, \"type\": \"scattergeo\"}, {\"geo\": \"geo\", \"hovertemplate\": \"<b>%{hovertext}</b><br><br>Country/Region=Fiji<br>5/31/20=%{marker.size}<br>Lat=%{lat}<br>Long=%{lon}<extra></extra>\", \"hovertext\": [\"Fiji\"], \"lat\": [-17.7134], \"legendgroup\": \"Fiji\", \"lon\": [178.065], \"marker\": {\"color\": \"#FFA15A\", \"size\": [18], \"sizemode\": \"area\", \"sizeref\": 318.2528}, \"name\": \"Fiji\", \"showlegend\": true, \"type\": \"scattergeo\"}, {\"geo\": \"geo\", \"hovertemplate\": \"<b>%{hovertext}</b><br><br>Country/Region=Finland<br>5/31/20=%{marker.size}<br>Lat=%{lat}<br>Long=%{lon}<extra></extra>\", \"hovertext\": [\"Finland\"], \"lat\": [64.0], \"legendgroup\": \"Finland\", \"lon\": [26.0], \"marker\": {\"color\": \"#19d3f3\", \"size\": [6859], \"sizemode\": \"area\", \"sizeref\": 318.2528}, \"name\": \"Finland\", \"showlegend\": true, \"type\": \"scattergeo\"}, {\"geo\": \"geo\", \"hovertemplate\": \"<b>%{hovertext}</b><br><br>Country/Region=France<br>5/31/20=%{marker.size}<br>Lat=%{lat}<br>Long=%{lon}<extra></extra>\", \"hovertext\": [\"France\", \"France\", \"France\", \"France\", \"France\", \"France\", \"France\", \"France\", \"France\", \"France\", \"France\"], \"lat\": [3.9339, -17.6797, 16.25, -12.8275, -20.9043, -21.1351, 17.9, 18.0708, 14.6415, 46.2276, 46.8852], \"legendgroup\": \"France\", \"lon\": [-53.1258, 149.4068, -61.5833, 45.1662, 165.618, 55.2471, -62.8333, -63.0501, -61.0242, 2.2137, -56.3159], \"marker\": {\"color\": \"#FF6692\", \"size\": [499, 60, 162, 1699, 19, 471, 6, 41, 200, 185851, 1], \"sizemode\": \"area\", \"sizeref\": 318.2528}, \"name\": \"France\", \"showlegend\": true, \"type\": \"scattergeo\"}, {\"geo\": \"geo\", \"hovertemplate\": \"<b>%{hovertext}</b><br><br>Country/Region=Gabon<br>5/31/20=%{marker.size}<br>Lat=%{lat}<br>Long=%{lon}<extra></extra>\", \"hovertext\": [\"Gabon\"], \"lat\": [-0.8037], \"legendgroup\": \"Gabon\", \"lon\": [11.6094], \"marker\": {\"color\": \"#B6E880\", \"size\": [2655], \"sizemode\": \"area\", \"sizeref\": 318.2528}, \"name\": \"Gabon\", \"showlegend\": true, \"type\": \"scattergeo\"}, {\"geo\": \"geo\", \"hovertemplate\": \"<b>%{hovertext}</b><br><br>Country/Region=Gambia<br>5/31/20=%{marker.size}<br>Lat=%{lat}<br>Long=%{lon}<extra></extra>\", \"hovertext\": [\"Gambia\"], \"lat\": [13.4432], \"legendgroup\": \"Gambia\", \"lon\": [-15.3101], \"marker\": {\"color\": \"#FF97FF\", \"size\": [25], \"sizemode\": \"area\", \"sizeref\": 318.2528}, \"name\": \"Gambia\", \"showlegend\": true, \"type\": \"scattergeo\"}, {\"geo\": \"geo\", \"hovertemplate\": \"<b>%{hovertext}</b><br><br>Country/Region=Georgia<br>5/31/20=%{marker.size}<br>Lat=%{lat}<br>Long=%{lon}<extra></extra>\", \"hovertext\": [\"Georgia\"], \"lat\": [42.3154], \"legendgroup\": \"Georgia\", \"lon\": [43.3569], \"marker\": {\"color\": \"#FECB52\", \"size\": [783], \"sizemode\": \"area\", \"sizeref\": 318.2528}, \"name\": \"Georgia\", \"showlegend\": true, \"type\": \"scattergeo\"}, {\"geo\": \"geo\", \"hovertemplate\": \"<b>%{hovertext}</b><br><br>Country/Region=Germany<br>5/31/20=%{marker.size}<br>Lat=%{lat}<br>Long=%{lon}<extra></extra>\", \"hovertext\": [\"Germany\"], \"lat\": [51.0], \"legendgroup\": \"Germany\", \"lon\": [9.0], \"marker\": {\"color\": \"#636efa\", \"size\": [183410], \"sizemode\": \"area\", \"sizeref\": 318.2528}, \"name\": \"Germany\", \"showlegend\": true, \"type\": \"scattergeo\"}, {\"geo\": \"geo\", \"hovertemplate\": \"<b>%{hovertext}</b><br><br>Country/Region=Ghana<br>5/31/20=%{marker.size}<br>Lat=%{lat}<br>Long=%{lon}<extra></extra>\", \"hovertext\": [\"Ghana\"], \"lat\": [7.9465], \"legendgroup\": \"Ghana\", \"lon\": [-1.0232], \"marker\": {\"color\": \"#EF553B\", \"size\": [8070], \"sizemode\": \"area\", \"sizeref\": 318.2528}, \"name\": \"Ghana\", \"showlegend\": true, \"type\": \"scattergeo\"}, {\"geo\": \"geo\", \"hovertemplate\": \"<b>%{hovertext}</b><br><br>Country/Region=Greece<br>5/31/20=%{marker.size}<br>Lat=%{lat}<br>Long=%{lon}<extra></extra>\", \"hovertext\": [\"Greece\"], \"lat\": [39.0742], \"legendgroup\": \"Greece\", \"lon\": [21.8243], \"marker\": {\"color\": \"#00cc96\", \"size\": [2917], \"sizemode\": \"area\", \"sizeref\": 318.2528}, \"name\": \"Greece\", \"showlegend\": true, \"type\": \"scattergeo\"}, {\"geo\": \"geo\", \"hovertemplate\": \"<b>%{hovertext}</b><br><br>Country/Region=Guatemala<br>5/31/20=%{marker.size}<br>Lat=%{lat}<br>Long=%{lon}<extra></extra>\", \"hovertext\": [\"Guatemala\"], \"lat\": [15.7835], \"legendgroup\": \"Guatemala\", \"lon\": [-90.2308], \"marker\": {\"color\": \"#ab63fa\", \"size\": [5087], \"sizemode\": \"area\", \"sizeref\": 318.2528}, \"name\": \"Guatemala\", \"showlegend\": true, \"type\": \"scattergeo\"}, {\"geo\": \"geo\", \"hovertemplate\": \"<b>%{hovertext}</b><br><br>Country/Region=Guinea<br>5/31/20=%{marker.size}<br>Lat=%{lat}<br>Long=%{lon}<extra></extra>\", \"hovertext\": [\"Guinea\"], \"lat\": [9.9456], \"legendgroup\": \"Guinea\", \"lon\": [-9.6966], \"marker\": {\"color\": \"#FFA15A\", \"size\": [3706], \"sizemode\": \"area\", \"sizeref\": 318.2528}, \"name\": \"Guinea\", \"showlegend\": true, \"type\": \"scattergeo\"}, {\"geo\": \"geo\", \"hovertemplate\": \"<b>%{hovertext}</b><br><br>Country/Region=Guyana<br>5/31/20=%{marker.size}<br>Lat=%{lat}<br>Long=%{lon}<extra></extra>\", \"hovertext\": [\"Guyana\"], \"lat\": [5.0], \"legendgroup\": \"Guyana\", \"lon\": [-58.75], \"marker\": {\"color\": \"#19d3f3\", \"size\": [153], \"sizemode\": \"area\", \"sizeref\": 318.2528}, \"name\": \"Guyana\", \"showlegend\": true, \"type\": \"scattergeo\"}, {\"geo\": \"geo\", \"hovertemplate\": \"<b>%{hovertext}</b><br><br>Country/Region=Haiti<br>5/31/20=%{marker.size}<br>Lat=%{lat}<br>Long=%{lon}<extra></extra>\", \"hovertext\": [\"Haiti\"], \"lat\": [18.9712], \"legendgroup\": \"Haiti\", \"lon\": [-72.2852], \"marker\": {\"color\": \"#FF6692\", \"size\": [2124], \"sizemode\": \"area\", \"sizeref\": 318.2528}, \"name\": \"Haiti\", \"showlegend\": true, \"type\": \"scattergeo\"}, {\"geo\": \"geo\", \"hovertemplate\": \"<b>%{hovertext}</b><br><br>Country/Region=Holy See<br>5/31/20=%{marker.size}<br>Lat=%{lat}<br>Long=%{lon}<extra></extra>\", \"hovertext\": [\"Holy See\"], \"lat\": [41.9029], \"legendgroup\": \"Holy See\", \"lon\": [12.4534], \"marker\": {\"color\": \"#B6E880\", \"size\": [12], \"sizemode\": \"area\", \"sizeref\": 318.2528}, \"name\": \"Holy See\", \"showlegend\": true, \"type\": \"scattergeo\"}, {\"geo\": \"geo\", \"hovertemplate\": \"<b>%{hovertext}</b><br><br>Country/Region=Honduras<br>5/31/20=%{marker.size}<br>Lat=%{lat}<br>Long=%{lon}<extra></extra>\", \"hovertext\": [\"Honduras\"], \"lat\": [15.2], \"legendgroup\": \"Honduras\", \"lon\": [-86.2419], \"marker\": {\"color\": \"#FF97FF\", \"size\": [5202], \"sizemode\": \"area\", \"sizeref\": 318.2528}, \"name\": \"Honduras\", \"showlegend\": true, \"type\": \"scattergeo\"}, {\"geo\": \"geo\", \"hovertemplate\": \"<b>%{hovertext}</b><br><br>Country/Region=Hungary<br>5/31/20=%{marker.size}<br>Lat=%{lat}<br>Long=%{lon}<extra></extra>\", \"hovertext\": [\"Hungary\"], \"lat\": [47.1625], \"legendgroup\": \"Hungary\", \"lon\": [19.5033], \"marker\": {\"color\": \"#FECB52\", \"size\": [3876], \"sizemode\": \"area\", \"sizeref\": 318.2528}, \"name\": \"Hungary\", \"showlegend\": true, \"type\": \"scattergeo\"}, {\"geo\": \"geo\", \"hovertemplate\": \"<b>%{hovertext}</b><br><br>Country/Region=Iceland<br>5/31/20=%{marker.size}<br>Lat=%{lat}<br>Long=%{lon}<extra></extra>\", \"hovertext\": [\"Iceland\"], \"lat\": [64.9631], \"legendgroup\": \"Iceland\", \"lon\": [-19.0208], \"marker\": {\"color\": \"#636efa\", \"size\": [1806], \"sizemode\": \"area\", \"sizeref\": 318.2528}, \"name\": \"Iceland\", \"showlegend\": true, \"type\": \"scattergeo\"}, {\"geo\": \"geo\", \"hovertemplate\": \"<b>%{hovertext}</b><br><br>Country/Region=India<br>5/31/20=%{marker.size}<br>Lat=%{lat}<br>Long=%{lon}<extra></extra>\", \"hovertext\": [\"India\"], \"lat\": [21.0], \"legendgroup\": \"India\", \"lon\": [78.0], \"marker\": {\"color\": \"#EF553B\", \"size\": [190609], \"sizemode\": \"area\", \"sizeref\": 318.2528}, \"name\": \"India\", \"showlegend\": true, \"type\": \"scattergeo\"}, {\"geo\": \"geo\", \"hovertemplate\": \"<b>%{hovertext}</b><br><br>Country/Region=Indonesia<br>5/31/20=%{marker.size}<br>Lat=%{lat}<br>Long=%{lon}<extra></extra>\", \"hovertext\": [\"Indonesia\"], \"lat\": [-0.7893], \"legendgroup\": \"Indonesia\", \"lon\": [113.9213], \"marker\": {\"color\": \"#00cc96\", \"size\": [26473], \"sizemode\": \"area\", \"sizeref\": 318.2528}, \"name\": \"Indonesia\", \"showlegend\": true, \"type\": \"scattergeo\"}, {\"geo\": \"geo\", \"hovertemplate\": \"<b>%{hovertext}</b><br><br>Country/Region=Iran<br>5/31/20=%{marker.size}<br>Lat=%{lat}<br>Long=%{lon}<extra></extra>\", \"hovertext\": [\"Iran\"], \"lat\": [32.0], \"legendgroup\": \"Iran\", \"lon\": [53.0], \"marker\": {\"color\": \"#ab63fa\", \"size\": [151466], \"sizemode\": \"area\", \"sizeref\": 318.2528}, \"name\": \"Iran\", \"showlegend\": true, \"type\": \"scattergeo\"}, {\"geo\": \"geo\", \"hovertemplate\": \"<b>%{hovertext}</b><br><br>Country/Region=Iraq<br>5/31/20=%{marker.size}<br>Lat=%{lat}<br>Long=%{lon}<extra></extra>\", \"hovertext\": [\"Iraq\"], \"lat\": [33.0], \"legendgroup\": \"Iraq\", \"lon\": [44.0], \"marker\": {\"color\": \"#FFA15A\", \"size\": [6439], \"sizemode\": \"area\", \"sizeref\": 318.2528}, \"name\": \"Iraq\", \"showlegend\": true, \"type\": \"scattergeo\"}, {\"geo\": \"geo\", \"hovertemplate\": \"<b>%{hovertext}</b><br><br>Country/Region=Ireland<br>5/31/20=%{marker.size}<br>Lat=%{lat}<br>Long=%{lon}<extra></extra>\", \"hovertext\": [\"Ireland\"], \"lat\": [53.1424], \"legendgroup\": \"Ireland\", \"lon\": [-7.6921], \"marker\": {\"color\": \"#19d3f3\", \"size\": [24990], \"sizemode\": \"area\", \"sizeref\": 318.2528}, \"name\": \"Ireland\", \"showlegend\": true, \"type\": \"scattergeo\"}, {\"geo\": \"geo\", \"hovertemplate\": \"<b>%{hovertext}</b><br><br>Country/Region=Israel<br>5/31/20=%{marker.size}<br>Lat=%{lat}<br>Long=%{lon}<extra></extra>\", \"hovertext\": [\"Israel\"], \"lat\": [31.0], \"legendgroup\": \"Israel\", \"lon\": [35.0], \"marker\": {\"color\": \"#FF6692\", \"size\": [17071], \"sizemode\": \"area\", \"sizeref\": 318.2528}, \"name\": \"Israel\", \"showlegend\": true, \"type\": \"scattergeo\"}, {\"geo\": \"geo\", \"hovertemplate\": \"<b>%{hovertext}</b><br><br>Country/Region=Italy<br>5/31/20=%{marker.size}<br>Lat=%{lat}<br>Long=%{lon}<extra></extra>\", \"hovertext\": [\"Italy\"], \"lat\": [43.0], \"legendgroup\": \"Italy\", \"lon\": [12.0], \"marker\": {\"color\": \"#B6E880\", \"size\": [232997], \"sizemode\": \"area\", \"sizeref\": 318.2528}, \"name\": \"Italy\", \"showlegend\": true, \"type\": \"scattergeo\"}, {\"geo\": \"geo\", \"hovertemplate\": \"<b>%{hovertext}</b><br><br>Country/Region=Jamaica<br>5/31/20=%{marker.size}<br>Lat=%{lat}<br>Long=%{lon}<extra></extra>\", \"hovertext\": [\"Jamaica\"], \"lat\": [18.1096], \"legendgroup\": \"Jamaica\", \"lon\": [-77.2975], \"marker\": {\"color\": \"#FF97FF\", \"size\": [586], \"sizemode\": \"area\", \"sizeref\": 318.2528}, \"name\": \"Jamaica\", \"showlegend\": true, \"type\": \"scattergeo\"}, {\"geo\": \"geo\", \"hovertemplate\": \"<b>%{hovertext}</b><br><br>Country/Region=Japan<br>5/31/20=%{marker.size}<br>Lat=%{lat}<br>Long=%{lon}<extra></extra>\", \"hovertext\": [\"Japan\"], \"lat\": [36.0], \"legendgroup\": \"Japan\", \"lon\": [138.0], \"marker\": {\"color\": \"#FECB52\", \"size\": [16751], \"sizemode\": \"area\", \"sizeref\": 318.2528}, \"name\": \"Japan\", \"showlegend\": true, \"type\": \"scattergeo\"}, {\"geo\": \"geo\", \"hovertemplate\": \"<b>%{hovertext}</b><br><br>Country/Region=Jordan<br>5/31/20=%{marker.size}<br>Lat=%{lat}<br>Long=%{lon}<extra></extra>\", \"hovertext\": [\"Jordan\"], \"lat\": [31.24], \"legendgroup\": \"Jordan\", \"lon\": [36.51], \"marker\": {\"color\": \"#636efa\", \"size\": [739], \"sizemode\": \"area\", \"sizeref\": 318.2528}, \"name\": \"Jordan\", \"showlegend\": true, \"type\": \"scattergeo\"}, {\"geo\": \"geo\", \"hovertemplate\": \"<b>%{hovertext}</b><br><br>Country/Region=Kazakhstan<br>5/31/20=%{marker.size}<br>Lat=%{lat}<br>Long=%{lon}<extra></extra>\", \"hovertext\": [\"Kazakhstan\"], \"lat\": [48.0196], \"legendgroup\": \"Kazakhstan\", \"lon\": [66.9237], \"marker\": {\"color\": \"#EF553B\", \"size\": [10858], \"sizemode\": \"area\", \"sizeref\": 318.2528}, \"name\": \"Kazakhstan\", \"showlegend\": true, \"type\": \"scattergeo\"}, {\"geo\": \"geo\", \"hovertemplate\": \"<b>%{hovertext}</b><br><br>Country/Region=Kenya<br>5/31/20=%{marker.size}<br>Lat=%{lat}<br>Long=%{lon}<extra></extra>\", \"hovertext\": [\"Kenya\"], \"lat\": [-0.0236], \"legendgroup\": \"Kenya\", \"lon\": [37.9062], \"marker\": {\"color\": \"#00cc96\", \"size\": [1962], \"sizemode\": \"area\", \"sizeref\": 318.2528}, \"name\": \"Kenya\", \"showlegend\": true, \"type\": \"scattergeo\"}, {\"geo\": \"geo\", \"hovertemplate\": \"<b>%{hovertext}</b><br><br>Country/Region=Korea, South<br>5/31/20=%{marker.size}<br>Lat=%{lat}<br>Long=%{lon}<extra></extra>\", \"hovertext\": [\"Korea, South\"], \"lat\": [36.0], \"legendgroup\": \"Korea, South\", \"lon\": [128.0], \"marker\": {\"color\": \"#ab63fa\", \"size\": [11503], \"sizemode\": \"area\", \"sizeref\": 318.2528}, \"name\": \"Korea, South\", \"showlegend\": true, \"type\": \"scattergeo\"}, {\"geo\": \"geo\", \"hovertemplate\": \"<b>%{hovertext}</b><br><br>Country/Region=Kuwait<br>5/31/20=%{marker.size}<br>Lat=%{lat}<br>Long=%{lon}<extra></extra>\", \"hovertext\": [\"Kuwait\"], \"lat\": [29.5], \"legendgroup\": \"Kuwait\", \"lon\": [47.75], \"marker\": {\"color\": \"#FFA15A\", \"size\": [27043], \"sizemode\": \"area\", \"sizeref\": 318.2528}, \"name\": \"Kuwait\", \"showlegend\": true, \"type\": \"scattergeo\"}, {\"geo\": \"geo\", \"hovertemplate\": \"<b>%{hovertext}</b><br><br>Country/Region=Kyrgyzstan<br>5/31/20=%{marker.size}<br>Lat=%{lat}<br>Long=%{lon}<extra></extra>\", \"hovertext\": [\"Kyrgyzstan\"], \"lat\": [41.2044], \"legendgroup\": \"Kyrgyzstan\", \"lon\": [74.7661], \"marker\": {\"color\": \"#19d3f3\", \"size\": [1748], \"sizemode\": \"area\", \"sizeref\": 318.2528}, \"name\": \"Kyrgyzstan\", \"showlegend\": true, \"type\": \"scattergeo\"}, {\"geo\": \"geo\", \"hovertemplate\": \"<b>%{hovertext}</b><br><br>Country/Region=Latvia<br>5/31/20=%{marker.size}<br>Lat=%{lat}<br>Long=%{lon}<extra></extra>\", \"hovertext\": [\"Latvia\"], \"lat\": [56.8796], \"legendgroup\": \"Latvia\", \"lon\": [24.6032], \"marker\": {\"color\": \"#FF6692\", \"size\": [1066], \"sizemode\": \"area\", \"sizeref\": 318.2528}, \"name\": \"Latvia\", \"showlegend\": true, \"type\": \"scattergeo\"}, {\"geo\": \"geo\", \"hovertemplate\": \"<b>%{hovertext}</b><br><br>Country/Region=Lebanon<br>5/31/20=%{marker.size}<br>Lat=%{lat}<br>Long=%{lon}<extra></extra>\", \"hovertext\": [\"Lebanon\"], \"lat\": [33.8547], \"legendgroup\": \"Lebanon\", \"lon\": [35.8623], \"marker\": {\"color\": \"#B6E880\", \"size\": [1220], \"sizemode\": \"area\", \"sizeref\": 318.2528}, \"name\": \"Lebanon\", \"showlegend\": true, \"type\": \"scattergeo\"}, {\"geo\": \"geo\", \"hovertemplate\": \"<b>%{hovertext}</b><br><br>Country/Region=Liberia<br>5/31/20=%{marker.size}<br>Lat=%{lat}<br>Long=%{lon}<extra></extra>\", \"hovertext\": [\"Liberia\"], \"lat\": [6.4281], \"legendgroup\": \"Liberia\", \"lon\": [-9.4295], \"marker\": {\"color\": \"#FF97FF\", \"size\": [288], \"sizemode\": \"area\", \"sizeref\": 318.2528}, \"name\": \"Liberia\", \"showlegend\": true, \"type\": \"scattergeo\"}, {\"geo\": \"geo\", \"hovertemplate\": \"<b>%{hovertext}</b><br><br>Country/Region=Liechtenstein<br>5/31/20=%{marker.size}<br>Lat=%{lat}<br>Long=%{lon}<extra></extra>\", \"hovertext\": [\"Liechtenstein\"], \"lat\": [47.14], \"legendgroup\": \"Liechtenstein\", \"lon\": [9.55], \"marker\": {\"color\": \"#FECB52\", \"size\": [82], \"sizemode\": \"area\", \"sizeref\": 318.2528}, \"name\": \"Liechtenstein\", \"showlegend\": true, \"type\": \"scattergeo\"}, {\"geo\": \"geo\", \"hovertemplate\": \"<b>%{hovertext}</b><br><br>Country/Region=Lithuania<br>5/31/20=%{marker.size}<br>Lat=%{lat}<br>Long=%{lon}<extra></extra>\", \"hovertext\": [\"Lithuania\"], \"lat\": [55.1694], \"legendgroup\": \"Lithuania\", \"lon\": [23.8813], \"marker\": {\"color\": \"#636efa\", \"size\": [1675], \"sizemode\": \"area\", \"sizeref\": 318.2528}, \"name\": \"Lithuania\", \"showlegend\": true, \"type\": \"scattergeo\"}, {\"geo\": \"geo\", \"hovertemplate\": \"<b>%{hovertext}</b><br><br>Country/Region=Luxembourg<br>5/31/20=%{marker.size}<br>Lat=%{lat}<br>Long=%{lon}<extra></extra>\", \"hovertext\": [\"Luxembourg\"], \"lat\": [49.8153], \"legendgroup\": \"Luxembourg\", \"lon\": [6.1296], \"marker\": {\"color\": \"#EF553B\", \"size\": [4018], \"sizemode\": \"area\", \"sizeref\": 318.2528}, \"name\": \"Luxembourg\", \"showlegend\": true, \"type\": \"scattergeo\"}, {\"geo\": \"geo\", \"hovertemplate\": \"<b>%{hovertext}</b><br><br>Country/Region=Madagascar<br>5/31/20=%{marker.size}<br>Lat=%{lat}<br>Long=%{lon}<extra></extra>\", \"hovertext\": [\"Madagascar\"], \"lat\": [-18.7669], \"legendgroup\": \"Madagascar\", \"lon\": [46.8691], \"marker\": {\"color\": \"#00cc96\", \"size\": [771], \"sizemode\": \"area\", \"sizeref\": 318.2528}, \"name\": \"Madagascar\", \"showlegend\": true, \"type\": \"scattergeo\"}, {\"geo\": \"geo\", \"hovertemplate\": \"<b>%{hovertext}</b><br><br>Country/Region=Malaysia<br>5/31/20=%{marker.size}<br>Lat=%{lat}<br>Long=%{lon}<extra></extra>\", \"hovertext\": [\"Malaysia\"], \"lat\": [2.5], \"legendgroup\": \"Malaysia\", \"lon\": [112.5], \"marker\": {\"color\": \"#ab63fa\", \"size\": [7819], \"sizemode\": \"area\", \"sizeref\": 318.2528}, \"name\": \"Malaysia\", \"showlegend\": true, \"type\": \"scattergeo\"}, {\"geo\": \"geo\", \"hovertemplate\": \"<b>%{hovertext}</b><br><br>Country/Region=Maldives<br>5/31/20=%{marker.size}<br>Lat=%{lat}<br>Long=%{lon}<extra></extra>\", \"hovertext\": [\"Maldives\"], \"lat\": [3.2028], \"legendgroup\": \"Maldives\", \"lon\": [73.2207], \"marker\": {\"color\": \"#FFA15A\", \"size\": [1773], \"sizemode\": \"area\", \"sizeref\": 318.2528}, \"name\": \"Maldives\", \"showlegend\": true, \"type\": \"scattergeo\"}, {\"geo\": \"geo\", \"hovertemplate\": \"<b>%{hovertext}</b><br><br>Country/Region=Malta<br>5/31/20=%{marker.size}<br>Lat=%{lat}<br>Long=%{lon}<extra></extra>\", \"hovertext\": [\"Malta\"], \"lat\": [35.9375], \"legendgroup\": \"Malta\", \"lon\": [14.3754], \"marker\": {\"color\": \"#19d3f3\", \"size\": [618], \"sizemode\": \"area\", \"sizeref\": 318.2528}, \"name\": \"Malta\", \"showlegend\": true, \"type\": \"scattergeo\"}, {\"geo\": \"geo\", \"hovertemplate\": \"<b>%{hovertext}</b><br><br>Country/Region=Mauritania<br>5/31/20=%{marker.size}<br>Lat=%{lat}<br>Long=%{lon}<extra></extra>\", \"hovertext\": [\"Mauritania\"], \"lat\": [21.0079], \"legendgroup\": \"Mauritania\", \"lon\": [10.9408], \"marker\": {\"color\": \"#FF6692\", \"size\": [530], \"sizemode\": \"area\", \"sizeref\": 318.2528}, \"name\": \"Mauritania\", \"showlegend\": true, \"type\": \"scattergeo\"}, {\"geo\": \"geo\", \"hovertemplate\": \"<b>%{hovertext}</b><br><br>Country/Region=Mauritius<br>5/31/20=%{marker.size}<br>Lat=%{lat}<br>Long=%{lon}<extra></extra>\", \"hovertext\": [\"Mauritius\"], \"lat\": [-20.2], \"legendgroup\": \"Mauritius\", \"lon\": [57.5], \"marker\": {\"color\": \"#B6E880\", \"size\": [335], \"sizemode\": \"area\", \"sizeref\": 318.2528}, \"name\": \"Mauritius\", \"showlegend\": true, \"type\": \"scattergeo\"}, {\"geo\": \"geo\", \"hovertemplate\": \"<b>%{hovertext}</b><br><br>Country/Region=Mexico<br>5/31/20=%{marker.size}<br>Lat=%{lat}<br>Long=%{lon}<extra></extra>\", \"hovertext\": [\"Mexico\"], \"lat\": [23.6345], \"legendgroup\": \"Mexico\", \"lon\": [-102.5528], \"marker\": {\"color\": \"#FF97FF\", \"size\": [90664], \"sizemode\": \"area\", \"sizeref\": 318.2528}, \"name\": \"Mexico\", \"showlegend\": true, \"type\": \"scattergeo\"}, {\"geo\": \"geo\", \"hovertemplate\": \"<b>%{hovertext}</b><br><br>Country/Region=Moldova<br>5/31/20=%{marker.size}<br>Lat=%{lat}<br>Long=%{lon}<extra></extra>\", \"hovertext\": [\"Moldova\"], \"lat\": [47.4116], \"legendgroup\": \"Moldova\", \"lon\": [28.3699], \"marker\": {\"color\": \"#FECB52\", \"size\": [8251], \"sizemode\": \"area\", \"sizeref\": 318.2528}, \"name\": \"Moldova\", \"showlegend\": true, \"type\": \"scattergeo\"}, {\"geo\": \"geo\", \"hovertemplate\": \"<b>%{hovertext}</b><br><br>Country/Region=Monaco<br>5/31/20=%{marker.size}<br>Lat=%{lat}<br>Long=%{lon}<extra></extra>\", \"hovertext\": [\"Monaco\"], \"lat\": [43.7333], \"legendgroup\": \"Monaco\", \"lon\": [7.4167], \"marker\": {\"color\": \"#636efa\", \"size\": [99], \"sizemode\": \"area\", \"sizeref\": 318.2528}, \"name\": \"Monaco\", \"showlegend\": true, \"type\": \"scattergeo\"}, {\"geo\": \"geo\", \"hovertemplate\": \"<b>%{hovertext}</b><br><br>Country/Region=Mongolia<br>5/31/20=%{marker.size}<br>Lat=%{lat}<br>Long=%{lon}<extra></extra>\", \"hovertext\": [\"Mongolia\"], \"lat\": [46.8625], \"legendgroup\": \"Mongolia\", \"lon\": [103.8467], \"marker\": {\"color\": \"#EF553B\", \"size\": [179], \"sizemode\": \"area\", \"sizeref\": 318.2528}, \"name\": \"Mongolia\", \"showlegend\": true, \"type\": \"scattergeo\"}, {\"geo\": \"geo\", \"hovertemplate\": \"<b>%{hovertext}</b><br><br>Country/Region=Montenegro<br>5/31/20=%{marker.size}<br>Lat=%{lat}<br>Long=%{lon}<extra></extra>\", \"hovertext\": [\"Montenegro\"], \"lat\": [42.5], \"legendgroup\": \"Montenegro\", \"lon\": [19.3], \"marker\": {\"color\": \"#00cc96\", \"size\": [324], \"sizemode\": \"area\", \"sizeref\": 318.2528}, \"name\": \"Montenegro\", \"showlegend\": true, \"type\": \"scattergeo\"}, {\"geo\": \"geo\", \"hovertemplate\": \"<b>%{hovertext}</b><br><br>Country/Region=Morocco<br>5/31/20=%{marker.size}<br>Lat=%{lat}<br>Long=%{lon}<extra></extra>\", \"hovertext\": [\"Morocco\"], \"lat\": [31.7917], \"legendgroup\": \"Morocco\", \"lon\": [-7.0926], \"marker\": {\"color\": \"#ab63fa\", \"size\": [7807], \"sizemode\": \"area\", \"sizeref\": 318.2528}, \"name\": \"Morocco\", \"showlegend\": true, \"type\": \"scattergeo\"}, {\"geo\": \"geo\", \"hovertemplate\": \"<b>%{hovertext}</b><br><br>Country/Region=Namibia<br>5/31/20=%{marker.size}<br>Lat=%{lat}<br>Long=%{lon}<extra></extra>\", \"hovertext\": [\"Namibia\"], \"lat\": [-22.9576], \"legendgroup\": \"Namibia\", \"lon\": [18.4904], \"marker\": {\"color\": \"#FFA15A\", \"size\": [24], \"sizemode\": \"area\", \"sizeref\": 318.2528}, \"name\": \"Namibia\", \"showlegend\": true, \"type\": \"scattergeo\"}, {\"geo\": \"geo\", \"hovertemplate\": \"<b>%{hovertext}</b><br><br>Country/Region=Nepal<br>5/31/20=%{marker.size}<br>Lat=%{lat}<br>Long=%{lon}<extra></extra>\", \"hovertext\": [\"Nepal\"], \"lat\": [28.1667], \"legendgroup\": \"Nepal\", \"lon\": [84.25], \"marker\": {\"color\": \"#19d3f3\", \"size\": [1572], \"sizemode\": \"area\", \"sizeref\": 318.2528}, \"name\": \"Nepal\", \"showlegend\": true, \"type\": \"scattergeo\"}, {\"geo\": \"geo\", \"hovertemplate\": \"<b>%{hovertext}</b><br><br>Country/Region=Netherlands<br>5/31/20=%{marker.size}<br>Lat=%{lat}<br>Long=%{lon}<extra></extra>\", \"hovertext\": [\"Netherlands\", \"Netherlands\", \"Netherlands\", \"Netherlands\", \"Netherlands\"], \"lat\": [12.5186, 12.1696, 18.0425, 52.1326, 12.1784], \"legendgroup\": \"Netherlands\", \"lon\": [-70.0358, -68.99, -63.0548, 5.2913, -68.2385], \"marker\": {\"color\": \"#FF6692\", \"size\": [101, 19, 77, 46442, 6], \"sizemode\": \"area\", \"sizeref\": 318.2528}, \"name\": \"Netherlands\", \"showlegend\": true, \"type\": \"scattergeo\"}, {\"geo\": \"geo\", \"hovertemplate\": \"<b>%{hovertext}</b><br><br>Country/Region=New Zealand<br>5/31/20=%{marker.size}<br>Lat=%{lat}<br>Long=%{lon}<extra></extra>\", \"hovertext\": [\"New Zealand\"], \"lat\": [-40.9006], \"legendgroup\": \"New Zealand\", \"lon\": [174.886], \"marker\": {\"color\": \"#B6E880\", \"size\": [1504], \"sizemode\": \"area\", \"sizeref\": 318.2528}, \"name\": \"New Zealand\", \"showlegend\": true, \"type\": \"scattergeo\"}, {\"geo\": \"geo\", \"hovertemplate\": \"<b>%{hovertext}</b><br><br>Country/Region=Nicaragua<br>5/31/20=%{marker.size}<br>Lat=%{lat}<br>Long=%{lon}<extra></extra>\", \"hovertext\": [\"Nicaragua\"], \"lat\": [12.8654], \"legendgroup\": \"Nicaragua\", \"lon\": [-85.2072], \"marker\": {\"color\": \"#FF97FF\", \"size\": [759], \"sizemode\": \"area\", \"sizeref\": 318.2528}, \"name\": \"Nicaragua\", \"showlegend\": true, \"type\": \"scattergeo\"}, {\"geo\": \"geo\", \"hovertemplate\": \"<b>%{hovertext}</b><br><br>Country/Region=Niger<br>5/31/20=%{marker.size}<br>Lat=%{lat}<br>Long=%{lon}<extra></extra>\", \"hovertext\": [\"Niger\"], \"lat\": [17.6078], \"legendgroup\": \"Niger\", \"lon\": [8.0817], \"marker\": {\"color\": \"#FECB52\", \"size\": [958], \"sizemode\": \"area\", \"sizeref\": 318.2528}, \"name\": \"Niger\", \"showlegend\": true, \"type\": \"scattergeo\"}, {\"geo\": \"geo\", \"hovertemplate\": \"<b>%{hovertext}</b><br><br>Country/Region=Nigeria<br>5/31/20=%{marker.size}<br>Lat=%{lat}<br>Long=%{lon}<extra></extra>\", \"hovertext\": [\"Nigeria\"], \"lat\": [9.082], \"legendgroup\": \"Nigeria\", \"lon\": [8.6753], \"marker\": {\"color\": \"#636efa\", \"size\": [10162], \"sizemode\": \"area\", \"sizeref\": 318.2528}, \"name\": \"Nigeria\", \"showlegend\": true, \"type\": \"scattergeo\"}, {\"geo\": \"geo\", \"hovertemplate\": \"<b>%{hovertext}</b><br><br>Country/Region=North Macedonia<br>5/31/20=%{marker.size}<br>Lat=%{lat}<br>Long=%{lon}<extra></extra>\", \"hovertext\": [\"North Macedonia\"], \"lat\": [41.6086], \"legendgroup\": \"North Macedonia\", \"lon\": [21.7453], \"marker\": {\"color\": \"#EF553B\", \"size\": [2226], \"sizemode\": \"area\", \"sizeref\": 318.2528}, \"name\": \"North Macedonia\", \"showlegend\": true, \"type\": \"scattergeo\"}, {\"geo\": \"geo\", \"hovertemplate\": \"<b>%{hovertext}</b><br><br>Country/Region=Norway<br>5/31/20=%{marker.size}<br>Lat=%{lat}<br>Long=%{lon}<extra></extra>\", \"hovertext\": [\"Norway\"], \"lat\": [60.472], \"legendgroup\": \"Norway\", \"lon\": [8.4689], \"marker\": {\"color\": \"#00cc96\", \"size\": [8440], \"sizemode\": \"area\", \"sizeref\": 318.2528}, \"name\": \"Norway\", \"showlegend\": true, \"type\": \"scattergeo\"}, {\"geo\": \"geo\", \"hovertemplate\": \"<b>%{hovertext}</b><br><br>Country/Region=Oman<br>5/31/20=%{marker.size}<br>Lat=%{lat}<br>Long=%{lon}<extra></extra>\", \"hovertext\": [\"Oman\"], \"lat\": [21.0], \"legendgroup\": \"Oman\", \"lon\": [57.0], \"marker\": {\"color\": \"#ab63fa\", \"size\": [11437], \"sizemode\": \"area\", \"sizeref\": 318.2528}, \"name\": \"Oman\", \"showlegend\": true, \"type\": \"scattergeo\"}, {\"geo\": \"geo\", \"hovertemplate\": \"<b>%{hovertext}</b><br><br>Country/Region=Pakistan<br>5/31/20=%{marker.size}<br>Lat=%{lat}<br>Long=%{lon}<extra></extra>\", \"hovertext\": [\"Pakistan\"], \"lat\": [30.3753], \"legendgroup\": \"Pakistan\", \"lon\": [69.3451], \"marker\": {\"color\": \"#FFA15A\", \"size\": [69496], \"sizemode\": \"area\", \"sizeref\": 318.2528}, \"name\": \"Pakistan\", \"showlegend\": true, \"type\": \"scattergeo\"}, {\"geo\": \"geo\", \"hovertemplate\": \"<b>%{hovertext}</b><br><br>Country/Region=Panama<br>5/31/20=%{marker.size}<br>Lat=%{lat}<br>Long=%{lon}<extra></extra>\", \"hovertext\": [\"Panama\"], \"lat\": [8.538], \"legendgroup\": \"Panama\", \"lon\": [-80.7821], \"marker\": {\"color\": \"#19d3f3\", \"size\": [13463], \"sizemode\": \"area\", \"sizeref\": 318.2528}, \"name\": \"Panama\", \"showlegend\": true, \"type\": \"scattergeo\"}, {\"geo\": \"geo\", \"hovertemplate\": \"<b>%{hovertext}</b><br><br>Country/Region=Papua New Guinea<br>5/31/20=%{marker.size}<br>Lat=%{lat}<br>Long=%{lon}<extra></extra>\", \"hovertext\": [\"Papua New Guinea\"], \"lat\": [-6.315], \"legendgroup\": \"Papua New Guinea\", \"lon\": [143.9555], \"marker\": {\"color\": \"#FF6692\", \"size\": [8], \"sizemode\": \"area\", \"sizeref\": 318.2528}, \"name\": \"Papua New Guinea\", \"showlegend\": true, \"type\": \"scattergeo\"}, {\"geo\": \"geo\", \"hovertemplate\": \"<b>%{hovertext}</b><br><br>Country/Region=Paraguay<br>5/31/20=%{marker.size}<br>Lat=%{lat}<br>Long=%{lon}<extra></extra>\", \"hovertext\": [\"Paraguay\"], \"lat\": [-23.4425], \"legendgroup\": \"Paraguay\", \"lon\": [-58.4438], \"marker\": {\"color\": \"#B6E880\", \"size\": [986], \"sizemode\": \"area\", \"sizeref\": 318.2528}, \"name\": \"Paraguay\", \"showlegend\": true, \"type\": \"scattergeo\"}, {\"geo\": \"geo\", \"hovertemplate\": \"<b>%{hovertext}</b><br><br>Country/Region=Peru<br>5/31/20=%{marker.size}<br>Lat=%{lat}<br>Long=%{lon}<extra></extra>\", \"hovertext\": [\"Peru\"], \"lat\": [-9.19], \"legendgroup\": \"Peru\", \"lon\": [-75.0152], \"marker\": {\"color\": \"#FF97FF\", \"size\": [164476], \"sizemode\": \"area\", \"sizeref\": 318.2528}, \"name\": \"Peru\", \"showlegend\": true, \"type\": \"scattergeo\"}, {\"geo\": \"geo\", \"hovertemplate\": \"<b>%{hovertext}</b><br><br>Country/Region=Philippines<br>5/31/20=%{marker.size}<br>Lat=%{lat}<br>Long=%{lon}<extra></extra>\", \"hovertext\": [\"Philippines\"], \"lat\": [13.0], \"legendgroup\": \"Philippines\", \"lon\": [122.0], \"marker\": {\"color\": \"#FECB52\", \"size\": [18086], \"sizemode\": \"area\", \"sizeref\": 318.2528}, \"name\": \"Philippines\", \"showlegend\": true, \"type\": \"scattergeo\"}, {\"geo\": \"geo\", \"hovertemplate\": \"<b>%{hovertext}</b><br><br>Country/Region=Poland<br>5/31/20=%{marker.size}<br>Lat=%{lat}<br>Long=%{lon}<extra></extra>\", \"hovertext\": [\"Poland\"], \"lat\": [51.9194], \"legendgroup\": \"Poland\", \"lon\": [19.1451], \"marker\": {\"color\": \"#636efa\", \"size\": [23786], \"sizemode\": \"area\", \"sizeref\": 318.2528}, \"name\": \"Poland\", \"showlegend\": true, \"type\": \"scattergeo\"}, {\"geo\": \"geo\", \"hovertemplate\": \"<b>%{hovertext}</b><br><br>Country/Region=Portugal<br>5/31/20=%{marker.size}<br>Lat=%{lat}<br>Long=%{lon}<extra></extra>\", \"hovertext\": [\"Portugal\"], \"lat\": [39.3999], \"legendgroup\": \"Portugal\", \"lon\": [-8.2245], \"marker\": {\"color\": \"#EF553B\", \"size\": [32500], \"sizemode\": \"area\", \"sizeref\": 318.2528}, \"name\": \"Portugal\", \"showlegend\": true, \"type\": \"scattergeo\"}, {\"geo\": \"geo\", \"hovertemplate\": \"<b>%{hovertext}</b><br><br>Country/Region=Qatar<br>5/31/20=%{marker.size}<br>Lat=%{lat}<br>Long=%{lon}<extra></extra>\", \"hovertext\": [\"Qatar\"], \"lat\": [25.3548], \"legendgroup\": \"Qatar\", \"lon\": [51.1839], \"marker\": {\"color\": \"#00cc96\", \"size\": [56910], \"sizemode\": \"area\", \"sizeref\": 318.2528}, \"name\": \"Qatar\", \"showlegend\": true, \"type\": \"scattergeo\"}, {\"geo\": \"geo\", \"hovertemplate\": \"<b>%{hovertext}</b><br><br>Country/Region=Romania<br>5/31/20=%{marker.size}<br>Lat=%{lat}<br>Long=%{lon}<extra></extra>\", \"hovertext\": [\"Romania\"], \"lat\": [45.9432], \"legendgroup\": \"Romania\", \"lon\": [24.9668], \"marker\": {\"color\": \"#ab63fa\", \"size\": [19257], \"sizemode\": \"area\", \"sizeref\": 318.2528}, \"name\": \"Romania\", \"showlegend\": true, \"type\": \"scattergeo\"}, {\"geo\": \"geo\", \"hovertemplate\": \"<b>%{hovertext}</b><br><br>Country/Region=Russia<br>5/31/20=%{marker.size}<br>Lat=%{lat}<br>Long=%{lon}<extra></extra>\", \"hovertext\": [\"Russia\"], \"lat\": [60.0], \"legendgroup\": \"Russia\", \"lon\": [90.0], \"marker\": {\"color\": \"#FFA15A\", \"size\": [405843], \"sizemode\": \"area\", \"sizeref\": 318.2528}, \"name\": \"Russia\", \"showlegend\": true, \"type\": \"scattergeo\"}, {\"geo\": \"geo\", \"hovertemplate\": \"<b>%{hovertext}</b><br><br>Country/Region=Rwanda<br>5/31/20=%{marker.size}<br>Lat=%{lat}<br>Long=%{lon}<extra></extra>\", \"hovertext\": [\"Rwanda\"], \"lat\": [-1.9403], \"legendgroup\": \"Rwanda\", \"lon\": [29.8739], \"marker\": {\"color\": \"#19d3f3\", \"size\": [370], \"sizemode\": \"area\", \"sizeref\": 318.2528}, \"name\": \"Rwanda\", \"showlegend\": true, \"type\": \"scattergeo\"}, {\"geo\": \"geo\", \"hovertemplate\": \"<b>%{hovertext}</b><br><br>Country/Region=Saint Lucia<br>5/31/20=%{marker.size}<br>Lat=%{lat}<br>Long=%{lon}<extra></extra>\", \"hovertext\": [\"Saint Lucia\"], \"lat\": [13.9094], \"legendgroup\": \"Saint Lucia\", \"lon\": [-60.9789], \"marker\": {\"color\": \"#FF6692\", \"size\": [18], \"sizemode\": \"area\", \"sizeref\": 318.2528}, \"name\": \"Saint Lucia\", \"showlegend\": true, \"type\": \"scattergeo\"}, {\"geo\": \"geo\", \"hovertemplate\": \"<b>%{hovertext}</b><br><br>Country/Region=Saint Vincent and the Grenadines<br>5/31/20=%{marker.size}<br>Lat=%{lat}<br>Long=%{lon}<extra></extra>\", \"hovertext\": [\"Saint Vincent and the Grenadines\"], \"lat\": [12.9843], \"legendgroup\": \"Saint Vincent and the Grenadines\", \"lon\": [-61.2872], \"marker\": {\"color\": \"#B6E880\", \"size\": [26], \"sizemode\": \"area\", \"sizeref\": 318.2528}, \"name\": \"Saint Vincent and the Grenadines\", \"showlegend\": true, \"type\": \"scattergeo\"}, {\"geo\": \"geo\", \"hovertemplate\": \"<b>%{hovertext}</b><br><br>Country/Region=San Marino<br>5/31/20=%{marker.size}<br>Lat=%{lat}<br>Long=%{lon}<extra></extra>\", \"hovertext\": [\"San Marino\"], \"lat\": [43.9424], \"legendgroup\": \"San Marino\", \"lon\": [12.4578], \"marker\": {\"color\": \"#FF97FF\", \"size\": [671], \"sizemode\": \"area\", \"sizeref\": 318.2528}, \"name\": \"San Marino\", \"showlegend\": true, \"type\": \"scattergeo\"}, {\"geo\": \"geo\", \"hovertemplate\": \"<b>%{hovertext}</b><br><br>Country/Region=Saudi Arabia<br>5/31/20=%{marker.size}<br>Lat=%{lat}<br>Long=%{lon}<extra></extra>\", \"hovertext\": [\"Saudi Arabia\"], \"lat\": [24.0], \"legendgroup\": \"Saudi Arabia\", \"lon\": [45.0], \"marker\": {\"color\": \"#FECB52\", \"size\": [85261], \"sizemode\": \"area\", \"sizeref\": 318.2528}, \"name\": \"Saudi Arabia\", \"showlegend\": true, \"type\": \"scattergeo\"}, {\"geo\": \"geo\", \"hovertemplate\": \"<b>%{hovertext}</b><br><br>Country/Region=Senegal<br>5/31/20=%{marker.size}<br>Lat=%{lat}<br>Long=%{lon}<extra></extra>\", \"hovertext\": [\"Senegal\"], \"lat\": [14.4974], \"legendgroup\": \"Senegal\", \"lon\": [-14.4524], \"marker\": {\"color\": \"#636efa\", \"size\": [3645], \"sizemode\": \"area\", \"sizeref\": 318.2528}, \"name\": \"Senegal\", \"showlegend\": true, \"type\": \"scattergeo\"}, {\"geo\": \"geo\", \"hovertemplate\": \"<b>%{hovertext}</b><br><br>Country/Region=Serbia<br>5/31/20=%{marker.size}<br>Lat=%{lat}<br>Long=%{lon}<extra></extra>\", \"hovertext\": [\"Serbia\"], \"lat\": [44.0165], \"legendgroup\": \"Serbia\", \"lon\": [21.0059], \"marker\": {\"color\": \"#EF553B\", \"size\": [11412], \"sizemode\": \"area\", \"sizeref\": 318.2528}, \"name\": \"Serbia\", \"showlegend\": true, \"type\": \"scattergeo\"}, {\"geo\": \"geo\", \"hovertemplate\": \"<b>%{hovertext}</b><br><br>Country/Region=Seychelles<br>5/31/20=%{marker.size}<br>Lat=%{lat}<br>Long=%{lon}<extra></extra>\", \"hovertext\": [\"Seychelles\"], \"lat\": [-4.6796], \"legendgroup\": \"Seychelles\", \"lon\": [55.492], \"marker\": {\"color\": \"#00cc96\", \"size\": [11], \"sizemode\": \"area\", \"sizeref\": 318.2528}, \"name\": \"Seychelles\", \"showlegend\": true, \"type\": \"scattergeo\"}, {\"geo\": \"geo\", \"hovertemplate\": \"<b>%{hovertext}</b><br><br>Country/Region=Singapore<br>5/31/20=%{marker.size}<br>Lat=%{lat}<br>Long=%{lon}<extra></extra>\", \"hovertext\": [\"Singapore\"], \"lat\": [1.2833], \"legendgroup\": \"Singapore\", \"lon\": [103.8333], \"marker\": {\"color\": \"#ab63fa\", \"size\": [34884], \"sizemode\": \"area\", \"sizeref\": 318.2528}, \"name\": \"Singapore\", \"showlegend\": true, \"type\": \"scattergeo\"}, {\"geo\": \"geo\", \"hovertemplate\": \"<b>%{hovertext}</b><br><br>Country/Region=Slovakia<br>5/31/20=%{marker.size}<br>Lat=%{lat}<br>Long=%{lon}<extra></extra>\", \"hovertext\": [\"Slovakia\"], \"lat\": [48.669], \"legendgroup\": \"Slovakia\", \"lon\": [19.699], \"marker\": {\"color\": \"#FFA15A\", \"size\": [1521], \"sizemode\": \"area\", \"sizeref\": 318.2528}, \"name\": \"Slovakia\", \"showlegend\": true, \"type\": \"scattergeo\"}, {\"geo\": \"geo\", \"hovertemplate\": \"<b>%{hovertext}</b><br><br>Country/Region=Slovenia<br>5/31/20=%{marker.size}<br>Lat=%{lat}<br>Long=%{lon}<extra></extra>\", \"hovertext\": [\"Slovenia\"], \"lat\": [46.1512], \"legendgroup\": \"Slovenia\", \"lon\": [14.9955], \"marker\": {\"color\": \"#19d3f3\", \"size\": [1473], \"sizemode\": \"area\", \"sizeref\": 318.2528}, \"name\": \"Slovenia\", \"showlegend\": true, \"type\": \"scattergeo\"}, {\"geo\": \"geo\", \"hovertemplate\": \"<b>%{hovertext}</b><br><br>Country/Region=Somalia<br>5/31/20=%{marker.size}<br>Lat=%{lat}<br>Long=%{lon}<extra></extra>\", \"hovertext\": [\"Somalia\"], \"lat\": [5.1521], \"legendgroup\": \"Somalia\", \"lon\": [46.1996], \"marker\": {\"color\": \"#FF6692\", \"size\": [1976], \"sizemode\": \"area\", \"sizeref\": 318.2528}, \"name\": \"Somalia\", \"showlegend\": true, \"type\": \"scattergeo\"}, {\"geo\": \"geo\", \"hovertemplate\": \"<b>%{hovertext}</b><br><br>Country/Region=South Africa<br>5/31/20=%{marker.size}<br>Lat=%{lat}<br>Long=%{lon}<extra></extra>\", \"hovertext\": [\"South Africa\"], \"lat\": [-30.5595], \"legendgroup\": \"South Africa\", \"lon\": [22.9375], \"marker\": {\"color\": \"#B6E880\", \"size\": [32683], \"sizemode\": \"area\", \"sizeref\": 318.2528}, \"name\": \"South Africa\", \"showlegend\": true, \"type\": \"scattergeo\"}, {\"geo\": \"geo\", \"hovertemplate\": \"<b>%{hovertext}</b><br><br>Country/Region=Spain<br>5/31/20=%{marker.size}<br>Lat=%{lat}<br>Long=%{lon}<extra></extra>\", \"hovertext\": [\"Spain\"], \"lat\": [40.0], \"legendgroup\": \"Spain\", \"lon\": [-4.0], \"marker\": {\"color\": \"#FF97FF\", \"size\": [239479], \"sizemode\": \"area\", \"sizeref\": 318.2528}, \"name\": \"Spain\", \"showlegend\": true, \"type\": \"scattergeo\"}, {\"geo\": \"geo\", \"hovertemplate\": \"<b>%{hovertext}</b><br><br>Country/Region=Sri Lanka<br>5/31/20=%{marker.size}<br>Lat=%{lat}<br>Long=%{lon}<extra></extra>\", \"hovertext\": [\"Sri Lanka\"], \"lat\": [7.0], \"legendgroup\": \"Sri Lanka\", \"lon\": [81.0], \"marker\": {\"color\": \"#FECB52\", \"size\": [1633], \"sizemode\": \"area\", \"sizeref\": 318.2528}, \"name\": \"Sri Lanka\", \"showlegend\": true, \"type\": \"scattergeo\"}, {\"geo\": \"geo\", \"hovertemplate\": \"<b>%{hovertext}</b><br><br>Country/Region=Sudan<br>5/31/20=%{marker.size}<br>Lat=%{lat}<br>Long=%{lon}<extra></extra>\", \"hovertext\": [\"Sudan\"], \"lat\": [12.8628], \"legendgroup\": \"Sudan\", \"lon\": [30.2176], \"marker\": {\"color\": \"#636efa\", \"size\": [5026], \"sizemode\": \"area\", \"sizeref\": 318.2528}, \"name\": \"Sudan\", \"showlegend\": true, \"type\": \"scattergeo\"}, {\"geo\": \"geo\", \"hovertemplate\": \"<b>%{hovertext}</b><br><br>Country/Region=Suriname<br>5/31/20=%{marker.size}<br>Lat=%{lat}<br>Long=%{lon}<extra></extra>\", \"hovertext\": [\"Suriname\"], \"lat\": [3.9193], \"legendgroup\": \"Suriname\", \"lon\": [-56.0278], \"marker\": {\"color\": \"#EF553B\", \"size\": [23], \"sizemode\": \"area\", \"sizeref\": 318.2528}, \"name\": \"Suriname\", \"showlegend\": true, \"type\": \"scattergeo\"}, {\"geo\": \"geo\", \"hovertemplate\": \"<b>%{hovertext}</b><br><br>Country/Region=Sweden<br>5/31/20=%{marker.size}<br>Lat=%{lat}<br>Long=%{lon}<extra></extra>\", \"hovertext\": [\"Sweden\"], \"lat\": [63.0], \"legendgroup\": \"Sweden\", \"lon\": [16.0], \"marker\": {\"color\": \"#00cc96\", \"size\": [37542], \"sizemode\": \"area\", \"sizeref\": 318.2528}, \"name\": \"Sweden\", \"showlegend\": true, \"type\": \"scattergeo\"}, {\"geo\": \"geo\", \"hovertemplate\": \"<b>%{hovertext}</b><br><br>Country/Region=Switzerland<br>5/31/20=%{marker.size}<br>Lat=%{lat}<br>Long=%{lon}<extra></extra>\", \"hovertext\": [\"Switzerland\"], \"lat\": [46.8182], \"legendgroup\": \"Switzerland\", \"lon\": [8.2275], \"marker\": {\"color\": \"#ab63fa\", \"size\": [30862], \"sizemode\": \"area\", \"sizeref\": 318.2528}, \"name\": \"Switzerland\", \"showlegend\": true, \"type\": \"scattergeo\"}, {\"geo\": \"geo\", \"hovertemplate\": \"<b>%{hovertext}</b><br><br>Country/Region=Taiwan*<br>5/31/20=%{marker.size}<br>Lat=%{lat}<br>Long=%{lon}<extra></extra>\", \"hovertext\": [\"Taiwan*\"], \"lat\": [23.7], \"legendgroup\": \"Taiwan*\", \"lon\": [121.0], \"marker\": {\"color\": \"#FFA15A\", \"size\": [442], \"sizemode\": \"area\", \"sizeref\": 318.2528}, \"name\": \"Taiwan*\", \"showlegend\": true, \"type\": \"scattergeo\"}, {\"geo\": \"geo\", \"hovertemplate\": \"<b>%{hovertext}</b><br><br>Country/Region=Tanzania<br>5/31/20=%{marker.size}<br>Lat=%{lat}<br>Long=%{lon}<extra></extra>\", \"hovertext\": [\"Tanzania\"], \"lat\": [-6.369], \"legendgroup\": \"Tanzania\", \"lon\": [34.8888], \"marker\": {\"color\": \"#19d3f3\", \"size\": [509], \"sizemode\": \"area\", \"sizeref\": 318.2528}, \"name\": \"Tanzania\", \"showlegend\": true, \"type\": \"scattergeo\"}, {\"geo\": \"geo\", \"hovertemplate\": \"<b>%{hovertext}</b><br><br>Country/Region=Thailand<br>5/31/20=%{marker.size}<br>Lat=%{lat}<br>Long=%{lon}<extra></extra>\", \"hovertext\": [\"Thailand\"], \"lat\": [15.0], \"legendgroup\": \"Thailand\", \"lon\": [101.0], \"marker\": {\"color\": \"#FF6692\", \"size\": [3081], \"sizemode\": \"area\", \"sizeref\": 318.2528}, \"name\": \"Thailand\", \"showlegend\": true, \"type\": \"scattergeo\"}, {\"geo\": \"geo\", \"hovertemplate\": \"<b>%{hovertext}</b><br><br>Country/Region=Togo<br>5/31/20=%{marker.size}<br>Lat=%{lat}<br>Long=%{lon}<extra></extra>\", \"hovertext\": [\"Togo\"], \"lat\": [8.6195], \"legendgroup\": \"Togo\", \"lon\": [0.8248], \"marker\": {\"color\": \"#B6E880\", \"size\": [442], \"sizemode\": \"area\", \"sizeref\": 318.2528}, \"name\": \"Togo\", \"showlegend\": true, \"type\": \"scattergeo\"}, {\"geo\": \"geo\", \"hovertemplate\": \"<b>%{hovertext}</b><br><br>Country/Region=Trinidad and Tobago<br>5/31/20=%{marker.size}<br>Lat=%{lat}<br>Long=%{lon}<extra></extra>\", \"hovertext\": [\"Trinidad and Tobago\"], \"lat\": [10.6918], \"legendgroup\": \"Trinidad and Tobago\", \"lon\": [-61.2225], \"marker\": {\"color\": \"#FF97FF\", \"size\": [117], \"sizemode\": \"area\", \"sizeref\": 318.2528}, \"name\": \"Trinidad and Tobago\", \"showlegend\": true, \"type\": \"scattergeo\"}, {\"geo\": \"geo\", \"hovertemplate\": \"<b>%{hovertext}</b><br><br>Country/Region=Tunisia<br>5/31/20=%{marker.size}<br>Lat=%{lat}<br>Long=%{lon}<extra></extra>\", \"hovertext\": [\"Tunisia\"], \"lat\": [34.0], \"legendgroup\": \"Tunisia\", \"lon\": [9.0], \"marker\": {\"color\": \"#FECB52\", \"size\": [1077], \"sizemode\": \"area\", \"sizeref\": 318.2528}, \"name\": \"Tunisia\", \"showlegend\": true, \"type\": \"scattergeo\"}, {\"geo\": \"geo\", \"hovertemplate\": \"<b>%{hovertext}</b><br><br>Country/Region=Turkey<br>5/31/20=%{marker.size}<br>Lat=%{lat}<br>Long=%{lon}<extra></extra>\", \"hovertext\": [\"Turkey\"], \"lat\": [38.9637], \"legendgroup\": \"Turkey\", \"lon\": [35.2433], \"marker\": {\"color\": \"#636efa\", \"size\": [163942], \"sizemode\": \"area\", \"sizeref\": 318.2528}, \"name\": \"Turkey\", \"showlegend\": true, \"type\": \"scattergeo\"}, {\"geo\": \"geo\", \"hovertemplate\": \"<b>%{hovertext}</b><br><br>Country/Region=Uganda<br>5/31/20=%{marker.size}<br>Lat=%{lat}<br>Long=%{lon}<extra></extra>\", \"hovertext\": [\"Uganda\"], \"lat\": [1.0], \"legendgroup\": \"Uganda\", \"lon\": [32.0], \"marker\": {\"color\": \"#EF553B\", \"size\": [417], \"sizemode\": \"area\", \"sizeref\": 318.2528}, \"name\": \"Uganda\", \"showlegend\": true, \"type\": \"scattergeo\"}, {\"geo\": \"geo\", \"hovertemplate\": \"<b>%{hovertext}</b><br><br>Country/Region=Ukraine<br>5/31/20=%{marker.size}<br>Lat=%{lat}<br>Long=%{lon}<extra></extra>\", \"hovertext\": [\"Ukraine\"], \"lat\": [48.3794], \"legendgroup\": \"Ukraine\", \"lon\": [31.1656], \"marker\": {\"color\": \"#00cc96\", \"size\": [23672], \"sizemode\": \"area\", \"sizeref\": 318.2528}, \"name\": \"Ukraine\", \"showlegend\": true, \"type\": \"scattergeo\"}, {\"geo\": \"geo\", \"hovertemplate\": \"<b>%{hovertext}</b><br><br>Country/Region=United Arab Emirates<br>5/31/20=%{marker.size}<br>Lat=%{lat}<br>Long=%{lon}<extra></extra>\", \"hovertext\": [\"United Arab Emirates\"], \"lat\": [24.0], \"legendgroup\": \"United Arab Emirates\", \"lon\": [54.0], \"marker\": {\"color\": \"#ab63fa\", \"size\": [34557], \"sizemode\": \"area\", \"sizeref\": 318.2528}, \"name\": \"United Arab Emirates\", \"showlegend\": true, \"type\": \"scattergeo\"}, {\"geo\": \"geo\", \"hovertemplate\": \"<b>%{hovertext}</b><br><br>Country/Region=United Kingdom<br>5/31/20=%{marker.size}<br>Lat=%{lat}<br>Long=%{lon}<extra></extra>\", \"hovertext\": [\"United Kingdom\", \"United Kingdom\", \"United Kingdom\", \"United Kingdom\", \"United Kingdom\", \"United Kingdom\", \"United Kingdom\", \"United Kingdom\", \"United Kingdom\", \"United Kingdom\", \"United Kingdom\"], \"lat\": [32.3078, 19.3133, 49.3723, 36.1408, 54.2361, 16.7425, 55.3781, 18.2206, 18.4207, 21.69400000000001, -51.7963], \"legendgroup\": \"United Kingdom\", \"lon\": [-64.7505, -81.2546, -2.3644, -5.3536, -4.5481, -62.1874, -3.4360000000000004, -63.0686, -64.64, -71.7979, -59.5236], \"marker\": {\"color\": \"#FFA15A\", \"size\": [140, 141, 560, 170, 336, 11, 274762, 3, 8, 12, 13], \"sizemode\": \"area\", \"sizeref\": 318.2528}, \"name\": \"United Kingdom\", \"showlegend\": true, \"type\": \"scattergeo\"}, {\"geo\": \"geo\", \"hovertemplate\": \"<b>%{hovertext}</b><br><br>Country/Region=Uruguay<br>5/31/20=%{marker.size}<br>Lat=%{lat}<br>Long=%{lon}<extra></extra>\", \"hovertext\": [\"Uruguay\"], \"lat\": [-32.5228], \"legendgroup\": \"Uruguay\", \"lon\": [-55.7658], \"marker\": {\"color\": \"#19d3f3\", \"size\": [823], \"sizemode\": \"area\", \"sizeref\": 318.2528}, \"name\": \"Uruguay\", \"showlegend\": true, \"type\": \"scattergeo\"}, {\"geo\": \"geo\", \"hovertemplate\": \"<b>%{hovertext}</b><br><br>Country/Region=US<br>5/31/20=%{marker.size}<br>Lat=%{lat}<br>Long=%{lon}<extra></extra>\", \"hovertext\": [\"US\"], \"lat\": [37.0902], \"legendgroup\": \"US\", \"lon\": [-95.7129], \"marker\": {\"color\": \"#FF6692\", \"size\": [1790172], \"sizemode\": \"area\", \"sizeref\": 318.2528}, \"name\": \"US\", \"showlegend\": true, \"type\": \"scattergeo\"}, {\"geo\": \"geo\", \"hovertemplate\": \"<b>%{hovertext}</b><br><br>Country/Region=Uzbekistan<br>5/31/20=%{marker.size}<br>Lat=%{lat}<br>Long=%{lon}<extra></extra>\", \"hovertext\": [\"Uzbekistan\"], \"lat\": [41.3775], \"legendgroup\": \"Uzbekistan\", \"lon\": [64.5853], \"marker\": {\"color\": \"#B6E880\", \"size\": [3623], \"sizemode\": \"area\", \"sizeref\": 318.2528}, \"name\": \"Uzbekistan\", \"showlegend\": true, \"type\": \"scattergeo\"}, {\"geo\": \"geo\", \"hovertemplate\": \"<b>%{hovertext}</b><br><br>Country/Region=Venezuela<br>5/31/20=%{marker.size}<br>Lat=%{lat}<br>Long=%{lon}<extra></extra>\", \"hovertext\": [\"Venezuela\"], \"lat\": [6.4238], \"legendgroup\": \"Venezuela\", \"lon\": [-66.5897], \"marker\": {\"color\": \"#FF97FF\", \"size\": [1510], \"sizemode\": \"area\", \"sizeref\": 318.2528}, \"name\": \"Venezuela\", \"showlegend\": true, \"type\": \"scattergeo\"}, {\"geo\": \"geo\", \"hovertemplate\": \"<b>%{hovertext}</b><br><br>Country/Region=Vietnam<br>5/31/20=%{marker.size}<br>Lat=%{lat}<br>Long=%{lon}<extra></extra>\", \"hovertext\": [\"Vietnam\"], \"lat\": [16.0], \"legendgroup\": \"Vietnam\", \"lon\": [108.0], \"marker\": {\"color\": \"#FECB52\", \"size\": [328], \"sizemode\": \"area\", \"sizeref\": 318.2528}, \"name\": \"Vietnam\", \"showlegend\": true, \"type\": \"scattergeo\"}, {\"geo\": \"geo\", \"hovertemplate\": \"<b>%{hovertext}</b><br><br>Country/Region=Zambia<br>5/31/20=%{marker.size}<br>Lat=%{lat}<br>Long=%{lon}<extra></extra>\", \"hovertext\": [\"Zambia\"], \"lat\": [-15.4167], \"legendgroup\": \"Zambia\", \"lon\": [28.2833], \"marker\": {\"color\": \"#636efa\", \"size\": [1057], \"sizemode\": \"area\", \"sizeref\": 318.2528}, \"name\": \"Zambia\", \"showlegend\": true, \"type\": \"scattergeo\"}, {\"geo\": \"geo\", \"hovertemplate\": \"<b>%{hovertext}</b><br><br>Country/Region=Zimbabwe<br>5/31/20=%{marker.size}<br>Lat=%{lat}<br>Long=%{lon}<extra></extra>\", \"hovertext\": [\"Zimbabwe\"], \"lat\": [-20.0], \"legendgroup\": \"Zimbabwe\", \"lon\": [30.0], \"marker\": {\"color\": \"#EF553B\", \"size\": [178], \"sizemode\": \"area\", \"sizeref\": 318.2528}, \"name\": \"Zimbabwe\", \"showlegend\": true, \"type\": \"scattergeo\"}, {\"geo\": \"geo\", \"hovertemplate\": \"<b>%{hovertext}</b><br><br>Country/Region=Dominica<br>5/31/20=%{marker.size}<br>Lat=%{lat}<br>Long=%{lon}<extra></extra>\", \"hovertext\": [\"Dominica\"], \"lat\": [15.415], \"legendgroup\": \"Dominica\", \"lon\": [-61.371], \"marker\": {\"color\": \"#00cc96\", \"size\": [16], \"sizemode\": \"area\", \"sizeref\": 318.2528}, \"name\": \"Dominica\", \"showlegend\": true, \"type\": \"scattergeo\"}, {\"geo\": \"geo\", \"hovertemplate\": \"<b>%{hovertext}</b><br><br>Country/Region=Grenada<br>5/31/20=%{marker.size}<br>Lat=%{lat}<br>Long=%{lon}<extra></extra>\", \"hovertext\": [\"Grenada\"], \"lat\": [12.1165], \"legendgroup\": \"Grenada\", \"lon\": [-61.678999999999995], \"marker\": {\"color\": \"#ab63fa\", \"size\": [23], \"sizemode\": \"area\", \"sizeref\": 318.2528}, \"name\": \"Grenada\", \"showlegend\": true, \"type\": \"scattergeo\"}, {\"geo\": \"geo\", \"hovertemplate\": \"<b>%{hovertext}</b><br><br>Country/Region=Mozambique<br>5/31/20=%{marker.size}<br>Lat=%{lat}<br>Long=%{lon}<extra></extra>\", \"hovertext\": [\"Mozambique\"], \"lat\": [-18.665695], \"legendgroup\": \"Mozambique\", \"lon\": [35.529562], \"marker\": {\"color\": \"#FFA15A\", \"size\": [254], \"sizemode\": \"area\", \"sizeref\": 318.2528}, \"name\": \"Mozambique\", \"showlegend\": true, \"type\": \"scattergeo\"}, {\"geo\": \"geo\", \"hovertemplate\": \"<b>%{hovertext}</b><br><br>Country/Region=Syria<br>5/31/20=%{marker.size}<br>Lat=%{lat}<br>Long=%{lon}<extra></extra>\", \"hovertext\": [\"Syria\"], \"lat\": [34.802075], \"legendgroup\": \"Syria\", \"lon\": [38.99681500000001], \"marker\": {\"color\": \"#19d3f3\", \"size\": [122], \"sizemode\": \"area\", \"sizeref\": 318.2528}, \"name\": \"Syria\", \"showlegend\": true, \"type\": \"scattergeo\"}, {\"geo\": \"geo\", \"hovertemplate\": \"<b>%{hovertext}</b><br><br>Country/Region=Timor-Leste<br>5/31/20=%{marker.size}<br>Lat=%{lat}<br>Long=%{lon}<extra></extra>\", \"hovertext\": [\"Timor-Leste\"], \"lat\": [-8.874217], \"legendgroup\": \"Timor-Leste\", \"lon\": [125.727539], \"marker\": {\"color\": \"#FF6692\", \"size\": [24], \"sizemode\": \"area\", \"sizeref\": 318.2528}, \"name\": \"Timor-Leste\", \"showlegend\": true, \"type\": \"scattergeo\"}, {\"geo\": \"geo\", \"hovertemplate\": \"<b>%{hovertext}</b><br><br>Country/Region=Belize<br>5/31/20=%{marker.size}<br>Lat=%{lat}<br>Long=%{lon}<extra></extra>\", \"hovertext\": [\"Belize\"], \"lat\": [13.1939], \"legendgroup\": \"Belize\", \"lon\": [-59.5432], \"marker\": {\"color\": \"#B6E880\", \"size\": [18], \"sizemode\": \"area\", \"sizeref\": 318.2528}, \"name\": \"Belize\", \"showlegend\": true, \"type\": \"scattergeo\"}, {\"geo\": \"geo\", \"hovertemplate\": \"<b>%{hovertext}</b><br><br>Country/Region=Laos<br>5/31/20=%{marker.size}<br>Lat=%{lat}<br>Long=%{lon}<extra></extra>\", \"hovertext\": [\"Laos\"], \"lat\": [19.856270000000002], \"legendgroup\": \"Laos\", \"lon\": [102.495496], \"marker\": {\"color\": \"#FF97FF\", \"size\": [19], \"sizemode\": \"area\", \"sizeref\": 318.2528}, \"name\": \"Laos\", \"showlegend\": true, \"type\": \"scattergeo\"}, {\"geo\": \"geo\", \"hovertemplate\": \"<b>%{hovertext}</b><br><br>Country/Region=Libya<br>5/31/20=%{marker.size}<br>Lat=%{lat}<br>Long=%{lon}<extra></extra>\", \"hovertext\": [\"Libya\"], \"lat\": [26.3351], \"legendgroup\": \"Libya\", \"lon\": [17.228331], \"marker\": {\"color\": \"#FECB52\", \"size\": [156], \"sizemode\": \"area\", \"sizeref\": 318.2528}, \"name\": \"Libya\", \"showlegend\": true, \"type\": \"scattergeo\"}, {\"geo\": \"geo\", \"hovertemplate\": \"<b>%{hovertext}</b><br><br>Country/Region=West Bank and Gaza<br>5/31/20=%{marker.size}<br>Lat=%{lat}<br>Long=%{lon}<extra></extra>\", \"hovertext\": [\"West Bank and Gaza\"], \"lat\": [31.9522], \"legendgroup\": \"West Bank and Gaza\", \"lon\": [35.2332], \"marker\": {\"color\": \"#636efa\", \"size\": [448], \"sizemode\": \"area\", \"sizeref\": 318.2528}, \"name\": \"West Bank and Gaza\", \"showlegend\": true, \"type\": \"scattergeo\"}, {\"geo\": \"geo\", \"hovertemplate\": \"<b>%{hovertext}</b><br><br>Country/Region=Guinea-Bissau<br>5/31/20=%{marker.size}<br>Lat=%{lat}<br>Long=%{lon}<extra></extra>\", \"hovertext\": [\"Guinea-Bissau\"], \"lat\": [11.8037], \"legendgroup\": \"Guinea-Bissau\", \"lon\": [-15.1804], \"marker\": {\"color\": \"#EF553B\", \"size\": [1256], \"sizemode\": \"area\", \"sizeref\": 318.2528}, \"name\": \"Guinea-Bissau\", \"showlegend\": true, \"type\": \"scattergeo\"}, {\"geo\": \"geo\", \"hovertemplate\": \"<b>%{hovertext}</b><br><br>Country/Region=Mali<br>5/31/20=%{marker.size}<br>Lat=%{lat}<br>Long=%{lon}<extra></extra>\", \"hovertext\": [\"Mali\"], \"lat\": [17.570692], \"legendgroup\": \"Mali\", \"lon\": [-3.996166000000001], \"marker\": {\"color\": \"#00cc96\", \"size\": [1265], \"sizemode\": \"area\", \"sizeref\": 318.2528}, \"name\": \"Mali\", \"showlegend\": true, \"type\": \"scattergeo\"}, {\"geo\": \"geo\", \"hovertemplate\": \"<b>%{hovertext}</b><br><br>Country/Region=Saint Kitts and Nevis<br>5/31/20=%{marker.size}<br>Lat=%{lat}<br>Long=%{lon}<extra></extra>\", \"hovertext\": [\"Saint Kitts and Nevis\"], \"lat\": [17.357822], \"legendgroup\": \"Saint Kitts and Nevis\", \"lon\": [-62.782998], \"marker\": {\"color\": \"#ab63fa\", \"size\": [15], \"sizemode\": \"area\", \"sizeref\": 318.2528}, \"name\": \"Saint Kitts and Nevis\", \"showlegend\": true, \"type\": \"scattergeo\"}, {\"geo\": \"geo\", \"hovertemplate\": \"<b>%{hovertext}</b><br><br>Country/Region=Kosovo<br>5/31/20=%{marker.size}<br>Lat=%{lat}<br>Long=%{lon}<extra></extra>\", \"hovertext\": [\"Kosovo\"], \"lat\": [42.602636], \"legendgroup\": \"Kosovo\", \"lon\": [20.902977], \"marker\": {\"color\": \"#FFA15A\", \"size\": [1064], \"sizemode\": \"area\", \"sizeref\": 318.2528}, \"name\": \"Kosovo\", \"showlegend\": true, \"type\": \"scattergeo\"}, {\"geo\": \"geo\", \"hovertemplate\": \"<b>%{hovertext}</b><br><br>Country/Region=Burma<br>5/31/20=%{marker.size}<br>Lat=%{lat}<br>Long=%{lon}<extra></extra>\", \"hovertext\": [\"Burma\"], \"lat\": [21.9162], \"legendgroup\": \"Burma\", \"lon\": [95.956], \"marker\": {\"color\": \"#19d3f3\", \"size\": [224], \"sizemode\": \"area\", \"sizeref\": 318.2528}, \"name\": \"Burma\", \"showlegend\": true, \"type\": \"scattergeo\"}, {\"geo\": \"geo\", \"hovertemplate\": \"<b>%{hovertext}</b><br><br>Country/Region=MS Zaandam<br>5/31/20=%{marker.size}<br>Lat=%{lat}<br>Long=%{lon}<extra></extra>\", \"hovertext\": [\"MS Zaandam\"], \"lat\": [0.0], \"legendgroup\": \"MS Zaandam\", \"lon\": [0.0], \"marker\": {\"color\": \"#FF6692\", \"size\": [9], \"sizemode\": \"area\", \"sizeref\": 318.2528}, \"name\": \"MS Zaandam\", \"showlegend\": true, \"type\": \"scattergeo\"}, {\"geo\": \"geo\", \"hovertemplate\": \"<b>%{hovertext}</b><br><br>Country/Region=Botswana<br>5/31/20=%{marker.size}<br>Lat=%{lat}<br>Long=%{lon}<extra></extra>\", \"hovertext\": [\"Botswana\"], \"lat\": [-22.3285], \"legendgroup\": \"Botswana\", \"lon\": [24.6849], \"marker\": {\"color\": \"#B6E880\", \"size\": [35], \"sizemode\": \"area\", \"sizeref\": 318.2528}, \"name\": \"Botswana\", \"showlegend\": true, \"type\": \"scattergeo\"}, {\"geo\": \"geo\", \"hovertemplate\": \"<b>%{hovertext}</b><br><br>Country/Region=Burundi<br>5/31/20=%{marker.size}<br>Lat=%{lat}<br>Long=%{lon}<extra></extra>\", \"hovertext\": [\"Burundi\"], \"lat\": [-3.3731], \"legendgroup\": \"Burundi\", \"lon\": [29.9189], \"marker\": {\"color\": \"#FF97FF\", \"size\": [63], \"sizemode\": \"area\", \"sizeref\": 318.2528}, \"name\": \"Burundi\", \"showlegend\": true, \"type\": \"scattergeo\"}, {\"geo\": \"geo\", \"hovertemplate\": \"<b>%{hovertext}</b><br><br>Country/Region=Sierra Leone<br>5/31/20=%{marker.size}<br>Lat=%{lat}<br>Long=%{lon}<extra></extra>\", \"hovertext\": [\"Sierra Leone\"], \"lat\": [8.460555000000001], \"legendgroup\": \"Sierra Leone\", \"lon\": [-11.779889], \"marker\": {\"color\": \"#FECB52\", \"size\": [861], \"sizemode\": \"area\", \"sizeref\": 318.2528}, \"name\": \"Sierra Leone\", \"showlegend\": true, \"type\": \"scattergeo\"}, {\"geo\": \"geo\", \"hovertemplate\": \"<b>%{hovertext}</b><br><br>Country/Region=Malawi<br>5/31/20=%{marker.size}<br>Lat=%{lat}<br>Long=%{lon}<extra></extra>\", \"hovertext\": [\"Malawi\"], \"lat\": [-13.254307999999998], \"legendgroup\": \"Malawi\", \"lon\": [34.301525], \"marker\": {\"color\": \"#636efa\", \"size\": [284], \"sizemode\": \"area\", \"sizeref\": 318.2528}, \"name\": \"Malawi\", \"showlegend\": true, \"type\": \"scattergeo\"}, {\"geo\": \"geo\", \"hovertemplate\": \"<b>%{hovertext}</b><br><br>Country/Region=South Sudan<br>5/31/20=%{marker.size}<br>Lat=%{lat}<br>Long=%{lon}<extra></extra>\", \"hovertext\": [\"South Sudan\"], \"lat\": [6.8770000000000024], \"legendgroup\": \"South Sudan\", \"lon\": [31.307], \"marker\": {\"color\": \"#EF553B\", \"size\": [994], \"sizemode\": \"area\", \"sizeref\": 318.2528}, \"name\": \"South Sudan\", \"showlegend\": true, \"type\": \"scattergeo\"}, {\"geo\": \"geo\", \"hovertemplate\": \"<b>%{hovertext}</b><br><br>Country/Region=Western Sahara<br>5/31/20=%{marker.size}<br>Lat=%{lat}<br>Long=%{lon}<extra></extra>\", \"hovertext\": [\"Western Sahara\"], \"lat\": [24.2155], \"legendgroup\": \"Western Sahara\", \"lon\": [-12.8858], \"marker\": {\"color\": \"#00cc96\", \"size\": [9], \"sizemode\": \"area\", \"sizeref\": 318.2528}, \"name\": \"Western Sahara\", \"showlegend\": true, \"type\": \"scattergeo\"}, {\"geo\": \"geo\", \"hovertemplate\": \"<b>%{hovertext}</b><br><br>Country/Region=Sao Tome and Principe<br>5/31/20=%{marker.size}<br>Lat=%{lat}<br>Long=%{lon}<extra></extra>\", \"hovertext\": [\"Sao Tome and Principe\"], \"lat\": [0.18636], \"legendgroup\": \"Sao Tome and Principe\", \"lon\": [6.613081], \"marker\": {\"color\": \"#ab63fa\", \"size\": [483], \"sizemode\": \"area\", \"sizeref\": 318.2528}, \"name\": \"Sao Tome and Principe\", \"showlegend\": true, \"type\": \"scattergeo\"}, {\"geo\": \"geo\", \"hovertemplate\": \"<b>%{hovertext}</b><br><br>Country/Region=Yemen<br>5/31/20=%{marker.size}<br>Lat=%{lat}<br>Long=%{lon}<extra></extra>\", \"hovertext\": [\"Yemen\"], \"lat\": [15.552726999999999], \"legendgroup\": \"Yemen\", \"lon\": [48.516388], \"marker\": {\"color\": \"#FFA15A\", \"size\": [323], \"sizemode\": \"area\", \"sizeref\": 318.2528}, \"name\": \"Yemen\", \"showlegend\": true, \"type\": \"scattergeo\"}, {\"geo\": \"geo\", \"hovertemplate\": \"<b>%{hovertext}</b><br><br>Country/Region=Comoros<br>5/31/20=%{marker.size}<br>Lat=%{lat}<br>Long=%{lon}<extra></extra>\", \"hovertext\": [\"Comoros\"], \"lat\": [-11.6455], \"legendgroup\": \"Comoros\", \"lon\": [43.3333], \"marker\": {\"color\": \"#19d3f3\", \"size\": [106], \"sizemode\": \"area\", \"sizeref\": 318.2528}, \"name\": \"Comoros\", \"showlegend\": true, \"type\": \"scattergeo\"}, {\"geo\": \"geo\", \"hovertemplate\": \"<b>%{hovertext}</b><br><br>Country/Region=Tajikistan<br>5/31/20=%{marker.size}<br>Lat=%{lat}<br>Long=%{lon}<extra></extra>\", \"hovertext\": [\"Tajikistan\"], \"lat\": [38.861034000000004], \"legendgroup\": \"Tajikistan\", \"lon\": [71.276093], \"marker\": {\"color\": \"#FF6692\", \"size\": [3930], \"sizemode\": \"area\", \"sizeref\": 318.2528}, \"name\": \"Tajikistan\", \"showlegend\": true, \"type\": \"scattergeo\"}, {\"geo\": \"geo\", \"hovertemplate\": \"<b>%{hovertext}</b><br><br>Country/Region=Lesotho<br>5/31/20=%{marker.size}<br>Lat=%{lat}<br>Long=%{lon}<extra></extra>\", \"hovertext\": [\"Lesotho\"], \"lat\": [-29.609988], \"legendgroup\": \"Lesotho\", \"lon\": [28.233608], \"marker\": {\"color\": \"#B6E880\", \"size\": [2], \"sizemode\": \"area\", \"sizeref\": 318.2528}, \"name\": \"Lesotho\", \"showlegend\": true, \"type\": \"scattergeo\"}],\n",
       "                        {\"geo\": {\"center\": {}, \"domain\": {\"x\": [0.0, 1.0], \"y\": [0.0, 1.0]}, \"projection\": {\"type\": \"orthographic\"}}, \"legend\": {\"itemsizing\": \"constant\", \"title\": {\"text\": \"Country/Region\"}, \"tracegroupgap\": 0}, \"template\": {\"data\": {\"bar\": [{\"error_x\": {\"color\": \"#2a3f5f\"}, \"error_y\": {\"color\": \"#2a3f5f\"}, \"marker\": {\"line\": {\"color\": \"#E5ECF6\", \"width\": 0.5}}, \"type\": \"bar\"}], \"barpolar\": [{\"marker\": {\"line\": {\"color\": \"#E5ECF6\", \"width\": 0.5}}, \"type\": \"barpolar\"}], \"carpet\": [{\"aaxis\": {\"endlinecolor\": \"#2a3f5f\", \"gridcolor\": \"white\", \"linecolor\": \"white\", \"minorgridcolor\": \"white\", \"startlinecolor\": \"#2a3f5f\"}, \"baxis\": {\"endlinecolor\": \"#2a3f5f\", \"gridcolor\": \"white\", \"linecolor\": \"white\", \"minorgridcolor\": \"white\", \"startlinecolor\": \"#2a3f5f\"}, \"type\": \"carpet\"}], \"choropleth\": [{\"colorbar\": {\"outlinewidth\": 0, \"ticks\": \"\"}, \"type\": \"choropleth\"}], \"contour\": [{\"colorbar\": {\"outlinewidth\": 0, \"ticks\": \"\"}, \"colorscale\": [[0.0, \"#0d0887\"], [0.1111111111111111, \"#46039f\"], [0.2222222222222222, \"#7201a8\"], [0.3333333333333333, \"#9c179e\"], [0.4444444444444444, \"#bd3786\"], [0.5555555555555556, \"#d8576b\"], [0.6666666666666666, \"#ed7953\"], [0.7777777777777778, \"#fb9f3a\"], [0.8888888888888888, \"#fdca26\"], [1.0, \"#f0f921\"]], \"type\": \"contour\"}], \"contourcarpet\": [{\"colorbar\": {\"outlinewidth\": 0, \"ticks\": \"\"}, \"type\": \"contourcarpet\"}], \"heatmap\": [{\"colorbar\": {\"outlinewidth\": 0, \"ticks\": \"\"}, \"colorscale\": [[0.0, \"#0d0887\"], [0.1111111111111111, \"#46039f\"], [0.2222222222222222, \"#7201a8\"], [0.3333333333333333, \"#9c179e\"], [0.4444444444444444, \"#bd3786\"], [0.5555555555555556, \"#d8576b\"], [0.6666666666666666, \"#ed7953\"], [0.7777777777777778, \"#fb9f3a\"], [0.8888888888888888, \"#fdca26\"], [1.0, \"#f0f921\"]], \"type\": \"heatmap\"}], \"heatmapgl\": [{\"colorbar\": {\"outlinewidth\": 0, \"ticks\": \"\"}, \"colorscale\": [[0.0, \"#0d0887\"], [0.1111111111111111, \"#46039f\"], [0.2222222222222222, \"#7201a8\"], [0.3333333333333333, \"#9c179e\"], [0.4444444444444444, \"#bd3786\"], [0.5555555555555556, \"#d8576b\"], [0.6666666666666666, \"#ed7953\"], [0.7777777777777778, \"#fb9f3a\"], [0.8888888888888888, \"#fdca26\"], [1.0, \"#f0f921\"]], \"type\": \"heatmapgl\"}], \"histogram\": [{\"marker\": {\"colorbar\": {\"outlinewidth\": 0, \"ticks\": \"\"}}, \"type\": \"histogram\"}], \"histogram2d\": [{\"colorbar\": {\"outlinewidth\": 0, \"ticks\": \"\"}, \"colorscale\": [[0.0, \"#0d0887\"], [0.1111111111111111, \"#46039f\"], [0.2222222222222222, \"#7201a8\"], [0.3333333333333333, \"#9c179e\"], [0.4444444444444444, \"#bd3786\"], [0.5555555555555556, \"#d8576b\"], [0.6666666666666666, \"#ed7953\"], [0.7777777777777778, \"#fb9f3a\"], [0.8888888888888888, \"#fdca26\"], [1.0, \"#f0f921\"]], \"type\": \"histogram2d\"}], \"histogram2dcontour\": [{\"colorbar\": {\"outlinewidth\": 0, \"ticks\": \"\"}, \"colorscale\": [[0.0, \"#0d0887\"], [0.1111111111111111, \"#46039f\"], [0.2222222222222222, \"#7201a8\"], [0.3333333333333333, \"#9c179e\"], [0.4444444444444444, \"#bd3786\"], [0.5555555555555556, \"#d8576b\"], [0.6666666666666666, \"#ed7953\"], [0.7777777777777778, \"#fb9f3a\"], [0.8888888888888888, \"#fdca26\"], [1.0, \"#f0f921\"]], \"type\": \"histogram2dcontour\"}], \"mesh3d\": [{\"colorbar\": {\"outlinewidth\": 0, \"ticks\": \"\"}, \"type\": \"mesh3d\"}], \"parcoords\": [{\"line\": {\"colorbar\": {\"outlinewidth\": 0, \"ticks\": \"\"}}, \"type\": \"parcoords\"}], \"pie\": [{\"automargin\": true, \"type\": \"pie\"}], \"scatter\": [{\"marker\": {\"colorbar\": {\"outlinewidth\": 0, \"ticks\": \"\"}}, \"type\": \"scatter\"}], \"scatter3d\": [{\"line\": {\"colorbar\": {\"outlinewidth\": 0, \"ticks\": \"\"}}, \"marker\": {\"colorbar\": {\"outlinewidth\": 0, \"ticks\": \"\"}}, \"type\": \"scatter3d\"}], \"scattercarpet\": [{\"marker\": {\"colorbar\": {\"outlinewidth\": 0, \"ticks\": \"\"}}, \"type\": \"scattercarpet\"}], \"scattergeo\": [{\"marker\": {\"colorbar\": {\"outlinewidth\": 0, \"ticks\": \"\"}}, \"type\": \"scattergeo\"}], \"scattergl\": [{\"marker\": {\"colorbar\": {\"outlinewidth\": 0, \"ticks\": \"\"}}, \"type\": \"scattergl\"}], \"scattermapbox\": [{\"marker\": {\"colorbar\": {\"outlinewidth\": 0, \"ticks\": \"\"}}, \"type\": \"scattermapbox\"}], \"scatterpolar\": [{\"marker\": {\"colorbar\": {\"outlinewidth\": 0, \"ticks\": \"\"}}, \"type\": \"scatterpolar\"}], \"scatterpolargl\": [{\"marker\": {\"colorbar\": {\"outlinewidth\": 0, \"ticks\": \"\"}}, \"type\": \"scatterpolargl\"}], \"scatterternary\": [{\"marker\": {\"colorbar\": {\"outlinewidth\": 0, \"ticks\": \"\"}}, \"type\": \"scatterternary\"}], \"surface\": [{\"colorbar\": {\"outlinewidth\": 0, \"ticks\": \"\"}, \"colorscale\": [[0.0, \"#0d0887\"], [0.1111111111111111, \"#46039f\"], [0.2222222222222222, \"#7201a8\"], [0.3333333333333333, \"#9c179e\"], [0.4444444444444444, \"#bd3786\"], [0.5555555555555556, \"#d8576b\"], [0.6666666666666666, \"#ed7953\"], [0.7777777777777778, \"#fb9f3a\"], [0.8888888888888888, \"#fdca26\"], [1.0, \"#f0f921\"]], \"type\": \"surface\"}], \"table\": [{\"cells\": {\"fill\": {\"color\": \"#EBF0F8\"}, \"line\": {\"color\": \"white\"}}, \"header\": {\"fill\": {\"color\": \"#C8D4E3\"}, \"line\": {\"color\": \"white\"}}, \"type\": \"table\"}]}, \"layout\": {\"annotationdefaults\": {\"arrowcolor\": \"#2a3f5f\", \"arrowhead\": 0, \"arrowwidth\": 1}, \"coloraxis\": {\"colorbar\": {\"outlinewidth\": 0, \"ticks\": \"\"}}, \"colorscale\": {\"diverging\": [[0, \"#8e0152\"], [0.1, \"#c51b7d\"], [0.2, \"#de77ae\"], [0.3, \"#f1b6da\"], [0.4, \"#fde0ef\"], [0.5, \"#f7f7f7\"], [0.6, \"#e6f5d0\"], [0.7, \"#b8e186\"], [0.8, \"#7fbc41\"], [0.9, \"#4d9221\"], [1, \"#276419\"]], \"sequential\": [[0.0, \"#0d0887\"], [0.1111111111111111, \"#46039f\"], [0.2222222222222222, \"#7201a8\"], [0.3333333333333333, \"#9c179e\"], [0.4444444444444444, \"#bd3786\"], [0.5555555555555556, \"#d8576b\"], [0.6666666666666666, \"#ed7953\"], [0.7777777777777778, \"#fb9f3a\"], [0.8888888888888888, \"#fdca26\"], [1.0, \"#f0f921\"]], \"sequentialminus\": [[0.0, \"#0d0887\"], [0.1111111111111111, \"#46039f\"], [0.2222222222222222, \"#7201a8\"], [0.3333333333333333, \"#9c179e\"], [0.4444444444444444, \"#bd3786\"], [0.5555555555555556, \"#d8576b\"], [0.6666666666666666, \"#ed7953\"], [0.7777777777777778, \"#fb9f3a\"], [0.8888888888888888, \"#fdca26\"], [1.0, \"#f0f921\"]]}, \"colorway\": [\"#636efa\", \"#EF553B\", \"#00cc96\", \"#ab63fa\", \"#FFA15A\", \"#19d3f3\", \"#FF6692\", \"#B6E880\", \"#FF97FF\", \"#FECB52\"], \"font\": {\"color\": \"#2a3f5f\"}, \"geo\": {\"bgcolor\": \"white\", \"lakecolor\": \"white\", \"landcolor\": \"#E5ECF6\", \"showlakes\": true, \"showland\": true, \"subunitcolor\": \"white\"}, \"hoverlabel\": {\"align\": \"left\"}, \"hovermode\": \"closest\", \"mapbox\": {\"style\": \"light\"}, \"paper_bgcolor\": \"white\", \"plot_bgcolor\": \"#E5ECF6\", \"polar\": {\"angularaxis\": {\"gridcolor\": \"white\", \"linecolor\": \"white\", \"ticks\": \"\"}, \"bgcolor\": \"#E5ECF6\", \"radialaxis\": {\"gridcolor\": \"white\", \"linecolor\": \"white\", \"ticks\": \"\"}}, \"scene\": {\"xaxis\": {\"backgroundcolor\": \"#E5ECF6\", \"gridcolor\": \"white\", \"gridwidth\": 2, \"linecolor\": \"white\", \"showbackground\": true, \"ticks\": \"\", \"zerolinecolor\": \"white\"}, \"yaxis\": {\"backgroundcolor\": \"#E5ECF6\", \"gridcolor\": \"white\", \"gridwidth\": 2, \"linecolor\": \"white\", \"showbackground\": true, \"ticks\": \"\", \"zerolinecolor\": \"white\"}, \"zaxis\": {\"backgroundcolor\": \"#E5ECF6\", \"gridcolor\": \"white\", \"gridwidth\": 2, \"linecolor\": \"white\", \"showbackground\": true, \"ticks\": \"\", \"zerolinecolor\": \"white\"}}, \"shapedefaults\": {\"line\": {\"color\": \"#2a3f5f\"}}, \"ternary\": {\"aaxis\": {\"gridcolor\": \"white\", \"linecolor\": \"white\", \"ticks\": \"\"}, \"baxis\": {\"gridcolor\": \"white\", \"linecolor\": \"white\", \"ticks\": \"\"}, \"bgcolor\": \"#E5ECF6\", \"caxis\": {\"gridcolor\": \"white\", \"linecolor\": \"white\", \"ticks\": \"\"}}, \"title\": {\"x\": 0.05}, \"xaxis\": {\"automargin\": true, \"gridcolor\": \"white\", \"linecolor\": \"white\", \"ticks\": \"\", \"title\": {\"standoff\": 15}, \"zerolinecolor\": \"white\", \"zerolinewidth\": 2}, \"yaxis\": {\"automargin\": true, \"gridcolor\": \"white\", \"linecolor\": \"white\", \"ticks\": \"\", \"title\": {\"standoff\": 15}, \"zerolinecolor\": \"white\", \"zerolinewidth\": 2}}}, \"title\": {\"text\": \"COVID-19 Worldwide Confirmed Cases on 5/31/20\"}},\n",
       "                        {\"responsive\": true}\n",
       "                    ).then(function(){\n",
       "                            \n",
       "var gd = document.getElementById('dc26758b-c264-4930-b79c-c047b83b0099');\n",
       "var x = new MutationObserver(function (mutations, observer) {{\n",
       "        var display = window.getComputedStyle(gd).display;\n",
       "        if (!display || display === 'none') {{\n",
       "            console.log([gd, 'removed!']);\n",
       "            Plotly.purge(gd);\n",
       "            observer.disconnect();\n",
       "        }}\n",
       "}});\n",
       "\n",
       "// Listen for the removal of the full notebook cells\n",
       "var notebookContainer = gd.closest('#notebook-container');\n",
       "if (notebookContainer) {{\n",
       "    x.observe(notebookContainer, {childList: true});\n",
       "}}\n",
       "\n",
       "// Listen for the clearing of the current output cell\n",
       "var outputEl = gd.closest('.output');\n",
       "if (outputEl) {{\n",
       "    x.observe(outputEl, {childList: true});\n",
       "}}\n",
       "\n",
       "                        })\n",
       "                };\n",
       "                });\n",
       "            </script>\n",
       "        </div>"
      ]
     },
     "metadata": {},
     "output_type": "display_data"
    }
   ],
   "source": [
    "# Code to generate visualization for one day\n",
    "\n",
    "# This value can be changed to view a visualization for a specific day\n",
    "day = \"5/31/20\"\n",
    "\n",
    "px.scatter_geo(\n",
    "    df,\n",
    "    size = day,\n",
    "    hover_name = \"Country/Region\",\n",
    "    color = \"Country/Region\",\n",
    "    lon = \"Long\",\n",
    "    lat = \"Lat\",\n",
    "    projection = \"orthographic\",\n",
    "    size_max = 75,\n",
    "    title = \"COVID-19 Worldwide Confirmed Cases on \" + str(day)\n",
    ")"
   ]
  }
 ],
 "metadata": {
  "kernelspec": {
   "display_name": "Python 3",
   "language": "python",
   "name": "python3"
  },
  "language_info": {
   "codemirror_mode": {
    "name": "ipython",
    "version": 3
   },
   "file_extension": ".py",
   "mimetype": "text/x-python",
   "name": "python",
   "nbconvert_exporter": "python",
   "pygments_lexer": "ipython3",
   "version": "3.7.6"
  }
 },
 "nbformat": 4,
 "nbformat_minor": 4
}
